{
 "cells": [
  {
   "cell_type": "markdown",
   "metadata": {},
   "source": [
    "# Knowledge Graph Construction Using AI\n",
    "This notebook demonstrates the construction of a knowledge graph using AI techniques. We will use two different AI models to construct the knowledge graph and compare their performance.\n"
   ]
  },
  {
   "cell_type": "code",
   "execution_count": 7,
   "metadata": {},
   "outputs": [
    {
     "name": "stdout",
     "output_type": "stream",
     "text": [
      "All files: ['indicatorDataMeta.json5', 'indicatorPivotDataMeta.json5', 'sdgIndicatorData__1.1.1.json5', 'sdgIndicatorData__1.2.1.json5', 'sdgIndicatorData__1.2.2.json5', 'sdgIndicatorData__1.3.1.json5', 'sdgIndicatorData__1.4.1.json5', 'sdgIndicatorData__1.4.2.json5', 'sdgIndicatorData__1.5.1.json5', 'sdgIndicatorData__1.5.2.json5', 'sdgIndicatorData__1.5.3.json5', 'sdgIndicatorData__1.5.4.json5', 'sdgIndicatorData__1.a.1.json5', 'sdgIndicatorData__1.a.2.json5', 'sdgIndicatorData__1.b.1.json5', 'sdgIndicatorData__10.1.1.json5', 'sdgIndicatorData__10.2.1.json5', 'sdgIndicatorData__10.3.1.json5', 'sdgIndicatorData__10.4.1.json5', 'sdgIndicatorData__10.4.2.json5', 'sdgIndicatorData__10.5.1.json5', 'sdgIndicatorData__10.6.1.json5', 'sdgIndicatorData__10.7.1.json5', 'sdgIndicatorData__10.7.2.json5', 'sdgIndicatorData__10.7.3.json5', 'sdgIndicatorData__10.7.4.json5', 'sdgIndicatorData__10.a.1.json5', 'sdgIndicatorData__10.b.1.json5', 'sdgIndicatorData__10.c.1.json5', 'sdgIndicatorData__11.1.1.json5', 'sdgIndicatorData__11.2.1.json5', 'sdgIndicatorData__11.3.1.json5', 'sdgIndicatorData__11.3.2.json5', 'sdgIndicatorData__11.4.1.json5', 'sdgIndicatorData__11.5.1.json5', 'sdgIndicatorData__11.5.2.json5', 'sdgIndicatorData__11.5.3.json5', 'sdgIndicatorData__11.6.1.json5', 'sdgIndicatorData__11.6.2.json5', 'sdgIndicatorData__11.7.1.json5', 'sdgIndicatorData__11.7.2.json5', 'sdgIndicatorData__11.a.1.json5', 'sdgIndicatorData__11.b.1.json5', 'sdgIndicatorData__11.b.2.json5', 'sdgIndicatorData__12.1.1.json5', 'sdgIndicatorData__12.2.1.json5', 'sdgIndicatorData__12.2.2.json5', 'sdgIndicatorData__12.3.1.json5', 'sdgIndicatorData__12.4.1.json5', 'sdgIndicatorData__12.4.2.json5', 'sdgIndicatorData__12.5.1.json5', 'sdgIndicatorData__12.6.1.json5', 'sdgIndicatorData__12.7.1.json5', 'sdgIndicatorData__12.8.1.json5', 'sdgIndicatorData__12.a.1.json5', 'sdgIndicatorData__12.b.1.json5', 'sdgIndicatorData__12.c.1.json5', 'sdgIndicatorData__13.1.1.json5', 'sdgIndicatorData__13.1.2.json5', 'sdgIndicatorData__13.1.3.json5', 'sdgIndicatorData__13.2.1.json5', 'sdgIndicatorData__13.2.2.json5', 'sdgIndicatorData__13.3.1.json5', 'sdgIndicatorData__13.a.1.json5', 'sdgIndicatorData__13.b.1.json5', 'sdgIndicatorData__14.1.1.json5', 'sdgIndicatorData__14.2.1.json5', 'sdgIndicatorData__14.3.1.json5', 'sdgIndicatorData__14.4.1.json5', 'sdgIndicatorData__14.5.1.json5', 'sdgIndicatorData__14.6.1.json5', 'sdgIndicatorData__14.7.1.json5', 'sdgIndicatorData__14.a.1.json5', 'sdgIndicatorData__14.b.1.json5', 'sdgIndicatorData__14.c.1.json5', 'sdgIndicatorData__15.1.1.json5', 'sdgIndicatorData__15.1.2.json5', 'sdgIndicatorData__15.2.1.json5', 'sdgIndicatorData__15.3.1.json5', 'sdgIndicatorData__15.4.1.json5', 'sdgIndicatorData__15.4.2.json5', 'sdgIndicatorData__15.5.1.json5', 'sdgIndicatorData__15.6.1.json5', 'sdgIndicatorData__15.7.1.json5', 'sdgIndicatorData__15.8.1.json5', 'sdgIndicatorData__15.9.1.json5', 'sdgIndicatorData__15.a.1.json5', 'sdgIndicatorData__15.b.1.json5', 'sdgIndicatorData__15.c.1.json5', 'sdgIndicatorData__16.1.1.json5', 'sdgIndicatorData__16.1.2.json5', 'sdgIndicatorData__16.1.3.json5', 'sdgIndicatorData__16.1.4.json5', 'sdgIndicatorData__16.10.1.json5', 'sdgIndicatorData__16.10.2.json5', 'sdgIndicatorData__16.2.1.json5', 'sdgIndicatorData__16.2.2.json5', 'sdgIndicatorData__16.2.3.json5', 'sdgIndicatorData__16.3.1.json5', 'sdgIndicatorData__16.3.2.json5', 'sdgIndicatorData__16.3.3.json5', 'sdgIndicatorData__16.4.1.json5', 'sdgIndicatorData__16.4.2.json5', 'sdgIndicatorData__16.5.1.json5', 'sdgIndicatorData__16.5.2.json5', 'sdgIndicatorData__16.6.1.json5', 'sdgIndicatorData__16.6.2.json5', 'sdgIndicatorData__16.7.1.json5', 'sdgIndicatorData__16.7.2.json5', 'sdgIndicatorData__16.8.1.json5', 'sdgIndicatorData__16.9.1.json5', 'sdgIndicatorData__16.a.1.json5', 'sdgIndicatorData__16.b.1.json5', 'sdgIndicatorData__17.1.1.json5', 'sdgIndicatorData__17.1.2.json5', 'sdgIndicatorData__17.10.1.json5', 'sdgIndicatorData__17.11.1.json5', 'sdgIndicatorData__17.12.1.json5', 'sdgIndicatorData__17.13.1.json5', 'sdgIndicatorData__17.14.1.json5', 'sdgIndicatorData__17.15.1.json5', 'sdgIndicatorData__17.16.1.json5', 'sdgIndicatorData__17.17.1.json5', 'sdgIndicatorData__17.18.1.json5', 'sdgIndicatorData__17.18.2.json5', 'sdgIndicatorData__17.18.3.json5', 'sdgIndicatorData__17.19.1.json5', 'sdgIndicatorData__17.19.2.json5', 'sdgIndicatorData__17.2.1.json5', 'sdgIndicatorData__17.3.1.json5', 'sdgIndicatorData__17.3.2.json5', 'sdgIndicatorData__17.4.1.json5', 'sdgIndicatorData__17.5.1.json5', 'sdgIndicatorData__17.6.1.json5', 'sdgIndicatorData__17.7.1.json5', 'sdgIndicatorData__17.8.1.json5', 'sdgIndicatorData__17.9.1.json5', 'sdgIndicatorData__2.1.1.json5', 'sdgIndicatorData__2.1.2.json5', 'sdgIndicatorData__2.2.1.json5', 'sdgIndicatorData__2.2.2.json5', 'sdgIndicatorData__2.2.3.json5', 'sdgIndicatorData__2.3.1.json5', 'sdgIndicatorData__2.3.2.json5', 'sdgIndicatorData__2.4.1.json5', 'sdgIndicatorData__2.5.1.json5', 'sdgIndicatorData__2.5.2.json5', 'sdgIndicatorData__2.a.1.json5', 'sdgIndicatorData__2.a.2.json5', 'sdgIndicatorData__2.b.1.json5', 'sdgIndicatorData__2.c.1.json5', 'sdgIndicatorData__3.1.1.json5', 'sdgIndicatorData__3.1.2.json5', 'sdgIndicatorData__3.2.1.json5', 'sdgIndicatorData__3.2.2.json5', 'sdgIndicatorData__3.3.1.json5', 'sdgIndicatorData__3.3.2.json5', 'sdgIndicatorData__3.3.3.json5', 'sdgIndicatorData__3.3.4.json5', 'sdgIndicatorData__3.3.5.json5', 'sdgIndicatorData__3.4.1.json5', 'sdgIndicatorData__3.4.2.json5', 'sdgIndicatorData__3.5.1.json5', 'sdgIndicatorData__3.5.2.json5', 'sdgIndicatorData__3.6.1.json5', 'sdgIndicatorData__3.7.1.json5', 'sdgIndicatorData__3.7.2.json5', 'sdgIndicatorData__3.8.1.json5', 'sdgIndicatorData__3.8.2.json5', 'sdgIndicatorData__3.9.1.json5', 'sdgIndicatorData__3.9.2.json5', 'sdgIndicatorData__3.9.3.json5', 'sdgIndicatorData__3.a.1.json5', 'sdgIndicatorData__3.b.1.json5', 'sdgIndicatorData__3.b.2.json5', 'sdgIndicatorData__3.b.3.json5', 'sdgIndicatorData__3.c.1.json5', 'sdgIndicatorData__3.d.1.json5', 'sdgIndicatorData__3.d.2.json5', 'sdgIndicatorData__4.1.1.json5', 'sdgIndicatorData__4.1.2.json5', 'sdgIndicatorData__4.2.1.json5', 'sdgIndicatorData__4.2.2.json5', 'sdgIndicatorData__4.3.1.json5', 'sdgIndicatorData__4.4.1.json5', 'sdgIndicatorData__4.5.1.json5', 'sdgIndicatorData__4.6.1.json5', 'sdgIndicatorData__4.7.1.json5', 'sdgIndicatorData__4.a.1.json5', 'sdgIndicatorData__4.b.1.json5', 'sdgIndicatorData__4.c.1.json5', 'sdgIndicatorData__5.1.1.json5', 'sdgIndicatorData__5.2.1.json5', 'sdgIndicatorData__5.2.2.json5', 'sdgIndicatorData__5.3.1.json5', 'sdgIndicatorData__5.3.2.json5', 'sdgIndicatorData__5.4.1.json5', 'sdgIndicatorData__5.5.1.json5', 'sdgIndicatorData__5.5.2.json5', 'sdgIndicatorData__5.6.1.json5', 'sdgIndicatorData__5.6.2.json5', 'sdgIndicatorData__5.a.1.json5', 'sdgIndicatorData__5.a.2.json5', 'sdgIndicatorData__5.b.1.json5', 'sdgIndicatorData__5.c.1.json5', 'sdgIndicatorData__6.1.1.json5', 'sdgIndicatorData__6.2.1.json5', 'sdgIndicatorData__6.3.1.json5', 'sdgIndicatorData__6.3.2.json5', 'sdgIndicatorData__6.4.1.json5', 'sdgIndicatorData__6.4.2.json5', 'sdgIndicatorData__6.5.1.json5', 'sdgIndicatorData__6.5.2.json5', 'sdgIndicatorData__6.6.1.json5', 'sdgIndicatorData__6.a.1.json5', 'sdgIndicatorData__6.b.1.json5', 'sdgIndicatorData__7.1.1.json5', 'sdgIndicatorData__7.1.2.json5', 'sdgIndicatorData__7.2.1.json5', 'sdgIndicatorData__7.3.1.json5', 'sdgIndicatorData__7.a.1.json5', 'sdgIndicatorData__7.b.1.json5', 'sdgIndicatorData__8.1.1.json5', 'sdgIndicatorData__8.10.1.json5', 'sdgIndicatorData__8.10.2.json5', 'sdgIndicatorData__8.2.1.json5', 'sdgIndicatorData__8.3.1.json5', 'sdgIndicatorData__8.4.1.json5', 'sdgIndicatorData__8.4.2.json5', 'sdgIndicatorData__8.5.1.json5', 'sdgIndicatorData__8.5.2.json5', 'sdgIndicatorData__8.6.1.json5', 'sdgIndicatorData__8.7.1.json5', 'sdgIndicatorData__8.8.1.json5', 'sdgIndicatorData__8.8.2.json5', 'sdgIndicatorData__8.9.1.json5', 'sdgIndicatorData__8.a.1.json5', 'sdgIndicatorData__8.b.1.json5', 'sdgIndicatorData__9.1.1.json5', 'sdgIndicatorData__9.1.2.json5', 'sdgIndicatorData__9.2.1.json5', 'sdgIndicatorData__9.2.2.json5', 'sdgIndicatorData__9.3.1.json5', 'sdgIndicatorData__9.3.2.json5', 'sdgIndicatorData__9.4.1.json5', 'sdgIndicatorData__9.5.1.json5', 'sdgIndicatorData__9.5.2.json5', 'sdgIndicatorData__9.a.1.json5', 'sdgIndicatorData__9.b.1.json5', 'sdgIndicatorData__9.c.1.json5', 'sdgIndicatorPivotData__1.1.1.json5', 'sdgIndicatorPivotData__1.2.1.json5', 'sdgIndicatorPivotData__1.2.2.json5', 'sdgIndicatorPivotData__1.3.1.json5', 'sdgIndicatorPivotData__1.4.1.json5', 'sdgIndicatorPivotData__1.4.2.json5', 'sdgIndicatorPivotData__1.5.1.json5', 'sdgIndicatorPivotData__1.5.2.json5', 'sdgIndicatorPivotData__1.5.3.json5', 'sdgIndicatorPivotData__1.5.4.json5', 'sdgIndicatorPivotData__1.a.1.json5', 'sdgIndicatorPivotData__1.a.2.json5', 'sdgIndicatorPivotData__1.b.1.json5', 'sdgIndicatorPivotData__10.1.1.json5', 'sdgIndicatorPivotData__10.2.1.json5', 'sdgIndicatorPivotData__10.3.1.json5', 'sdgIndicatorPivotData__10.4.1.json5', 'sdgIndicatorPivotData__10.4.2.json5', 'sdgIndicatorPivotData__10.5.1.json5', 'sdgIndicatorPivotData__10.6.1.json5', 'sdgIndicatorPivotData__10.7.1.json5', 'sdgIndicatorPivotData__10.7.2.json5', 'sdgIndicatorPivotData__10.7.3.json5', 'sdgIndicatorPivotData__10.7.4.json5', 'sdgIndicatorPivotData__10.a.1.json5', 'sdgIndicatorPivotData__10.b.1.json5', 'sdgIndicatorPivotData__10.c.1.json5', 'sdgIndicatorPivotData__11.1.1.json5', 'sdgIndicatorPivotData__11.2.1.json5', 'sdgIndicatorPivotData__11.3.1.json5', 'sdgIndicatorPivotData__11.3.2.json5', 'sdgIndicatorPivotData__11.4.1.json5', 'sdgIndicatorPivotData__11.5.1.json5', 'sdgIndicatorPivotData__11.5.2.json5', 'sdgIndicatorPivotData__11.5.3.json5', 'sdgIndicatorPivotData__11.6.1.json5', 'sdgIndicatorPivotData__11.6.2.json5', 'sdgIndicatorPivotData__11.7.1.json5', 'sdgIndicatorPivotData__11.7.2.json5', 'sdgIndicatorPivotData__11.a.1.json5', 'sdgIndicatorPivotData__11.b.1.json5', 'sdgIndicatorPivotData__11.b.2.json5', 'sdgIndicatorPivotData__12.1.1.json5', 'sdgIndicatorPivotData__12.2.1.json5', 'sdgIndicatorPivotData__12.2.2.json5', 'sdgIndicatorPivotData__12.3.1.json5', 'sdgIndicatorPivotData__12.4.1.json5', 'sdgIndicatorPivotData__12.4.2.json5', 'sdgIndicatorPivotData__12.5.1.json5', 'sdgIndicatorPivotData__12.6.1.json5', 'sdgIndicatorPivotData__12.7.1.json5', 'sdgIndicatorPivotData__12.8.1.json5', 'sdgIndicatorPivotData__12.a.1.json5', 'sdgIndicatorPivotData__12.b.1.json5', 'sdgIndicatorPivotData__12.c.1.json5', 'sdgIndicatorPivotData__13.1.1.json5', 'sdgIndicatorPivotData__13.1.2.json5', 'sdgIndicatorPivotData__13.1.3.json5', 'sdgIndicatorPivotData__13.2.1.json5', 'sdgIndicatorPivotData__13.2.2.json5', 'sdgIndicatorPivotData__13.3.1.json5', 'sdgIndicatorPivotData__13.a.1.json5', 'sdgIndicatorPivotData__13.b.1.json5', 'sdgIndicatorPivotData__14.1.1.json5', 'sdgIndicatorPivotData__14.2.1.json5', 'sdgIndicatorPivotData__14.3.1.json5', 'sdgIndicatorPivotData__14.4.1.json5', 'sdgIndicatorPivotData__14.5.1.json5', 'sdgIndicatorPivotData__14.6.1.json5', 'sdgIndicatorPivotData__14.7.1.json5', 'sdgIndicatorPivotData__14.a.1.json5', 'sdgIndicatorPivotData__14.b.1.json5', 'sdgIndicatorPivotData__14.c.1.json5', 'sdgIndicatorPivotData__15.1.1.json5', 'sdgIndicatorPivotData__15.1.2.json5', 'sdgIndicatorPivotData__15.2.1.json5', 'sdgIndicatorPivotData__15.3.1.json5', 'sdgIndicatorPivotData__15.4.1.json5', 'sdgIndicatorPivotData__15.4.2.json5', 'sdgIndicatorPivotData__15.5.1.json5', 'sdgIndicatorPivotData__15.6.1.json5', 'sdgIndicatorPivotData__15.7.1.json5', 'sdgIndicatorPivotData__15.8.1.json5', 'sdgIndicatorPivotData__15.9.1.json5', 'sdgIndicatorPivotData__15.a.1.json5', 'sdgIndicatorPivotData__15.b.1.json5', 'sdgIndicatorPivotData__15.c.1.json5', 'sdgIndicatorPivotData__16.1.1.json5', 'sdgIndicatorPivotData__16.1.2.json5', 'sdgIndicatorPivotData__16.1.3.json5', 'sdgIndicatorPivotData__16.1.4.json5', 'sdgIndicatorPivotData__16.10.1.json5', 'sdgIndicatorPivotData__16.10.2.json5', 'sdgIndicatorPivotData__16.2.1.json5', 'sdgIndicatorPivotData__16.2.2.json5', 'sdgIndicatorPivotData__16.2.3.json5', 'sdgIndicatorPivotData__16.3.1.json5', 'sdgIndicatorPivotData__16.3.2.json5', 'sdgIndicatorPivotData__16.3.3.json5', 'sdgIndicatorPivotData__16.4.1.json5', 'sdgIndicatorPivotData__16.4.2.json5', 'sdgIndicatorPivotData__16.5.1.json5', 'sdgIndicatorPivotData__16.5.2.json5', 'sdgIndicatorPivotData__16.6.1.json5', 'sdgIndicatorPivotData__16.6.2.json5', 'sdgIndicatorPivotData__16.7.1.json5', 'sdgIndicatorPivotData__16.7.2.json5', 'sdgIndicatorPivotData__16.8.1.json5', 'sdgIndicatorPivotData__16.9.1.json5', 'sdgIndicatorPivotData__16.a.1.json5', 'sdgIndicatorPivotData__16.b.1.json5', 'sdgIndicatorPivotData__17.1.1.json5', 'sdgIndicatorPivotData__17.1.2.json5', 'sdgIndicatorPivotData__17.10.1.json5', 'sdgIndicatorPivotData__17.11.1.json5', 'sdgIndicatorPivotData__17.12.1.json5', 'sdgIndicatorPivotData__17.13.1.json5', 'sdgIndicatorPivotData__17.14.1.json5', 'sdgIndicatorPivotData__17.15.1.json5', 'sdgIndicatorPivotData__17.16.1.json5', 'sdgIndicatorPivotData__17.17.1.json5', 'sdgIndicatorPivotData__17.18.1.json5', 'sdgIndicatorPivotData__17.18.2.json5', 'sdgIndicatorPivotData__17.18.3.json5', 'sdgIndicatorPivotData__17.19.1.json5', 'sdgIndicatorPivotData__17.19.2.json5', 'sdgIndicatorPivotData__17.2.1.json5', 'sdgIndicatorPivotData__17.3.1.json5', 'sdgIndicatorPivotData__17.3.2.json5', 'sdgIndicatorPivotData__17.4.1.json5', 'sdgIndicatorPivotData__17.5.1.json5', 'sdgIndicatorPivotData__17.6.1.json5', 'sdgIndicatorPivotData__17.7.1.json5', 'sdgIndicatorPivotData__17.8.1.json5', 'sdgIndicatorPivotData__17.9.1.json5', 'sdgIndicatorPivotData__2.1.1.json5', 'sdgIndicatorPivotData__2.1.2.json5', 'sdgIndicatorPivotData__2.2.1.json5', 'sdgIndicatorPivotData__2.2.2.json5', 'sdgIndicatorPivotData__2.2.3.json5', 'sdgIndicatorPivotData__2.3.1.json5', 'sdgIndicatorPivotData__2.3.2.json5', 'sdgIndicatorPivotData__2.4.1.json5', 'sdgIndicatorPivotData__2.5.1.json5', 'sdgIndicatorPivotData__2.5.2.json5', 'sdgIndicatorPivotData__2.a.1.json5', 'sdgIndicatorPivotData__2.a.2.json5', 'sdgIndicatorPivotData__2.b.1.json5', 'sdgIndicatorPivotData__2.c.1.json5', 'sdgIndicatorPivotData__3.1.1.json5', 'sdgIndicatorPivotData__3.1.2.json5', 'sdgIndicatorPivotData__3.2.1.json5', 'sdgIndicatorPivotData__3.2.2.json5', 'sdgIndicatorPivotData__3.3.1.json5', 'sdgIndicatorPivotData__3.3.2.json5', 'sdgIndicatorPivotData__3.3.3.json5', 'sdgIndicatorPivotData__3.3.4.json5', 'sdgIndicatorPivotData__3.3.5.json5', 'sdgIndicatorPivotData__3.4.1.json5', 'sdgIndicatorPivotData__3.4.2.json5', 'sdgIndicatorPivotData__3.5.1.json5', 'sdgIndicatorPivotData__3.5.2.json5', 'sdgIndicatorPivotData__3.6.1.json5', 'sdgIndicatorPivotData__3.7.1.json5', 'sdgIndicatorPivotData__3.7.2.json5', 'sdgIndicatorPivotData__3.8.1.json5', 'sdgIndicatorPivotData__3.8.2.json5', 'sdgIndicatorPivotData__3.9.1.json5', 'sdgIndicatorPivotData__3.9.2.json5', 'sdgIndicatorPivotData__3.9.3.json5', 'sdgIndicatorPivotData__3.a.1.json5', 'sdgIndicatorPivotData__3.b.1.json5', 'sdgIndicatorPivotData__3.b.2.json5', 'sdgIndicatorPivotData__3.b.3.json5', 'sdgIndicatorPivotData__3.c.1.json5', 'sdgIndicatorPivotData__3.d.1.json5', 'sdgIndicatorPivotData__3.d.2.json5', 'sdgIndicatorPivotData__4.1.1.json5', 'sdgIndicatorPivotData__4.1.2.json5', 'sdgIndicatorPivotData__4.2.1.json5', 'sdgIndicatorPivotData__4.2.2.json5', 'sdgIndicatorPivotData__4.3.1.json5', 'sdgIndicatorPivotData__4.4.1.json5', 'sdgIndicatorPivotData__4.5.1.json5', 'sdgIndicatorPivotData__4.6.1.json5', 'sdgIndicatorPivotData__4.7.1.json5', 'sdgIndicatorPivotData__4.a.1.json5', 'sdgIndicatorPivotData__4.b.1.json5', 'sdgIndicatorPivotData__4.c.1.json5', 'sdgIndicatorPivotData__5.1.1.json5', 'sdgIndicatorPivotData__5.2.1.json5', 'sdgIndicatorPivotData__5.2.2.json5', 'sdgIndicatorPivotData__5.3.1.json5', 'sdgIndicatorPivotData__5.3.2.json5', 'sdgIndicatorPivotData__5.4.1.json5', 'sdgIndicatorPivotData__5.5.1.json5', 'sdgIndicatorPivotData__5.5.2.json5', 'sdgIndicatorPivotData__5.6.1.json5', 'sdgIndicatorPivotData__5.6.2.json5', 'sdgIndicatorPivotData__5.a.1.json5', 'sdgIndicatorPivotData__5.a.2.json5', 'sdgIndicatorPivotData__5.b.1.json5', 'sdgIndicatorPivotData__5.c.1.json5', 'sdgIndicatorPivotData__6.1.1.json5', 'sdgIndicatorPivotData__6.2.1.json5', 'sdgIndicatorPivotData__6.3.1.json5', 'sdgIndicatorPivotData__6.3.2.json5', 'sdgIndicatorPivotData__6.4.1.json5', 'sdgIndicatorPivotData__6.4.2.json5', 'sdgIndicatorPivotData__6.5.1.json5', 'sdgIndicatorPivotData__6.5.2.json5', 'sdgIndicatorPivotData__6.6.1.json5', 'sdgIndicatorPivotData__6.a.1.json5', 'sdgIndicatorPivotData__6.b.1.json5', 'sdgIndicatorPivotData__7.1.1.json5', 'sdgIndicatorPivotData__7.1.2.json5', 'sdgIndicatorPivotData__7.2.1.json5', 'sdgIndicatorPivotData__7.3.1.json5', 'sdgIndicatorPivotData__7.a.1.json5', 'sdgIndicatorPivotData__7.b.1.json5', 'sdgIndicatorPivotData__8.1.1.json5', 'sdgIndicatorPivotData__8.10.1.json5', 'sdgIndicatorPivotData__8.10.2.json5', 'sdgIndicatorPivotData__8.2.1.json5', 'sdgIndicatorPivotData__8.3.1.json5', 'sdgIndicatorPivotData__8.4.1.json5', 'sdgIndicatorPivotData__8.4.2.json5', 'sdgIndicatorPivotData__8.5.1.json5', 'sdgIndicatorPivotData__8.5.2.json5', 'sdgIndicatorPivotData__8.6.1.json5', 'sdgIndicatorPivotData__8.7.1.json5', 'sdgIndicatorPivotData__8.8.1.json5', 'sdgIndicatorPivotData__8.8.2.json5', 'sdgIndicatorPivotData__8.9.1.json5', 'sdgIndicatorPivotData__8.a.1.json5', 'sdgIndicatorPivotData__8.b.1.json5', 'sdgIndicatorPivotData__9.1.1.json5', 'sdgIndicatorPivotData__9.1.2.json5', 'sdgIndicatorPivotData__9.2.1.json5', 'sdgIndicatorPivotData__9.2.2.json5', 'sdgIndicatorPivotData__9.3.1.json5', 'sdgIndicatorPivotData__9.3.2.json5', 'sdgIndicatorPivotData__9.4.1.json5', 'sdgIndicatorPivotData__9.5.1.json5', 'sdgIndicatorPivotData__9.5.2.json5', 'sdgIndicatorPivotData__9.a.1.json5', 'sdgIndicatorPivotData__9.b.1.json5', 'sdgIndicatorPivotData__9.c.1.json5']\n"
     ]
    }
   ],
   "source": [
    "import os\n",
    "\n",
    "data_dir = 'data/reduced_mixed_3/reduced_mixed_3'\n",
    "\n",
    "all_files = os.listdir(data_dir)\n",
    "print(f\"All files: {all_files}\")\n"
   ]
  },
  {
   "cell_type": "markdown",
   "metadata": {},
   "source": [
    "# Data Loading and Preprocessing:\n",
    "* Loads SDG indicator data from multiple JSON5 files.\n",
    "* Inspects and verifies data structure."
   ]
  },
  {
   "cell_type": "code",
   "execution_count": 8,
   "metadata": {},
   "outputs": [
    {
     "name": "stdout",
     "output_type": "stream",
     "text": [
      "Loaded data from sdgIndicatorData__1.1.1.json5: dict_keys(['size', 'totalElements', 'totalPages', 'pageNumber', 'data'])\n",
      "Loaded data from sdgIndicatorData__1.2.1.json5: dict_keys(['size', 'totalElements', 'totalPages', 'pageNumber', 'data'])\n",
      "Loaded data from sdgIndicatorData__1.2.2.json5: dict_keys(['size', 'totalElements', 'totalPages', 'pageNumber', 'data'])\n",
      "Loaded data from sdgIndicatorData__1.3.1.json5: dict_keys(['size', 'totalElements', 'totalPages', 'pageNumber', 'data'])\n",
      "Loaded data from sdgIndicatorData__1.4.1.json5: dict_keys(['size', 'totalElements', 'totalPages', 'pageNumber', 'data'])\n",
      "Loaded data from sdgIndicatorData__1.4.2.json5: dict_keys(['size', 'totalElements', 'totalPages', 'pageNumber', 'data'])\n",
      "Loaded data from sdgIndicatorData__1.5.1.json5: dict_keys(['size', 'totalElements', 'totalPages', 'pageNumber', 'data'])\n",
      "Loaded data from sdgIndicatorData__1.5.2.json5: dict_keys(['size', 'totalElements', 'totalPages', 'pageNumber', 'data'])\n",
      "Loaded data from sdgIndicatorData__1.5.3.json5: dict_keys(['size', 'totalElements', 'totalPages', 'pageNumber', 'data'])\n",
      "Loaded data from sdgIndicatorData__1.5.4.json5: dict_keys(['size', 'totalElements', 'totalPages', 'pageNumber', 'data'])\n",
      "Loaded data from sdgIndicatorData__1.a.1.json5: dict_keys(['size', 'totalElements', 'totalPages', 'pageNumber', 'data'])\n",
      "Loaded data from sdgIndicatorData__1.a.2.json5: dict_keys(['size', 'totalElements', 'totalPages', 'pageNumber', 'data'])\n",
      "Loaded data from sdgIndicatorData__1.b.1.json5: dict_keys(['size', 'totalElements', 'totalPages', 'pageNumber', 'data'])\n",
      "Loaded data from sdgIndicatorData__10.1.1.json5: dict_keys(['size', 'totalElements', 'totalPages', 'pageNumber', 'data'])\n",
      "Loaded data from sdgIndicatorData__10.2.1.json5: dict_keys(['size', 'totalElements', 'totalPages', 'pageNumber', 'data'])\n",
      "Loaded data from sdgIndicatorData__10.3.1.json5: dict_keys(['size', 'totalElements', 'totalPages', 'pageNumber', 'data'])\n",
      "Loaded data from sdgIndicatorData__10.4.1.json5: dict_keys(['size', 'totalElements', 'totalPages', 'pageNumber', 'data'])\n",
      "Loaded data from sdgIndicatorData__10.4.2.json5: dict_keys(['size', 'totalElements', 'totalPages', 'pageNumber', 'data'])\n",
      "Loaded data from sdgIndicatorData__10.5.1.json5: dict_keys(['size', 'totalElements', 'totalPages', 'pageNumber', 'data'])\n",
      "Loaded data from sdgIndicatorData__10.6.1.json5: dict_keys(['size', 'totalElements', 'totalPages', 'pageNumber', 'data'])\n",
      "Loaded data from sdgIndicatorData__10.7.1.json5: dict_keys(['size', 'totalElements', 'totalPages', 'pageNumber', 'data'])\n",
      "Error loading data/reduced_mixed_3/reduced_mixed_3\\sdgIndicatorData__10.7.2.json5: 'charmap' codec can't decode byte 0x9d in position 965: character maps to <undefined>\n",
      "Loaded data from sdgIndicatorData__10.7.3.json5: dict_keys(['size', 'totalElements', 'totalPages', 'pageNumber', 'data'])\n",
      "Loaded data from sdgIndicatorData__10.7.4.json5: dict_keys(['size', 'totalElements', 'totalPages', 'pageNumber', 'data'])\n",
      "Loaded data from sdgIndicatorData__10.a.1.json5: dict_keys(['size', 'totalElements', 'totalPages', 'pageNumber', 'data'])\n",
      "Loaded data from sdgIndicatorData__10.b.1.json5: dict_keys(['size', 'totalElements', 'totalPages', 'pageNumber', 'data'])\n",
      "Loaded data from sdgIndicatorData__10.c.1.json5: dict_keys(['size', 'totalElements', 'totalPages', 'pageNumber', 'data'])\n",
      "Loaded data from sdgIndicatorData__11.1.1.json5: dict_keys(['size', 'totalElements', 'totalPages', 'pageNumber', 'data'])\n",
      "Loaded data from sdgIndicatorData__11.2.1.json5: dict_keys(['size', 'totalElements', 'totalPages', 'pageNumber', 'data'])\n",
      "Loaded data from sdgIndicatorData__11.3.1.json5: dict_keys(['size', 'totalElements', 'totalPages', 'pageNumber', 'data'])\n",
      "Loaded data from sdgIndicatorData__11.3.2.json5: dict_keys(['size', 'totalElements', 'totalPages', 'pageNumber', 'data'])\n",
      "Loaded data from sdgIndicatorData__11.4.1.json5: dict_keys(['size', 'totalElements', 'totalPages', 'pageNumber', 'data'])\n",
      "Loaded data from sdgIndicatorData__11.5.1.json5: dict_keys(['size', 'totalElements', 'totalPages', 'pageNumber', 'data'])\n",
      "Loaded data from sdgIndicatorData__11.5.2.json5: dict_keys(['size', 'totalElements', 'totalPages', 'pageNumber', 'data'])\n",
      "Loaded data from sdgIndicatorData__11.5.3.json5: dict_keys(['size', 'totalElements', 'totalPages', 'pageNumber', 'data'])\n",
      "Loaded data from sdgIndicatorData__11.6.1.json5: dict_keys(['size', 'totalElements', 'totalPages', 'pageNumber', 'data'])\n",
      "Loaded data from sdgIndicatorData__11.6.2.json5: dict_keys(['size', 'totalElements', 'totalPages', 'pageNumber', 'data'])\n",
      "Loaded data from sdgIndicatorData__11.7.1.json5: dict_keys(['size', 'totalElements', 'totalPages', 'pageNumber', 'data'])\n",
      "Loaded data from sdgIndicatorData__11.7.2.json5: dict_keys(['size', 'totalElements', 'totalPages', 'pageNumber', 'data'])\n",
      "Loaded data from sdgIndicatorData__11.a.1.json5: dict_keys(['size', 'totalElements', 'totalPages', 'pageNumber', 'data'])\n",
      "Loaded data from sdgIndicatorData__11.b.1.json5: dict_keys(['size', 'totalElements', 'totalPages', 'pageNumber', 'data'])\n",
      "Loaded data from sdgIndicatorData__11.b.2.json5: dict_keys(['size', 'totalElements', 'totalPages', 'pageNumber', 'data'])\n",
      "Loaded data from sdgIndicatorData__12.1.1.json5: dict_keys(['size', 'totalElements', 'totalPages', 'pageNumber', 'data'])\n",
      "Loaded data from sdgIndicatorData__12.2.1.json5: dict_keys(['size', 'totalElements', 'totalPages', 'pageNumber', 'data'])\n",
      "Loaded data from sdgIndicatorData__12.2.2.json5: dict_keys(['size', 'totalElements', 'totalPages', 'pageNumber', 'data'])\n",
      "Loaded data from sdgIndicatorData__12.3.1.json5: dict_keys(['size', 'totalElements', 'totalPages', 'pageNumber', 'data'])\n",
      "Loaded data from sdgIndicatorData__12.4.1.json5: dict_keys(['size', 'totalElements', 'totalPages', 'pageNumber', 'data'])\n",
      "Loaded data from sdgIndicatorData__12.4.2.json5: dict_keys(['size', 'totalElements', 'totalPages', 'pageNumber', 'data'])\n",
      "Loaded data from sdgIndicatorData__12.5.1.json5: dict_keys(['size', 'totalElements', 'totalPages', 'pageNumber', 'data'])\n",
      "Loaded data from sdgIndicatorData__12.6.1.json5: dict_keys(['size', 'totalElements', 'totalPages', 'pageNumber', 'data'])\n",
      "Loaded data from sdgIndicatorData__12.7.1.json5: dict_keys(['size', 'totalElements', 'totalPages', 'pageNumber', 'data'])\n",
      "Loaded data from sdgIndicatorData__12.8.1.json5: dict_keys(['size', 'totalElements', 'totalPages', 'pageNumber', 'data'])\n",
      "Loaded data from sdgIndicatorData__12.a.1.json5: dict_keys(['size', 'totalElements', 'totalPages', 'pageNumber', 'data'])\n",
      "Loaded data from sdgIndicatorData__12.b.1.json5: dict_keys(['size', 'totalElements', 'totalPages', 'pageNumber', 'data'])\n",
      "Loaded data from sdgIndicatorData__12.c.1.json5: dict_keys(['size', 'totalElements', 'totalPages', 'pageNumber', 'data'])\n",
      "Loaded data from sdgIndicatorData__13.1.1.json5: dict_keys(['size', 'totalElements', 'totalPages', 'pageNumber', 'data'])\n",
      "Loaded data from sdgIndicatorData__13.1.2.json5: dict_keys(['size', 'totalElements', 'totalPages', 'pageNumber', 'data'])\n",
      "Loaded data from sdgIndicatorData__13.1.3.json5: dict_keys(['size', 'totalElements', 'totalPages', 'pageNumber', 'data'])\n",
      "Loaded data from sdgIndicatorData__13.2.1.json5: dict_keys(['size', 'totalElements', 'totalPages', 'pageNumber', 'data'])\n",
      "Loaded data from sdgIndicatorData__13.2.2.json5: dict_keys(['size', 'totalElements', 'totalPages', 'pageNumber', 'data'])\n",
      "Loaded data from sdgIndicatorData__13.3.1.json5: dict_keys(['size', 'totalElements', 'totalPages', 'pageNumber', 'data'])\n",
      "Loaded data from sdgIndicatorData__13.a.1.json5: dict_keys(['size', 'totalElements', 'totalPages', 'pageNumber', 'data'])\n",
      "Loaded data from sdgIndicatorData__13.b.1.json5: dict_keys(['size', 'totalElements', 'totalPages', 'pageNumber', 'data'])\n",
      "Loaded data from sdgIndicatorData__14.1.1.json5: dict_keys(['size', 'totalElements', 'totalPages', 'pageNumber', 'data'])\n",
      "Loaded data from sdgIndicatorData__14.2.1.json5: dict_keys(['size', 'totalElements', 'totalPages', 'pageNumber', 'data'])\n",
      "Loaded data from sdgIndicatorData__14.3.1.json5: dict_keys(['size', 'totalElements', 'totalPages', 'pageNumber', 'data'])\n",
      "Loaded data from sdgIndicatorData__14.4.1.json5: dict_keys(['size', 'totalElements', 'totalPages', 'pageNumber', 'data'])\n",
      "Loaded data from sdgIndicatorData__14.5.1.json5: dict_keys(['size', 'totalElements', 'totalPages', 'pageNumber', 'data'])\n",
      "Loaded data from sdgIndicatorData__14.6.1.json5: dict_keys(['size', 'totalElements', 'totalPages', 'pageNumber', 'data'])\n",
      "Loaded data from sdgIndicatorData__14.7.1.json5: dict_keys(['size', 'totalElements', 'totalPages', 'pageNumber', 'data'])\n",
      "Loaded data from sdgIndicatorData__14.a.1.json5: dict_keys(['size', 'totalElements', 'totalPages', 'pageNumber', 'data'])\n",
      "Loaded data from sdgIndicatorData__14.b.1.json5: dict_keys(['size', 'totalElements', 'totalPages', 'pageNumber', 'data'])\n",
      "Loaded data from sdgIndicatorData__14.c.1.json5: dict_keys(['size', 'totalElements', 'totalPages', 'pageNumber', 'data'])\n",
      "Loaded data from sdgIndicatorData__15.1.1.json5: dict_keys(['size', 'totalElements', 'totalPages', 'pageNumber', 'data'])\n",
      "Loaded data from sdgIndicatorData__15.1.2.json5: dict_keys(['size', 'totalElements', 'totalPages', 'pageNumber', 'data'])\n",
      "Loaded data from sdgIndicatorData__15.2.1.json5: dict_keys(['size', 'totalElements', 'totalPages', 'pageNumber', 'data'])\n",
      "Loaded data from sdgIndicatorData__15.3.1.json5: dict_keys(['size', 'totalElements', 'totalPages', 'pageNumber', 'data'])\n",
      "Loaded data from sdgIndicatorData__15.4.1.json5: dict_keys(['size', 'totalElements', 'totalPages', 'pageNumber', 'data'])\n",
      "Loaded data from sdgIndicatorData__15.4.2.json5: dict_keys(['size', 'totalElements', 'totalPages', 'pageNumber', 'data'])\n",
      "Loaded data from sdgIndicatorData__15.5.1.json5: dict_keys(['size', 'totalElements', 'totalPages', 'pageNumber', 'data'])\n",
      "Loaded data from sdgIndicatorData__15.6.1.json5: dict_keys(['size', 'totalElements', 'totalPages', 'pageNumber', 'data'])\n",
      "Loaded data from sdgIndicatorData__15.7.1.json5: dict_keys(['size', 'totalElements', 'totalPages', 'pageNumber', 'data'])\n",
      "Loaded data from sdgIndicatorData__15.8.1.json5: dict_keys(['size', 'totalElements', 'totalPages', 'pageNumber', 'data'])\n",
      "Loaded data from sdgIndicatorData__15.9.1.json5: dict_keys(['size', 'totalElements', 'totalPages', 'pageNumber', 'data'])\n",
      "Loaded data from sdgIndicatorData__15.a.1.json5: dict_keys(['size', 'totalElements', 'totalPages', 'pageNumber', 'data'])\n",
      "Loaded data from sdgIndicatorData__15.b.1.json5: dict_keys(['size', 'totalElements', 'totalPages', 'pageNumber', 'data'])\n",
      "Loaded data from sdgIndicatorData__15.c.1.json5: dict_keys(['size', 'totalElements', 'totalPages', 'pageNumber', 'data'])\n",
      "Loaded data from sdgIndicatorData__16.1.1.json5: dict_keys(['size', 'totalElements', 'totalPages', 'pageNumber', 'data'])\n",
      "Loaded data from sdgIndicatorData__16.1.2.json5: dict_keys(['size', 'totalElements', 'totalPages', 'pageNumber', 'data'])\n",
      "Loaded data from sdgIndicatorData__16.1.3.json5: dict_keys(['size', 'totalElements', 'totalPages', 'pageNumber', 'data'])\n",
      "Loaded data from sdgIndicatorData__16.1.4.json5: dict_keys(['size', 'totalElements', 'totalPages', 'pageNumber', 'data'])\n",
      "Loaded data from sdgIndicatorData__16.10.1.json5: dict_keys(['size', 'totalElements', 'totalPages', 'pageNumber', 'data'])\n",
      "Loaded data from sdgIndicatorData__16.10.2.json5: dict_keys(['size', 'totalElements', 'totalPages', 'pageNumber', 'data'])\n",
      "Loaded data from sdgIndicatorData__16.2.1.json5: dict_keys(['size', 'totalElements', 'totalPages', 'pageNumber', 'data'])\n",
      "Loaded data from sdgIndicatorData__16.2.2.json5: dict_keys(['size', 'totalElements', 'totalPages', 'pageNumber', 'data'])\n",
      "Loaded data from sdgIndicatorData__16.2.3.json5: dict_keys(['size', 'totalElements', 'totalPages', 'pageNumber', 'data'])\n",
      "Loaded data from sdgIndicatorData__16.3.1.json5: dict_keys(['size', 'totalElements', 'totalPages', 'pageNumber', 'data'])\n",
      "Loaded data from sdgIndicatorData__16.3.2.json5: dict_keys(['size', 'totalElements', 'totalPages', 'pageNumber', 'data'])\n",
      "Loaded data from sdgIndicatorData__16.3.3.json5: dict_keys(['size', 'totalElements', 'totalPages', 'pageNumber', 'data'])\n",
      "Loaded data from sdgIndicatorData__16.4.1.json5: dict_keys(['size', 'totalElements', 'totalPages', 'pageNumber', 'data'])\n",
      "Loaded data from sdgIndicatorData__16.4.2.json5: dict_keys(['size', 'totalElements', 'totalPages', 'pageNumber', 'data'])\n",
      "Loaded data from sdgIndicatorData__16.5.1.json5: dict_keys(['size', 'totalElements', 'totalPages', 'pageNumber', 'data'])\n",
      "Loaded data from sdgIndicatorData__16.5.2.json5: dict_keys(['size', 'totalElements', 'totalPages', 'pageNumber', 'data'])\n",
      "Loaded data from sdgIndicatorData__16.6.1.json5: dict_keys(['size', 'totalElements', 'totalPages', 'pageNumber', 'data'])\n",
      "Loaded data from sdgIndicatorData__16.6.2.json5: dict_keys(['size', 'totalElements', 'totalPages', 'pageNumber', 'data'])\n",
      "Loaded data from sdgIndicatorData__16.7.1.json5: dict_keys(['size', 'totalElements', 'totalPages', 'pageNumber', 'data'])\n",
      "Loaded data from sdgIndicatorData__16.7.2.json5: dict_keys(['size', 'totalElements', 'totalPages', 'pageNumber', 'data'])\n",
      "Loaded data from sdgIndicatorData__16.8.1.json5: dict_keys(['size', 'totalElements', 'totalPages', 'pageNumber', 'data'])\n",
      "Loaded data from sdgIndicatorData__16.9.1.json5: dict_keys(['size', 'totalElements', 'totalPages', 'pageNumber', 'data'])\n",
      "Loaded data from sdgIndicatorData__16.a.1.json5: dict_keys(['size', 'totalElements', 'totalPages', 'pageNumber', 'data'])\n",
      "Loaded data from sdgIndicatorData__16.b.1.json5: dict_keys(['size', 'totalElements', 'totalPages', 'pageNumber', 'data'])\n",
      "Loaded data from sdgIndicatorData__17.1.1.json5: dict_keys(['size', 'totalElements', 'totalPages', 'pageNumber', 'data'])\n",
      "Loaded data from sdgIndicatorData__17.1.2.json5: dict_keys(['size', 'totalElements', 'totalPages', 'pageNumber', 'data'])\n",
      "Loaded data from sdgIndicatorData__17.10.1.json5: dict_keys(['size', 'totalElements', 'totalPages', 'pageNumber', 'data'])\n",
      "Loaded data from sdgIndicatorData__17.11.1.json5: dict_keys(['size', 'totalElements', 'totalPages', 'pageNumber', 'data'])\n",
      "Loaded data from sdgIndicatorData__17.12.1.json5: dict_keys(['size', 'totalElements', 'totalPages', 'pageNumber', 'data'])\n",
      "Loaded data from sdgIndicatorData__17.13.1.json5: dict_keys(['size', 'totalElements', 'totalPages', 'pageNumber', 'data'])\n",
      "Loaded data from sdgIndicatorData__17.14.1.json5: dict_keys(['size', 'totalElements', 'totalPages', 'pageNumber', 'data'])\n",
      "Loaded data from sdgIndicatorData__17.15.1.json5: dict_keys(['size', 'totalElements', 'totalPages', 'pageNumber', 'data'])\n",
      "Loaded data from sdgIndicatorData__17.16.1.json5: dict_keys(['size', 'totalElements', 'totalPages', 'pageNumber', 'data'])\n",
      "Loaded data from sdgIndicatorData__17.17.1.json5: dict_keys(['size', 'totalElements', 'totalPages', 'pageNumber', 'data'])\n",
      "Loaded data from sdgIndicatorData__17.18.1.json5: dict_keys(['size', 'totalElements', 'totalPages', 'pageNumber', 'data'])\n",
      "Loaded data from sdgIndicatorData__17.18.2.json5: dict_keys(['size', 'totalElements', 'totalPages', 'pageNumber', 'data'])\n",
      "Loaded data from sdgIndicatorData__17.18.3.json5: dict_keys(['size', 'totalElements', 'totalPages', 'pageNumber', 'data'])\n",
      "Loaded data from sdgIndicatorData__17.19.1.json5: dict_keys(['size', 'totalElements', 'totalPages', 'pageNumber', 'data'])\n",
      "Loaded data from sdgIndicatorData__17.19.2.json5: dict_keys(['size', 'totalElements', 'totalPages', 'pageNumber', 'data'])\n",
      "Loaded data from sdgIndicatorData__17.2.1.json5: dict_keys(['size', 'totalElements', 'totalPages', 'pageNumber', 'data'])\n",
      "Loaded data from sdgIndicatorData__17.3.1.json5: dict_keys(['size', 'totalElements', 'totalPages', 'pageNumber', 'data'])\n",
      "Loaded data from sdgIndicatorData__17.3.2.json5: dict_keys(['size', 'totalElements', 'totalPages', 'pageNumber', 'data'])\n",
      "Loaded data from sdgIndicatorData__17.4.1.json5: dict_keys(['size', 'totalElements', 'totalPages', 'pageNumber', 'data'])\n",
      "Loaded data from sdgIndicatorData__17.5.1.json5: dict_keys(['size', 'totalElements', 'totalPages', 'pageNumber', 'data'])\n",
      "Loaded data from sdgIndicatorData__17.6.1.json5: dict_keys(['size', 'totalElements', 'totalPages', 'pageNumber', 'data'])\n",
      "Loaded data from sdgIndicatorData__17.7.1.json5: dict_keys(['size', 'totalElements', 'totalPages', 'pageNumber', 'data'])\n",
      "Loaded data from sdgIndicatorData__17.8.1.json5: dict_keys(['size', 'totalElements', 'totalPages', 'pageNumber', 'data'])\n",
      "Loaded data from sdgIndicatorData__17.9.1.json5: dict_keys(['size', 'totalElements', 'totalPages', 'pageNumber', 'data'])\n",
      "Loaded data from sdgIndicatorData__2.1.1.json5: dict_keys(['size', 'totalElements', 'totalPages', 'pageNumber', 'data'])\n",
      "Loaded data from sdgIndicatorData__2.1.2.json5: dict_keys(['size', 'totalElements', 'totalPages', 'pageNumber', 'data'])\n",
      "Loaded data from sdgIndicatorData__2.2.1.json5: dict_keys(['size', 'totalElements', 'totalPages', 'pageNumber', 'data'])\n",
      "Loaded data from sdgIndicatorData__2.2.2.json5: dict_keys(['size', 'totalElements', 'totalPages', 'pageNumber', 'data'])\n",
      "Loaded data from sdgIndicatorData__2.2.3.json5: dict_keys(['size', 'totalElements', 'totalPages', 'pageNumber', 'data'])\n",
      "Loaded data from sdgIndicatorData__2.3.1.json5: dict_keys(['size', 'totalElements', 'totalPages', 'pageNumber', 'data'])\n",
      "Loaded data from sdgIndicatorData__2.3.2.json5: dict_keys(['size', 'totalElements', 'totalPages', 'pageNumber', 'data'])\n",
      "Loaded data from sdgIndicatorData__2.4.1.json5: dict_keys(['size', 'totalElements', 'totalPages', 'pageNumber', 'data'])\n",
      "Loaded data from sdgIndicatorData__2.5.1.json5: dict_keys(['size', 'totalElements', 'totalPages', 'pageNumber', 'data'])\n",
      "Loaded data from sdgIndicatorData__2.5.2.json5: dict_keys(['size', 'totalElements', 'totalPages', 'pageNumber', 'data'])\n",
      "Loaded data from sdgIndicatorData__2.a.1.json5: dict_keys(['size', 'totalElements', 'totalPages', 'pageNumber', 'data'])\n",
      "Loaded data from sdgIndicatorData__2.a.2.json5: dict_keys(['size', 'totalElements', 'totalPages', 'pageNumber', 'data'])\n",
      "Loaded data from sdgIndicatorData__2.b.1.json5: dict_keys(['size', 'totalElements', 'totalPages', 'pageNumber', 'data'])\n",
      "Loaded data from sdgIndicatorData__2.c.1.json5: dict_keys(['size', 'totalElements', 'totalPages', 'pageNumber', 'data'])\n",
      "Loaded data from sdgIndicatorData__3.1.1.json5: dict_keys(['size', 'totalElements', 'totalPages', 'pageNumber', 'data'])\n",
      "Loaded data from sdgIndicatorData__3.1.2.json5: dict_keys(['size', 'totalElements', 'totalPages', 'pageNumber', 'data'])\n",
      "Loaded data from sdgIndicatorData__3.2.1.json5: dict_keys(['size', 'totalElements', 'totalPages', 'pageNumber', 'data'])\n",
      "Loaded data from sdgIndicatorData__3.2.2.json5: dict_keys(['size', 'totalElements', 'totalPages', 'pageNumber', 'data'])\n",
      "Loaded data from sdgIndicatorData__3.3.1.json5: dict_keys(['size', 'totalElements', 'totalPages', 'pageNumber', 'data'])\n",
      "Loaded data from sdgIndicatorData__3.3.2.json5: dict_keys(['size', 'totalElements', 'totalPages', 'pageNumber', 'data'])\n",
      "Loaded data from sdgIndicatorData__3.3.3.json5: dict_keys(['size', 'totalElements', 'totalPages', 'pageNumber', 'data'])\n",
      "Loaded data from sdgIndicatorData__3.3.4.json5: dict_keys(['size', 'totalElements', 'totalPages', 'pageNumber', 'data'])\n",
      "Loaded data from sdgIndicatorData__3.3.5.json5: dict_keys(['size', 'totalElements', 'totalPages', 'pageNumber', 'data'])\n",
      "Loaded data from sdgIndicatorData__3.4.1.json5: dict_keys(['size', 'totalElements', 'totalPages', 'pageNumber', 'data'])\n",
      "Loaded data from sdgIndicatorData__3.4.2.json5: dict_keys(['size', 'totalElements', 'totalPages', 'pageNumber', 'data'])\n",
      "Loaded data from sdgIndicatorData__3.5.1.json5: dict_keys(['size', 'totalElements', 'totalPages', 'pageNumber', 'data'])\n",
      "Loaded data from sdgIndicatorData__3.5.2.json5: dict_keys(['size', 'totalElements', 'totalPages', 'pageNumber', 'data'])\n",
      "Loaded data from sdgIndicatorData__3.6.1.json5: dict_keys(['size', 'totalElements', 'totalPages', 'pageNumber', 'data'])\n",
      "Loaded data from sdgIndicatorData__3.7.1.json5: dict_keys(['size', 'totalElements', 'totalPages', 'pageNumber', 'data'])\n",
      "Loaded data from sdgIndicatorData__3.7.2.json5: dict_keys(['size', 'totalElements', 'totalPages', 'pageNumber', 'data'])\n",
      "Loaded data from sdgIndicatorData__3.8.1.json5: dict_keys(['size', 'totalElements', 'totalPages', 'pageNumber', 'data'])\n",
      "Loaded data from sdgIndicatorData__3.8.2.json5: dict_keys(['size', 'totalElements', 'totalPages', 'pageNumber', 'data'])\n",
      "Loaded data from sdgIndicatorData__3.9.1.json5: dict_keys(['size', 'totalElements', 'totalPages', 'pageNumber', 'data'])\n",
      "Loaded data from sdgIndicatorData__3.9.2.json5: dict_keys(['size', 'totalElements', 'totalPages', 'pageNumber', 'data'])\n",
      "Loaded data from sdgIndicatorData__3.9.3.json5: dict_keys(['size', 'totalElements', 'totalPages', 'pageNumber', 'data'])\n",
      "Loaded data from sdgIndicatorData__3.a.1.json5: dict_keys(['size', 'totalElements', 'totalPages', 'pageNumber', 'data'])\n",
      "Loaded data from sdgIndicatorData__3.b.1.json5: dict_keys(['size', 'totalElements', 'totalPages', 'pageNumber', 'data'])\n",
      "Loaded data from sdgIndicatorData__3.b.2.json5: dict_keys(['size', 'totalElements', 'totalPages', 'pageNumber', 'data'])\n",
      "Loaded data from sdgIndicatorData__3.b.3.json5: dict_keys(['size', 'totalElements', 'totalPages', 'pageNumber', 'data'])\n",
      "Loaded data from sdgIndicatorData__3.c.1.json5: dict_keys(['size', 'totalElements', 'totalPages', 'pageNumber', 'data'])\n",
      "Loaded data from sdgIndicatorData__3.d.1.json5: dict_keys(['size', 'totalElements', 'totalPages', 'pageNumber', 'data'])\n",
      "Loaded data from sdgIndicatorData__3.d.2.json5: dict_keys(['size', 'totalElements', 'totalPages', 'pageNumber', 'data'])\n",
      "Loaded data from sdgIndicatorData__4.1.1.json5: dict_keys(['size', 'totalElements', 'totalPages', 'pageNumber', 'data'])\n",
      "Loaded data from sdgIndicatorData__4.1.2.json5: dict_keys(['size', 'totalElements', 'totalPages', 'pageNumber', 'data'])\n",
      "Loaded data from sdgIndicatorData__4.2.1.json5: dict_keys(['size', 'totalElements', 'totalPages', 'pageNumber', 'data'])\n",
      "Loaded data from sdgIndicatorData__4.2.2.json5: dict_keys(['size', 'totalElements', 'totalPages', 'pageNumber', 'data'])\n",
      "Loaded data from sdgIndicatorData__4.3.1.json5: dict_keys(['size', 'totalElements', 'totalPages', 'pageNumber', 'data'])\n",
      "Loaded data from sdgIndicatorData__4.4.1.json5: dict_keys(['size', 'totalElements', 'totalPages', 'pageNumber', 'data'])\n",
      "Loaded data from sdgIndicatorData__4.5.1.json5: dict_keys(['size', 'totalElements', 'totalPages', 'pageNumber', 'data'])\n",
      "Loaded data from sdgIndicatorData__4.6.1.json5: dict_keys(['size', 'totalElements', 'totalPages', 'pageNumber', 'data'])\n",
      "Loaded data from sdgIndicatorData__4.7.1.json5: dict_keys(['size', 'totalElements', 'totalPages', 'pageNumber', 'data'])\n",
      "Loaded data from sdgIndicatorData__4.a.1.json5: dict_keys(['size', 'totalElements', 'totalPages', 'pageNumber', 'data'])\n",
      "Loaded data from sdgIndicatorData__4.b.1.json5: dict_keys(['size', 'totalElements', 'totalPages', 'pageNumber', 'data'])\n",
      "Loaded data from sdgIndicatorData__4.c.1.json5: dict_keys(['size', 'totalElements', 'totalPages', 'pageNumber', 'data'])\n",
      "Loaded data from sdgIndicatorData__5.1.1.json5: dict_keys(['size', 'totalElements', 'totalPages', 'pageNumber', 'data'])\n",
      "Loaded data from sdgIndicatorData__5.2.1.json5: dict_keys(['size', 'totalElements', 'totalPages', 'pageNumber', 'data'])\n",
      "Loaded data from sdgIndicatorData__5.2.2.json5: dict_keys(['size', 'totalElements', 'totalPages', 'pageNumber', 'data'])\n",
      "Loaded data from sdgIndicatorData__5.3.1.json5: dict_keys(['size', 'totalElements', 'totalPages', 'pageNumber', 'data'])\n",
      "Loaded data from sdgIndicatorData__5.3.2.json5: dict_keys(['size', 'totalElements', 'totalPages', 'pageNumber', 'data'])\n",
      "Loaded data from sdgIndicatorData__5.4.1.json5: dict_keys(['size', 'totalElements', 'totalPages', 'pageNumber', 'data'])\n",
      "Loaded data from sdgIndicatorData__5.5.1.json5: dict_keys(['size', 'totalElements', 'totalPages', 'pageNumber', 'data'])\n",
      "Loaded data from sdgIndicatorData__5.5.2.json5: dict_keys(['size', 'totalElements', 'totalPages', 'pageNumber', 'data'])\n",
      "Loaded data from sdgIndicatorData__5.6.1.json5: dict_keys(['size', 'totalElements', 'totalPages', 'pageNumber', 'data'])\n",
      "Loaded data from sdgIndicatorData__5.6.2.json5: dict_keys(['size', 'totalElements', 'totalPages', 'pageNumber', 'data'])\n",
      "Loaded data from sdgIndicatorData__5.a.1.json5: dict_keys(['size', 'totalElements', 'totalPages', 'pageNumber', 'data'])\n",
      "Loaded data from sdgIndicatorData__5.a.2.json5: dict_keys(['size', 'totalElements', 'totalPages', 'pageNumber', 'data'])\n",
      "Loaded data from sdgIndicatorData__5.b.1.json5: dict_keys(['size', 'totalElements', 'totalPages', 'pageNumber', 'data'])\n",
      "Loaded data from sdgIndicatorData__5.c.1.json5: dict_keys(['size', 'totalElements', 'totalPages', 'pageNumber', 'data'])\n",
      "Loaded data from sdgIndicatorData__6.1.1.json5: dict_keys(['size', 'totalElements', 'totalPages', 'pageNumber', 'data'])\n",
      "Loaded data from sdgIndicatorData__6.2.1.json5: dict_keys(['size', 'totalElements', 'totalPages', 'pageNumber', 'data'])\n",
      "Loaded data from sdgIndicatorData__6.3.1.json5: dict_keys(['size', 'totalElements', 'totalPages', 'pageNumber', 'data'])\n",
      "Loaded data from sdgIndicatorData__6.3.2.json5: dict_keys(['size', 'totalElements', 'totalPages', 'pageNumber', 'data'])\n",
      "Loaded data from sdgIndicatorData__6.4.1.json5: dict_keys(['size', 'totalElements', 'totalPages', 'pageNumber', 'data'])\n",
      "Loaded data from sdgIndicatorData__6.4.2.json5: dict_keys(['size', 'totalElements', 'totalPages', 'pageNumber', 'data'])\n",
      "Loaded data from sdgIndicatorData__6.5.1.json5: dict_keys(['size', 'totalElements', 'totalPages', 'pageNumber', 'data'])\n",
      "Loaded data from sdgIndicatorData__6.5.2.json5: dict_keys(['size', 'totalElements', 'totalPages', 'pageNumber', 'data'])\n",
      "Loaded data from sdgIndicatorData__6.6.1.json5: dict_keys(['size', 'totalElements', 'totalPages', 'pageNumber', 'data'])\n",
      "Loaded data from sdgIndicatorData__6.a.1.json5: dict_keys(['size', 'totalElements', 'totalPages', 'pageNumber', 'data'])\n",
      "Loaded data from sdgIndicatorData__6.b.1.json5: dict_keys(['size', 'totalElements', 'totalPages', 'pageNumber', 'data'])\n",
      "Loaded data from sdgIndicatorData__7.1.1.json5: dict_keys(['size', 'totalElements', 'totalPages', 'pageNumber', 'data'])\n",
      "Loaded data from sdgIndicatorData__7.1.2.json5: dict_keys(['size', 'totalElements', 'totalPages', 'pageNumber', 'data'])\n",
      "Loaded data from sdgIndicatorData__7.2.1.json5: dict_keys(['size', 'totalElements', 'totalPages', 'pageNumber', 'data'])\n",
      "Loaded data from sdgIndicatorData__7.3.1.json5: dict_keys(['size', 'totalElements', 'totalPages', 'pageNumber', 'data'])\n",
      "Loaded data from sdgIndicatorData__7.a.1.json5: dict_keys(['size', 'totalElements', 'totalPages', 'pageNumber', 'data'])\n",
      "Loaded data from sdgIndicatorData__7.b.1.json5: dict_keys(['size', 'totalElements', 'totalPages', 'pageNumber', 'data'])\n",
      "Loaded data from sdgIndicatorData__8.1.1.json5: dict_keys(['size', 'totalElements', 'totalPages', 'pageNumber', 'data'])\n",
      "Loaded data from sdgIndicatorData__8.10.1.json5: dict_keys(['size', 'totalElements', 'totalPages', 'pageNumber', 'data'])\n",
      "Loaded data from sdgIndicatorData__8.10.2.json5: dict_keys(['size', 'totalElements', 'totalPages', 'pageNumber', 'data'])\n",
      "Loaded data from sdgIndicatorData__8.2.1.json5: dict_keys(['size', 'totalElements', 'totalPages', 'pageNumber', 'data'])\n",
      "Loaded data from sdgIndicatorData__8.3.1.json5: dict_keys(['size', 'totalElements', 'totalPages', 'pageNumber', 'data'])\n",
      "Loaded data from sdgIndicatorData__8.4.1.json5: dict_keys(['size', 'totalElements', 'totalPages', 'pageNumber', 'data'])\n",
      "Loaded data from sdgIndicatorData__8.4.2.json5: dict_keys(['size', 'totalElements', 'totalPages', 'pageNumber', 'data'])\n",
      "Loaded data from sdgIndicatorData__8.5.1.json5: dict_keys(['size', 'totalElements', 'totalPages', 'pageNumber', 'data'])\n",
      "Loaded data from sdgIndicatorData__8.5.2.json5: dict_keys(['size', 'totalElements', 'totalPages', 'pageNumber', 'data'])\n",
      "Loaded data from sdgIndicatorData__8.6.1.json5: dict_keys(['size', 'totalElements', 'totalPages', 'pageNumber', 'data'])\n",
      "Loaded data from sdgIndicatorData__8.7.1.json5: dict_keys(['size', 'totalElements', 'totalPages', 'pageNumber', 'data'])\n",
      "Loaded data from sdgIndicatorData__8.8.1.json5: dict_keys(['size', 'totalElements', 'totalPages', 'pageNumber', 'data'])\n",
      "Loaded data from sdgIndicatorData__8.8.2.json5: dict_keys(['size', 'totalElements', 'totalPages', 'pageNumber', 'data'])\n",
      "Loaded data from sdgIndicatorData__8.9.1.json5: dict_keys(['size', 'totalElements', 'totalPages', 'pageNumber', 'data'])\n",
      "Loaded data from sdgIndicatorData__8.a.1.json5: dict_keys(['size', 'totalElements', 'totalPages', 'pageNumber', 'data'])\n",
      "Loaded data from sdgIndicatorData__8.b.1.json5: dict_keys(['size', 'totalElements', 'totalPages', 'pageNumber', 'data'])\n",
      "Loaded data from sdgIndicatorData__9.1.1.json5: dict_keys(['size', 'totalElements', 'totalPages', 'pageNumber', 'data'])\n",
      "Loaded data from sdgIndicatorData__9.1.2.json5: dict_keys(['size', 'totalElements', 'totalPages', 'pageNumber', 'data'])\n",
      "Loaded data from sdgIndicatorData__9.2.1.json5: dict_keys(['size', 'totalElements', 'totalPages', 'pageNumber', 'data'])\n",
      "Loaded data from sdgIndicatorData__9.2.2.json5: dict_keys(['size', 'totalElements', 'totalPages', 'pageNumber', 'data'])\n",
      "Loaded data from sdgIndicatorData__9.3.1.json5: dict_keys(['size', 'totalElements', 'totalPages', 'pageNumber', 'data'])\n",
      "Loaded data from sdgIndicatorData__9.3.2.json5: dict_keys(['size', 'totalElements', 'totalPages', 'pageNumber', 'data'])\n",
      "Loaded data from sdgIndicatorData__9.4.1.json5: dict_keys(['size', 'totalElements', 'totalPages', 'pageNumber', 'data'])\n",
      "Loaded data from sdgIndicatorData__9.5.1.json5: dict_keys(['size', 'totalElements', 'totalPages', 'pageNumber', 'data'])\n",
      "Loaded data from sdgIndicatorData__9.5.2.json5: dict_keys(['size', 'totalElements', 'totalPages', 'pageNumber', 'data'])\n",
      "Loaded data from sdgIndicatorData__9.a.1.json5: dict_keys(['size', 'totalElements', 'totalPages', 'pageNumber', 'data'])\n",
      "Loaded data from sdgIndicatorData__9.b.1.json5: dict_keys(['size', 'totalElements', 'totalPages', 'pageNumber', 'data'])\n",
      "Loaded data from sdgIndicatorData__9.c.1.json5: dict_keys(['size', 'totalElements', 'totalPages', 'pageNumber', 'data'])\n",
      "Total files processed: 248\n",
      "Total data entries loaded: 696\n",
      "{\n",
      "  goal: [\n",
      "    \"1\",\n",
      "  ],\n",
      "  target: [\n",
      "    \"1.1\",\n",
      "  ],\n",
      "  indicator: [\n",
      "    \"1.1.1\",\n",
      "  ],\n",
      "  series: \"SI_POV_DAY1\",\n",
      "  seriesDescription: \"Proportion of population below international poverty line (%)\",\n",
      "  seriesCount: \"8748\",\n",
      "  geoAreaCode: \"32\",\n",
      "  geoAreaName: \"Argentina\",\n",
      "  timePeriodStart: 2020,\n",
      "  value: \"1.6\",\n",
      "  valueType: \"Float\",\n",
      "  time_detail: null,\n",
      "  timeCoverage: null,\n",
      "  upperBound: null,\n",
      "  lowerBound: null,\n",
      "  basePeriod: null,\n",
      "  source: \"Poverty and Inequality Portal, World Bank\",\n",
      "  geoInfoUrl: null,\n",
      "  footnotes: [\n",
      "    \"Accessed April 8, 2022. Based on data from EPHC-S2. Estimated from unit-record income data. Urban only. PPP is regression based.\",\n",
      "  ],\n",
      "  attributes: {\n",
      "    Nature: \"G\",\n",
      "    Units: \"PERCENT\",\n",
      "  },\n",
      "  dimensions: {\n",
      "    Age: \"ALLAGE\",\n",
      "    Location: \"ALLAREA\",\n",
      "    Sex: \"BOTHSEX\",\n",
      "    \"Reporting Type\": \"G\",\n",
      "  },\n",
      "  key: [\n",
      "    \"1.1.1\",\n",
      "  ],\n",
      "}\n"
     ]
    }
   ],
   "source": [
    "import json5\n",
    "\n",
    "# Verify the content and structure of the files\n",
    "data_entries = []\n",
    "file_count = 0\n",
    "\n",
    "for file_name in all_files:\n",
    "    if file_name.startswith('sdgIndicatorData__') and file_name.endswith('.json5'):\n",
    "        file_path = os.path.join(data_dir, file_name)\n",
    "        file_count += 1\n",
    "        with open(file_path, 'r') as f:\n",
    "            try:\n",
    "                data = json5.load(f)\n",
    "                print(f\"Loaded data from {file_name}: {data.keys()}\")  # Print the keys to verify structure\n",
    "                if 'data' in data:\n",
    "                    data_entries.extend(data['data'])\n",
    "            except Exception as e:\n",
    "                print(f\"Error loading {file_path}: {e}\")\n",
    "\n",
    "print(f\"Total files processed: {file_count}\")\n",
    "print(f\"Total data entries loaded: {len(data_entries)}\")\n",
    "if len(data_entries) > 0:\n",
    "    print(json5.dumps(data_entries[0], indent=2))\n",
    "else:\n",
    "    print(\"No data entries loaded.\")\n"
   ]
  },
  {
   "cell_type": "markdown",
   "metadata": {},
   "source": [
    "# Define Knowledge Graph Schema:"
   ]
  },
  {
   "cell_type": "markdown",
   "metadata": {},
   "source": [
    "Extracts nodes and relationships based on geoAreaName, indicator, timePeriodStart, value, and attributes."
   ]
  },
  {
   "cell_type": "code",
   "execution_count": 9,
   "metadata": {},
   "outputs": [
    {
     "name": "stdout",
     "output_type": "stream",
     "text": [
      "Nodes: 396\n",
      "Relationships: 696\n"
     ]
    }
   ],
   "source": [
    "nodes = set()\n",
    "relationships = []\n",
    "\n",
    "for entry in data_entries:\n",
    "    country = entry['geoAreaName']\n",
    "    indicator = entry['indicator'][0]\n",
    "    year = entry['timePeriodStart']\n",
    "    value = entry['value']\n",
    "    unit = entry['attributes']['Units']\n",
    "    \n",
    "    # Add nodes\n",
    "    nodes.add(country)\n",
    "    nodes.add(indicator)\n",
    "    nodes.add(year)\n",
    "    nodes.add(unit)\n",
    "    \n",
    "    # Add relationship\n",
    "    relationships.append((country, 'HAS_INDICATOR', indicator, year, value, unit))\n",
    "\n",
    "print(f\"Nodes: {len(nodes)}\")\n",
    "print(f\"Relationships: {len(relationships)}\")\n"
   ]
  },
  {
   "cell_type": "markdown",
   "metadata": {},
   "source": [
    "# CNN Model:"
   ]
  },
  {
   "cell_type": "markdown",
   "metadata": {},
   "source": [
    "The Convolutional Neural Network (CNN) model is a deep learning model that uses convolutional layers to capture patterns in the text data. The model is trained to classify text based on features extracted from the seriesDescription.\n",
    "\n"
   ]
  },
  {
   "cell_type": "markdown",
   "metadata": {},
   "source": [
    "This notebook expands on the previous CNN model by experimenting with six variations.\n",
    "Each variation adds different numbers and types of layers to analyze performance differences.\n"
   ]
  },
  {
   "cell_type": "code",
   "execution_count": 10,
   "metadata": {},
   "outputs": [],
   "source": [
    "import numpy as np\n",
    "import tensorflow as tf\n",
    "from tensorflow.keras.models import Sequential\n",
    "from tensorflow.keras.layers import Conv1D, MaxPooling1D, GlobalMaxPooling1D, Dense, Embedding, SpatialDropout1D, Dropout\n",
    "from tensorflow.keras.preprocessing.text import Tokenizer\n",
    "from tensorflow.keras.preprocessing.sequence import pad_sequences\n",
    "from sklearn.model_selection import train_test_split\n",
    "from sklearn.metrics import accuracy_score, f1_score\n",
    "import matplotlib.pyplot as plt"
   ]
  },
  {
   "cell_type": "code",
   "execution_count": 11,
   "metadata": {},
   "outputs": [],
   "source": [
    "# Parameters for text preprocessing\n",
    "max_words = 5000\n",
    "max_seq_len = 250\n",
    "embedding_dim = 100"
   ]
  },
  {
   "cell_type": "code",
   "execution_count": 12,
   "metadata": {},
   "outputs": [],
   "source": [
    "# Preprocess data for CNN\n",
    "\n",
    "def preprocess_cnn_data(data):\n",
    "    texts = [entry['seriesDescription'] for entry in data]\n",
    "    labels = [1 if any(token in entry['seriesDescription'] for token in ['population', 'line', 'sex']) else 0 for entry in data]\n",
    "    return texts, labels\n",
    "\n",
    "# Tokenize and pad sequences\n",
    "def tokenize_and_pad(texts):\n",
    "    tokenizer = Tokenizer(num_words=max_words, oov_token='<OOV>')\n",
    "    tokenizer.fit_on_texts(texts)\n",
    "    sequences = tokenizer.texts_to_sequences(texts)\n",
    "    padded_sequences = pad_sequences(sequences, maxlen=max_seq_len, padding='post', truncating='post')\n",
    "    return padded_sequences, tokenizer\n"
   ]
  },
  {
   "cell_type": "markdown",
   "metadata": {},
   "source": [
    "## Define CNN Variations:\n"
   ]
  },
  {
   "cell_type": "markdown",
   "metadata": {},
   "source": [
    "### Variation 1: Basic CNN Model\n",
    "A simple CNN with one Conv1D layer and GlobalMaxPooling1D layer."
   ]
  },
  {
   "cell_type": "code",
   "execution_count": 13,
   "metadata": {},
   "outputs": [],
   "source": [
    "def create_cnn_variation_1():\n",
    "    model = Sequential([\n",
    "        Embedding(max_words, embedding_dim, input_length=max_seq_len),\n",
    "        SpatialDropout1D(0.2),\n",
    "        Conv1D(128, 5, activation='relu'),\n",
    "        GlobalMaxPooling1D(),\n",
    "        Dense(1, activation='sigmoid')\n",
    "    ])\n",
    "    model.compile(loss='binary_crossentropy', optimizer='adam', metrics=['accuracy'])\n",
    "    return model"
   ]
  },
  {
   "cell_type": "markdown",
   "metadata": {},
   "source": [
    "The create_cnn_variation_1 function defines a CNN model for text classification. It uses an Embedding layer for word representations, followed by SpatialDropout1D to prevent overfitting. A Conv1D layer with 128 filters captures local text patterns, and GlobalMaxPooling1D reduces dimensionality by extracting key features. A Dense layer with sigmoid activation outputs binary classification results. The model is compiled with binary cross-entropy loss, the Adam optimizer, and accuracy as the metric, making it efficient and suitable for binary text classification tasks."
   ]
  },
  {
   "cell_type": "markdown",
   "metadata": {},
   "source": [
    "### Variation 2: Adding Extra Conv1D and MaxPooling Layers\n",
    "\n",
    "Introduces a second Conv1D layer and a MaxPooling layer to capture additional features."
   ]
  },
  {
   "cell_type": "code",
   "execution_count": 14,
   "metadata": {},
   "outputs": [],
   "source": [
    "def create_cnn_variation_2():\n",
    "    model = Sequential([\n",
    "        Embedding(max_words, embedding_dim, input_length=max_seq_len),\n",
    "        SpatialDropout1D(0.2),\n",
    "        Conv1D(128, 5, activation='relu'),\n",
    "        MaxPooling1D(pool_size=5),\n",
    "        Conv1D(128, 5, activation='relu'),\n",
    "        GlobalMaxPooling1D(),\n",
    "        Dense(1, activation='sigmoid')\n",
    "    ])\n",
    "    model.compile(loss='binary_crossentropy', optimizer='adam', metrics=['accuracy'])\n",
    "    return model\n"
   ]
  },
  {
   "cell_type": "markdown",
   "metadata": {},
   "source": [
    "\n",
    "The create_cnn_variation_2 function defines a CNN model for text classification, extending the architecture of Variation 1. It includes an Embedding layer for word representation and a SpatialDropout1D layer to reduce overfitting. The model incorporates two Conv1D layers with 128 filters and ReLU activation, separated by a MaxPooling1D layer that reduces dimensionality and highlights key features. A GlobalMaxPooling1D layer follows to further extract prominent features. The final Dense layer with sigmoid activation outputs the binary classification results. Compiled with binary cross-entropy loss, the Adam optimizer, and accuracy as the metric, this architecture is more complex than Variation 1, potentially improving feature extraction and performance for text"
   ]
  },
  {
   "cell_type": "markdown",
   "metadata": {},
   "source": [
    "### Variation 3: Adding Dropout for Regularization\n",
    "\n",
    "Adds Dropout layers to prevent overfitting."
   ]
  },
  {
   "cell_type": "code",
   "execution_count": 15,
   "metadata": {},
   "outputs": [],
   "source": [
    "def create_cnn_variation_3():\n",
    "    model = Sequential([\n",
    "        Embedding(max_words, embedding_dim, input_length=max_seq_len),\n",
    "        SpatialDropout1D(0.2),\n",
    "        Conv1D(128, 5, activation='relu'),\n",
    "        Dropout(0.3),\n",
    "        MaxPooling1D(pool_size=5),\n",
    "        Conv1D(128, 5, activation='relu'),\n",
    "        Dropout(0.3),\n",
    "        GlobalMaxPooling1D(),\n",
    "        Dense(1, activation='sigmoid')\n",
    "    ])\n",
    "    model.compile(loss='binary_crossentropy', optimizer='adam', metrics=['accuracy'])\n",
    "    return model\n"
   ]
  },
  {
   "cell_type": "markdown",
   "metadata": {},
   "source": [
    "The create_cnn_variation_3 function defines a CNN model for text classification, enhancing Variation 2 by incorporating additional dropout layers. It starts with an Embedding layer for word vectorization and a SpatialDropout1D layer to reduce overfitting. A Conv1D layer with 128 filters and ReLU activation is followed by a Dropout layer with a rate of 0.3 to further mitigate overfitting. A MaxPooling1D layer reduces dimensionality before another Conv1D layer with similar specifications, again followed by a Dropout layer. A GlobalMaxPooling1D layer then extracts the most prominent features, and the model concludes with a Dense layer with sigmoid activation for binary classification. Compiled with binary cross-entropy loss, the Adam optimizer, and accuracy as the metric, this model introduces more robust regularization, making it well-suited for datasets prone to overfitting."
   ]
  },
  {
   "cell_type": "markdown",
   "metadata": {},
   "source": [
    "### Variation 4: Increasing Conv1D Filters\n",
    "\n",
    "Increases the number of filters in Conv1D layers to learn more features.\n"
   ]
  },
  {
   "cell_type": "code",
   "execution_count": 16,
   "metadata": {},
   "outputs": [],
   "source": [
    "def create_cnn_variation_4():\n",
    "    model = Sequential([\n",
    "        Embedding(max_words, embedding_dim, input_length=max_seq_len),\n",
    "        SpatialDropout1D(0.2),\n",
    "        Conv1D(256, 5, activation='relu'),\n",
    "        MaxPooling1D(pool_size=5),\n",
    "        Conv1D(256, 5, activation='relu'),\n",
    "        GlobalMaxPooling1D(),\n",
    "        Dense(1, activation='sigmoid')\n",
    "    ])\n",
    "    model.compile(loss='binary_crossentropy', optimizer='adam', metrics=['accuracy'])\n",
    "    return model\n"
   ]
  },
  {
   "cell_type": "markdown",
   "metadata": {},
   "source": [
    "The create_cnn_variation_4 function defines a CNN model for text classification with increased filter complexity. It begins with an Embedding layer for word vector representation, followed by a SpatialDropout1D layer to prevent overfitting. The model features two Conv1D layers, each with 256 filters and ReLU activation, providing enhanced feature extraction capabilities. A MaxPooling1D layer between the convolutional layers reduces dimensionality and focuses on key patterns. The extracted features are then further condensed by a GlobalMaxPooling1D layer. Finally, a Dense layer with sigmoid activation outputs the binary classification results. The model is compiled with binary cross-entropy loss, the Adam optimizer, and accuracy as the metric. This variation increases the number of filters compared to previous models, potentially improving performance on complex datasets."
   ]
  },
  {
   "cell_type": "markdown",
   "metadata": {},
   "source": [
    "### Variation 5: Deeper Stacking of Conv1D Layers\n",
    "\n",
    "Adds additional Conv1D layers to create a deeper model."
   ]
  },
  {
   "cell_type": "code",
   "execution_count": 17,
   "metadata": {},
   "outputs": [],
   "source": [
    "def create_cnn_variation_5():\n",
    "    model = Sequential([\n",
    "        Embedding(max_words, embedding_dim, input_length=max_seq_len),\n",
    "        SpatialDropout1D(0.2),\n",
    "        Conv1D(128, 5, activation='relu'),\n",
    "        Conv1D(128, 3, activation='relu'),\n",
    "        MaxPooling1D(pool_size=3),\n",
    "        Conv1D(128, 3, activation='relu'),\n",
    "        GlobalMaxPooling1D(),\n",
    "        Dense(1, activation='sigmoid')\n",
    "    ])\n",
    "    model.compile(loss='binary_crossentropy', optimizer='adam', metrics=['accuracy'])\n",
    "    return model\n"
   ]
  },
  {
   "cell_type": "markdown",
   "metadata": {},
   "source": [
    "The create_cnn_variation_5 function defines a CNN model for text classification with a focus on multi-scale feature extraction. It starts with an Embedding layer for word vectorization and a SpatialDropout1D layer to reduce overfitting. The model includes three Conv1D layers with 128 filters, each capturing patterns at varying scales, with kernel sizes of 5 and 3. A MaxPooling1D layer reduces dimensionality after the second convolutional layer, enabling effective feature extraction while preserving key information. A GlobalMaxPooling1D layer further condenses the output to the most significant features. Finally, a Dense layer with sigmoid activation produces binary classification results. The model is compiled using binary cross-entropy loss, the Adam optimizer, and accuracy as the evaluation metric. This variation's multi-scale approach makes it suitable for capturing both broad and fine-grained features in text data."
   ]
  },
  {
   "cell_type": "markdown",
   "metadata": {},
   "source": [
    "### Variation 6: Combining Depth and Regularization\n",
    "\n",
    "Combines deeper Conv1D layers with Dropout for better generalization."
   ]
  },
  {
   "cell_type": "code",
   "execution_count": 18,
   "metadata": {},
   "outputs": [],
   "source": [
    "def create_cnn_variation_6():\n",
    "    model = Sequential([\n",
    "        Embedding(max_words, embedding_dim, input_length=max_seq_len),\n",
    "        SpatialDropout1D(0.2),\n",
    "        Conv1D(128, 5, activation='relu'),\n",
    "        Dropout(0.3),\n",
    "        Conv1D(128, 3, activation='relu'),\n",
    "        MaxPooling1D(pool_size=3),\n",
    "        Conv1D(128, 3, activation='relu'),\n",
    "        Dropout(0.3),\n",
    "        GlobalMaxPooling1D(),\n",
    "        Dense(1, activation='sigmoid')\n",
    "    ])\n",
    "    model.compile(loss='binary_crossentropy', optimizer='adam', metrics=['accuracy'])\n",
    "    return model"
   ]
  },
  {
   "cell_type": "markdown",
   "metadata": {},
   "source": [
    "The create_cnn_variation_6 function defines a CNN model for text classification, building on previous variations with enhanced dropout regularization. It begins with an Embedding layer for word vector representation and a SpatialDropout1D layer to combat overfitting. The architecture features three Conv1D layers with 128 filters, each capturing different text patterns, with kernel sizes of 5 and 3. Two Dropout layers with a rate of 0.3 are strategically placed after the first and third convolutional layers to enhance regularization and improve generalization. A MaxPooling1D layer reduces dimensionality after the second convolutional layer, followed by a GlobalMaxPooling1D layer to extract the most critical features. The model concludes with a Dense layer with sigmoid activation for binary classification. Compiled with binary cross-entropy loss, the Adam optimizer, and accuracy as the metric, this variation combines multi-scale feature extraction with strong regularization, making it robust for text datasets prone to overfitting."
   ]
  },
  {
   "cell_type": "markdown",
   "metadata": {},
   "source": [
    "## Train and Evaluate Each CNN Variation:\n"
   ]
  },
  {
   "cell_type": "code",
   "execution_count": 19,
   "metadata": {},
   "outputs": [],
   "source": [
    "def train_and_evaluate_cnn(model_function, train_data, test_data):\n",
    "    train_texts, train_labels = preprocess_cnn_data(train_data)\n",
    "    test_texts, test_labels = preprocess_cnn_data(test_data)\n",
    "\n",
    "    train_sequences, tokenizer = tokenize_and_pad(train_texts)\n",
    "    test_sequences = pad_sequences(tokenizer.texts_to_sequences(test_texts), maxlen=max_seq_len, padding='post', truncating='post')\n",
    "\n",
    "    model = model_function()\n",
    "    model.fit(train_sequences, np.array(train_labels), epochs=5, batch_size=32, validation_data=(test_sequences, np.array(test_labels)), verbose=2)\n",
    "\n",
    "    y_pred = (model.predict(test_sequences) > 0.5).astype(\"int32\")\n",
    "    accuracy = accuracy_score(test_labels, y_pred)\n",
    "    f1 = f1_score(test_labels, y_pred)\n",
    "    return {'accuracy': accuracy, 'f1-score': f1}\n"
   ]
  },
  {
   "cell_type": "code",
   "execution_count": 20,
   "metadata": {},
   "outputs": [],
   "source": [
    "# Dataset Preparation\n",
    "train_data, test_data = train_test_split(data_entries, test_size=0.2, random_state=42)\n"
   ]
  },
  {
   "cell_type": "code",
   "execution_count": 21,
   "metadata": {},
   "outputs": [],
   "source": [
    "# Evaluate All Variations\n",
    "results = {}\n",
    "variations = [\n",
    "    (\"Variation 1\", create_cnn_variation_1),\n",
    "    (\"Variation 2\", create_cnn_variation_2),\n",
    "    (\"Variation 3\", create_cnn_variation_3),\n",
    "    (\"Variation 4\", create_cnn_variation_4),\n",
    "    (\"Variation 5\", create_cnn_variation_5),\n",
    "    (\"Variation 6\", create_cnn_variation_6)\n",
    "]"
   ]
  },
  {
   "cell_type": "code",
   "execution_count": 22,
   "metadata": {},
   "outputs": [
    {
     "name": "stdout",
     "output_type": "stream",
     "text": [
      "Training and evaluating Variation 1...\n"
     ]
    },
    {
     "name": "stderr",
     "output_type": "stream",
     "text": [
      "c:\\Users\\sabih.rehman\\AppData\\Local\\Programs\\Python\\Python39\\lib\\site-packages\\keras\\src\\layers\\core\\embedding.py:90: UserWarning: Argument `input_length` is deprecated. Just remove it.\n",
      "  warnings.warn(\n"
     ]
    },
    {
     "name": "stdout",
     "output_type": "stream",
     "text": [
      "Epoch 1/5\n",
      "18/18 - 2s - 112ms/step - accuracy: 0.6313 - loss: 0.6391 - val_accuracy: 0.7857 - val_loss: 0.4902\n",
      "Epoch 2/5\n",
      "18/18 - 0s - 22ms/step - accuracy: 0.7518 - loss: 0.4977 - val_accuracy: 0.9214 - val_loss: 0.4056\n",
      "Epoch 3/5\n",
      "18/18 - 0s - 22ms/step - accuracy: 0.9568 - loss: 0.2983 - val_accuracy: 0.9857 - val_loss: 0.1762\n",
      "Epoch 4/5\n",
      "18/18 - 0s - 25ms/step - accuracy: 0.9856 - loss: 0.1102 - val_accuracy: 0.9857 - val_loss: 0.0787\n",
      "Epoch 5/5\n",
      "18/18 - 1s - 28ms/step - accuracy: 0.9946 - loss: 0.0363 - val_accuracy: 0.9857 - val_loss: 0.0565\n",
      "\u001b[1m5/5\u001b[0m \u001b[32m━━━━━━━━━━━━━━━━━━━━\u001b[0m\u001b[37m\u001b[0m \u001b[1m0s\u001b[0m 25ms/step\n",
      "Training and evaluating Variation 2...\n",
      "Epoch 1/5\n"
     ]
    },
    {
     "name": "stderr",
     "output_type": "stream",
     "text": [
      "c:\\Users\\sabih.rehman\\AppData\\Local\\Programs\\Python\\Python39\\lib\\site-packages\\keras\\src\\layers\\core\\embedding.py:90: UserWarning: Argument `input_length` is deprecated. Just remove it.\n",
      "  warnings.warn(\n"
     ]
    },
    {
     "name": "stdout",
     "output_type": "stream",
     "text": [
      "18/18 - 2s - 119ms/step - accuracy: 0.6871 - loss: 0.6203 - val_accuracy: 0.7857 - val_loss: 0.5639\n",
      "Epoch 2/5\n",
      "18/18 - 1s - 30ms/step - accuracy: 0.6871 - loss: 0.5354 - val_accuracy: 0.8714 - val_loss: 0.3899\n",
      "Epoch 3/5\n",
      "18/18 - 0s - 28ms/step - accuracy: 0.9371 - loss: 0.2740 - val_accuracy: 0.9429 - val_loss: 0.1841\n",
      "Epoch 4/5\n",
      "18/18 - 1s - 31ms/step - accuracy: 0.9946 - loss: 0.0546 - val_accuracy: 0.9571 - val_loss: 0.1156\n",
      "Epoch 5/5\n",
      "18/18 - 1s - 31ms/step - accuracy: 0.9982 - loss: 0.0100 - val_accuracy: 0.9857 - val_loss: 0.1013\n",
      "\u001b[1m5/5\u001b[0m \u001b[32m━━━━━━━━━━━━━━━━━━━━\u001b[0m\u001b[37m\u001b[0m \u001b[1m0s\u001b[0m 26ms/step\n",
      "Training and evaluating Variation 3...\n",
      "Epoch 1/5\n"
     ]
    },
    {
     "name": "stderr",
     "output_type": "stream",
     "text": [
      "c:\\Users\\sabih.rehman\\AppData\\Local\\Programs\\Python\\Python39\\lib\\site-packages\\keras\\src\\layers\\core\\embedding.py:90: UserWarning: Argument `input_length` is deprecated. Just remove it.\n",
      "  warnings.warn(\n"
     ]
    },
    {
     "name": "stdout",
     "output_type": "stream",
     "text": [
      "18/18 - 2s - 136ms/step - accuracy: 0.6781 - loss: 0.6383 - val_accuracy: 0.7857 - val_loss: 0.5996\n",
      "Epoch 2/5\n",
      "18/18 - 1s - 30ms/step - accuracy: 0.6871 - loss: 0.5560 - val_accuracy: 0.7857 - val_loss: 0.4630\n",
      "Epoch 3/5\n",
      "18/18 - 1s - 33ms/step - accuracy: 0.8363 - loss: 0.3485 - val_accuracy: 0.9500 - val_loss: 0.2623\n",
      "Epoch 4/5\n",
      "18/18 - 1s - 32ms/step - accuracy: 0.9892 - loss: 0.1018 - val_accuracy: 0.9571 - val_loss: 0.1192\n",
      "Epoch 5/5\n",
      "18/18 - 1s - 32ms/step - accuracy: 0.9946 - loss: 0.0153 - val_accuracy: 0.9786 - val_loss: 0.0826\n",
      "WARNING:tensorflow:5 out of the last 11 calls to <function TensorFlowTrainer.make_predict_function.<locals>.one_step_on_data_distributed at 0x000002C0C37D53A0> triggered tf.function retracing. Tracing is expensive and the excessive number of tracings could be due to (1) creating @tf.function repeatedly in a loop, (2) passing tensors with different shapes, (3) passing Python objects instead of tensors. For (1), please define your @tf.function outside of the loop. For (2), @tf.function has reduce_retracing=True option that can avoid unnecessary retracing. For (3), please refer to https://www.tensorflow.org/guide/function#controlling_retracing and https://www.tensorflow.org/api_docs/python/tf/function for  more details.\n",
      "\u001b[1m1/5\u001b[0m \u001b[32m━━━━\u001b[0m\u001b[37m━━━━━━━━━━━━━━━━\u001b[0m \u001b[1m0s\u001b[0m 115ms/stepWARNING:tensorflow:5 out of the last 11 calls to <function TensorFlowTrainer.make_predict_function.<locals>.one_step_on_data_distributed at 0x000002C0C37D53A0> triggered tf.function retracing. Tracing is expensive and the excessive number of tracings could be due to (1) creating @tf.function repeatedly in a loop, (2) passing tensors with different shapes, (3) passing Python objects instead of tensors. For (1), please define your @tf.function outside of the loop. For (2), @tf.function has reduce_retracing=True option that can avoid unnecessary retracing. For (3), please refer to https://www.tensorflow.org/guide/function#controlling_retracing and https://www.tensorflow.org/api_docs/python/tf/function for  more details.\n",
      "\u001b[1m5/5\u001b[0m \u001b[32m━━━━━━━━━━━━━━━━━━━━\u001b[0m\u001b[37m\u001b[0m \u001b[1m0s\u001b[0m 32ms/step\n",
      "Training and evaluating Variation 4...\n",
      "Epoch 1/5\n"
     ]
    },
    {
     "name": "stderr",
     "output_type": "stream",
     "text": [
      "c:\\Users\\sabih.rehman\\AppData\\Local\\Programs\\Python\\Python39\\lib\\site-packages\\keras\\src\\layers\\core\\embedding.py:90: UserWarning: Argument `input_length` is deprecated. Just remove it.\n",
      "  warnings.warn(\n"
     ]
    },
    {
     "name": "stdout",
     "output_type": "stream",
     "text": [
      "18/18 - 2s - 127ms/step - accuracy: 0.6888 - loss: 0.6313 - val_accuracy: 0.7857 - val_loss: 0.5552\n",
      "Epoch 2/5\n",
      "18/18 - 1s - 43ms/step - accuracy: 0.6871 - loss: 0.4925 - val_accuracy: 0.7857 - val_loss: 0.3235\n",
      "Epoch 3/5\n",
      "18/18 - 1s - 43ms/step - accuracy: 0.8939 - loss: 0.2952 - val_accuracy: 0.9357 - val_loss: 0.2519\n",
      "Epoch 4/5\n",
      "18/18 - 1s - 42ms/step - accuracy: 0.9802 - loss: 0.1430 - val_accuracy: 0.9429 - val_loss: 0.1723\n",
      "Epoch 5/5\n",
      "18/18 - 1s - 43ms/step - accuracy: 0.9946 - loss: 0.0218 - val_accuracy: 0.9429 - val_loss: 0.1457\n",
      "\u001b[1m5/5\u001b[0m \u001b[32m━━━━━━━━━━━━━━━━━━━━\u001b[0m\u001b[37m\u001b[0m \u001b[1m0s\u001b[0m 32ms/step\n",
      "Training and evaluating Variation 5...\n",
      "Epoch 1/5\n"
     ]
    },
    {
     "name": "stderr",
     "output_type": "stream",
     "text": [
      "c:\\Users\\sabih.rehman\\AppData\\Local\\Programs\\Python\\Python39\\lib\\site-packages\\keras\\src\\layers\\core\\embedding.py:90: UserWarning: Argument `input_length` is deprecated. Just remove it.\n",
      "  warnings.warn(\n"
     ]
    },
    {
     "name": "stdout",
     "output_type": "stream",
     "text": [
      "18/18 - 3s - 140ms/step - accuracy: 0.6781 - loss: 0.6359 - val_accuracy: 0.7857 - val_loss: 0.5805\n",
      "Epoch 2/5\n",
      "18/18 - 1s - 37ms/step - accuracy: 0.6871 - loss: 0.5325 - val_accuracy: 0.8429 - val_loss: 0.3483\n",
      "Epoch 3/5\n",
      "18/18 - 1s - 34ms/step - accuracy: 0.9299 - loss: 0.2294 - val_accuracy: 0.9571 - val_loss: 0.1322\n",
      "Epoch 4/5\n",
      "18/18 - 1s - 32ms/step - accuracy: 0.9928 - loss: 0.0324 - val_accuracy: 0.9571 - val_loss: 0.1376\n",
      "Epoch 5/5\n",
      "18/18 - 1s - 34ms/step - accuracy: 0.9982 - loss: 0.0051 - val_accuracy: 0.9714 - val_loss: 0.0987\n",
      "\u001b[1m5/5\u001b[0m \u001b[32m━━━━━━━━━━━━━━━━━━━━\u001b[0m\u001b[37m\u001b[0m \u001b[1m0s\u001b[0m 34ms/step\n",
      "Training and evaluating Variation 6...\n",
      "Epoch 1/5\n"
     ]
    },
    {
     "name": "stderr",
     "output_type": "stream",
     "text": [
      "c:\\Users\\sabih.rehman\\AppData\\Local\\Programs\\Python\\Python39\\lib\\site-packages\\keras\\src\\layers\\core\\embedding.py:90: UserWarning: Argument `input_length` is deprecated. Just remove it.\n",
      "  warnings.warn(\n"
     ]
    },
    {
     "name": "stdout",
     "output_type": "stream",
     "text": [
      "18/18 - 3s - 169ms/step - accuracy: 0.6655 - loss: 0.6441 - val_accuracy: 0.7857 - val_loss: 0.5944\n",
      "Epoch 2/5\n",
      "18/18 - 1s - 38ms/step - accuracy: 0.6871 - loss: 0.5941 - val_accuracy: 0.7857 - val_loss: 0.4823\n",
      "Epoch 3/5\n",
      "18/18 - 1s - 39ms/step - accuracy: 0.6871 - loss: 0.4247 - val_accuracy: 0.8857 - val_loss: 0.2876\n",
      "Epoch 4/5\n",
      "18/18 - 1s - 37ms/step - accuracy: 0.9119 - loss: 0.2579 - val_accuracy: 0.9357 - val_loss: 0.3131\n",
      "Epoch 5/5\n",
      "18/18 - 1s - 39ms/step - accuracy: 0.9838 - loss: 0.1151 - val_accuracy: 0.9357 - val_loss: 0.3540\n",
      "\u001b[1m5/5\u001b[0m \u001b[32m━━━━━━━━━━━━━━━━━━━━\u001b[0m\u001b[37m\u001b[0m \u001b[1m0s\u001b[0m 31ms/step\n"
     ]
    }
   ],
   "source": [
    "for name, model_function in variations:\n",
    "    print(f\"Training and evaluating {name}...\")\n",
    "    metrics = train_and_evaluate_cnn(model_function, train_data, test_data)\n",
    "    results[name] = metrics\n"
   ]
  },
  {
   "cell_type": "markdown",
   "metadata": {},
   "source": [
    "## Visualization of Results:\n"
   ]
  },
  {
   "cell_type": "code",
   "execution_count": 23,
   "metadata": {},
   "outputs": [
    {
     "data": {
      "image/png": "[encoded data removed]",
      "text/plain": [
       "<Figure size 1200x600 with 1 Axes>"
      ]
     },
     "metadata": {},
     "output_type": "display_data"
    }
   ],
   "source": [
    "# Visualization of Results\n",
    "metrics = ['accuracy', 'f1-score']\n",
    "plt.figure(figsize=(12, 6))\n",
    "for i, metric in enumerate(metrics):\n",
    "    scores = [results[name][metric] for name, _ in variations]\n",
    "    plt.plot(range(1, 7), scores, marker='o', label=metric)\n",
    "\n",
    "plt.title('Performance Comparison of CNN Variations')\n",
    "plt.xlabel('CNN Variation')\n",
    "plt.ylabel('Score')\n",
    "plt.legend()\n",
    "plt.xticks(range(1, 7), [name for name, _ in variations])\n",
    "plt.grid()\n",
    "plt.show()\n"
   ]
  },
  {
   "cell_type": "markdown",
   "metadata": {},
   "source": [
    "The graph illustrates the performance comparison of various CNN variations using accuracy and F1-score as evaluation metrics. Accuracy remains consistently high across the variations, with Variations 1 and 2 achieving the best results, indicating their strong overall predictive performance. However, a slight decline is observed in accuracy for Variations 3, 4, and 6.\n",
    "\n",
    "The F1-score, on the other hand, shows more variability. While Variation 5 achieves the highest F1-score, indicating a strong balance between precision and recall, Variation 6 exhibits a dramatic drop, suggesting challenges in handling imbalanced datasets or maintaining an effective precision-recall trade-off. The discrepancies between accuracy and F1-score, particularly in Variation 6, emphasize the importance of considering F1-score in addition to accuracy, especially for tasks with imbalanced classes.\n",
    "\n",
    "Overall, Variations 1 and 2 perform well on both metrics, making them promising candidates for further exploration or deployment. The poor F1-score for Variation 6 warrants further investigation and optimization to improve its performance."
   ]
  }
 ],
 "metadata": {
  "kernelspec": {
   "display_name": "Python 3",
   "language": "python",
   "name": "python3"
  },
  "language_info": {
   "codemirror_mode": {
    "name": "ipython",
    "version": 3
   },
   "file_extension": ".py",
   "mimetype": "text/x-python",
   "name": "python",
   "nbconvert_exporter": "python",
   "pygments_lexer": "ipython3",
   "version": "3.9.9"
  }
 },
 "nbformat": 4,
 "nbformat_minor": 2
}
