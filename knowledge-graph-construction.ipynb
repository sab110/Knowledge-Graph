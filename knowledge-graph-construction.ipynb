{
 "cells": [
  {
   "cell_type": "markdown",
   "metadata": {},
   "source": [
    "# Knowledge Graph Construction Using AI\n",
    "This notebook demonstrates the construction of a knowledge graph using AI techniques. We will use two different AI models to construct the knowledge graph and compare their performance.\n"
   ]
  },
  {
   "cell_type": "code",
   "execution_count": 38,
   "metadata": {
    "execution": {
     "iopub.execute_input": "2024-06-18T08:30:44.988908Z",
     "iopub.status.busy": "2024-06-18T08:30:44.988463Z",
     "iopub.status.idle": "2024-06-18T08:30:44.996770Z",
     "shell.execute_reply": "2024-06-18T08:30:44.995625Z",
     "shell.execute_reply.started": "2024-06-18T08:30:44.988876Z"
    }
   },
   "outputs": [
    {
     "name": "stdout",
     "output_type": "stream",
     "text": [
      "All files: ['sdgIndicatorData__9.3.1.json5', 'sdgIndicatorData__16.6.2.json5', 'sdgIndicatorPivotData__13.1.2.json5', 'sdgIndicatorPivotData__13.1.3.json5', 'sdgIndicatorPivotData__2.2.1.json5', 'sdgIndicatorPivotData__2.5.2.json5', 'sdgIndicatorData__11.3.1.json5', 'sdgIndicatorPivotData__3.d.2.json5', 'sdgIndicatorPivotData__12.b.1.json5', 'sdgIndicatorPivotData__17.18.2.json5', 'sdgIndicatorPivotData__8.10.2.json5', 'sdgIndicatorPivotData__16.10.1.json5', 'sdgIndicatorData__4.4.1.json5', 'sdgIndicatorData__13.2.2.json5', 'sdgIndicatorData__16.10.1.json5', 'sdgIndicatorData__7.2.1.json5', 'sdgIndicatorPivotData__10.7.2.json5', 'sdgIndicatorPivotData__8.7.1.json5', 'sdgIndicatorData__14.5.1.json5', 'sdgIndicatorData__15.1.1.json5', 'sdgIndicatorPivotData__5.6.1.json5', 'sdgIndicatorPivotData__2.2.2.json5', 'sdgIndicatorData__14.3.1.json5', 'sdgIndicatorData__3.3.5.json5', 'sdgIndicatorPivotData__2.b.1.json5', 'sdgIndicatorPivotData__17.13.1.json5', 'sdgIndicatorData__12.3.1.json5', 'sdgIndicatorPivotData__2.1.2.json5', 'sdgIndicatorData__7.3.1.json5', 'sdgIndicatorData__12.4.1.json5', 'sdgIndicatorPivotData__17.16.1.json5', 'sdgIndicatorPivotData__3.9.1.json5', 'sdgIndicatorData__7.1.1.json5', 'sdgIndicatorPivotData__13.2.2.json5', 'sdgIndicatorPivotData__1.2.1.json5', 'sdgIndicatorPivotData__16.8.1.json5', 'sdgIndicatorData__16.1.2.json5', 'sdgIndicatorPivotData__15.4.2.json5', 'sdgIndicatorData__16.9.1.json5', 'sdgIndicatorData__17.1.1.json5', 'sdgIndicatorData__5.6.2.json5', 'sdgIndicatorPivotData__14.6.1.json5', 'sdgIndicatorPivotData__1.a.1.json5', 'sdgIndicatorData__8.3.1.json5', 'sdgIndicatorPivotData__11.3.1.json5', 'sdgIndicatorPivotData__10.2.1.json5', 'sdgIndicatorData__12.6.1.json5', 'sdgIndicatorData__17.16.1.json5', 'sdgIndicatorData__10.5.1.json5', 'sdgIndicatorPivotData__15.c.1.json5', 'sdgIndicatorPivotData__14.7.1.json5', 'sdgIndicatorPivotData__6.4.1.json5', 'sdgIndicatorPivotData__15.4.1.json5', 'sdgIndicatorPivotData__15.5.1.json5', 'sdgIndicatorPivotData__1.5.4.json5', 'sdgIndicatorData__3.1.1.json5', 'sdgIndicatorData__15.9.1.json5', 'sdgIndicatorPivotData__11.6.2.json5', 'sdgIndicatorData__1.5.1.json5', 'sdgIndicatorData__10.7.4.json5', 'sdgIndicatorData__5.a.2.json5', 'sdgIndicatorData__11.a.1.json5', 'sdgIndicatorPivotData__3.2.2.json5', 'sdgIndicatorPivotData__10.3.1.json5', 'sdgIndicatorPivotData__6.5.1.json5', 'sdgIndicatorPivotData__15.8.1.json5', 'sdgIndicatorPivotData__8.1.1.json5', 'sdgIndicatorData__7.1.2.json5', 'sdgIndicatorData__6.4.2.json5', 'sdgIndicatorPivotData__2.3.2.json5', 'sdgIndicatorPivotData__11.b.1.json5', 'sdgIndicatorData__16.8.1.json5', 'sdgIndicatorData__14.b.1.json5', 'sdgIndicatorPivotData__16.4.2.json5', 'sdgIndicatorPivotData__16.3.3.json5', 'sdgIndicatorData__5.4.1.json5', 'sdgIndicatorData__17.15.1.json5', 'sdgIndicatorData__8.5.1.json5', 'sdgIndicatorPivotData__5.6.2.json5', 'sdgIndicatorData__5.3.1.json5', 'sdgIndicatorData__8.4.1.json5', 'sdgIndicatorPivotData__6.a.1.json5', 'sdgIndicatorData__14.c.1.json5', 'sdgIndicatorData__2.3.1.json5', 'sdgIndicatorData__5.1.1.json5', 'sdgIndicatorPivotData__3.b.2.json5', 'sdgIndicatorData__17.6.1.json5', 'sdgIndicatorPivotData__4.7.1.json5', 'sdgIndicatorData__14.2.1.json5', 'sdgIndicatorData__1.5.3.json5', 'sdgIndicatorPivotData__4.b.1.json5', 'sdgIndicatorData__17.9.1.json5', 'sdgIndicatorData__2.5.1.json5', 'sdgIndicatorPivotData__4.1.2.json5', 'sdgIndicatorData__9.5.1.json5', 'sdgIndicatorPivotData__2.1.1.json5', 'sdgIndicatorPivotData__14.4.1.json5', 'sdgIndicatorPivotData__14.a.1.json5', 'sdgIndicatorPivotData__13.2.1.json5', 'indicatorPivotDataMeta.json5', 'sdgIndicatorPivotData__12.4.2.json5', 'sdgIndicatorData__2.5.2.json5', 'sdgIndicatorPivotData__1.1.1.json5', 'sdgIndicatorData__5.b.1.json5', 'sdgIndicatorPivotData__10.5.1.json5', 'sdgIndicatorPivotData__17.17.1.json5', 'sdgIndicatorPivotData__3.9.3.json5', 'sdgIndicatorPivotData__14.5.1.json5', 'sdgIndicatorPivotData__16.10.2.json5', 'sdgIndicatorPivotData__7.3.1.json5', 'sdgIndicatorPivotData__10.a.1.json5', 'sdgIndicatorPivotData__16.3.1.json5', 'sdgIndicatorData__10.a.1.json5', 'sdgIndicatorData__3.7.2.json5', 'sdgIndicatorPivotData__11.5.1.json5', 'sdgIndicatorData__10.2.1.json5', 'sdgIndicatorData__12.2.1.json5', 'sdgIndicatorData__13.a.1.json5', 'sdgIndicatorData__7.a.1.json5', 'sdgIndicatorData__3.8.2.json5', 'sdgIndicatorPivotData__10.7.3.json5', 'sdgIndicatorData__6.b.1.json5', 'sdgIndicatorData__1.5.2.json5', 'sdgIndicatorData__6.a.1.json5', 'sdgIndicatorPivotData__14.b.1.json5', 'sdgIndicatorPivotData__2.5.1.json5', 'sdgIndicatorData__3.8.1.json5', 'sdgIndicatorPivotData__3.3.4.json5', 'sdgIndicatorData__9.3.2.json5', 'sdgIndicatorPivotData__4.1.1.json5', 'sdgIndicatorData__16.a.1.json5', 'sdgIndicatorData__9.2.2.json5', 'sdgIndicatorPivotData__1.b.1.json5', 'sdgIndicatorData__4.3.1.json5', 'sdgIndicatorData__15.2.1.json5', 'sdgIndicatorPivotData__9.c.1.json5', 'sdgIndicatorPivotData__10.4.1.json5', 'sdgIndicatorPivotData__1.5.1.json5', 'sdgIndicatorPivotData__16.1.4.json5', 'sdgIndicatorData__5.5.1.json5', 'sdgIndicatorPivotData__6.5.2.json5', 'sdgIndicatorData__3.1.2.json5', 'sdgIndicatorData__16.2.2.json5', 'sdgIndicatorPivotData__14.2.1.json5', 'sdgIndicatorData__2.a.2.json5', 'sdgIndicatorPivotData__5.2.2.json5', 'sdgIndicatorData__3.3.2.json5', 'sdgIndicatorPivotData__11.7.1.json5', 'sdgIndicatorPivotData__7.a.1.json5', 'sdgIndicatorPivotData__15.b.1.json5', 'sdgIndicatorData__2.4.1.json5', 'sdgIndicatorData__8.10.1.json5', 'sdgIndicatorData__2.2.1.json5', 'sdgIndicatorPivotData__3.4.2.json5', 'sdgIndicatorPivotData__17.19.1.json5', 'sdgIndicatorPivotData__11.5.3.json5', 'sdgIndicatorData__16.3.3.json5', 'sdgIndicatorData__3.9.2.json5', 'sdgIndicatorPivotData__16.4.1.json5', 'sdgIndicatorData__7.b.1.json5', 'sdgIndicatorPivotData__15.6.1.json5', 'sdgIndicatorData__11.7.1.json5', 'sdgIndicatorData__3.d.2.json5', 'sdgIndicatorData__6.2.1.json5', 'sdgIndicatorPivotData__16.2.2.json5', 'sdgIndicatorPivotData__8.10.1.json5', 'sdgIndicatorData__6.6.1.json5', 'sdgIndicatorData__11.5.2.json5', 'sdgIndicatorPivotData__16.9.1.json5', 'sdgIndicatorData__16.b.1.json5', 'sdgIndicatorPivotData__3.1.1.json5', 'sdgIndicatorPivotData__11.1.1.json5', 'sdgIndicatorPivotData__12.3.1.json5', 'sdgIndicatorPivotData__9.3.2.json5', 'sdgIndicatorData__12.5.1.json5', 'sdgIndicatorData__1.b.1.json5', 'sdgIndicatorPivotData__9.b.1.json5', 'sdgIndicatorPivotData__16.7.2.json5', 'sdgIndicatorPivotData__3.7.1.json5', 'sdgIndicatorData__3.9.1.json5', 'sdgIndicatorData__14.1.1.json5', 'sdgIndicatorData__3.4.1.json5', 'sdgIndicatorPivotData__17.3.2.json5', 'sdgIndicatorData__10.1.1.json5', 'sdgIndicatorData__11.5.3.json5', 'sdgIndicatorData__8.7.1.json5', 'sdgIndicatorPivotData__6.6.1.json5', 'sdgIndicatorPivotData__17.5.1.json5', 'sdgIndicatorData__9.1.1.json5', 'sdgIndicatorData__11.6.1.json5', 'sdgIndicatorPivotData__3.c.1.json5', 'sdgIndicatorPivotData__11.6.1.json5', 'sdgIndicatorPivotData__16.5.1.json5', 'sdgIndicatorData__13.1.2.json5', 'sdgIndicatorData__8.4.2.json5', 'sdgIndicatorData__17.14.1.json5', 'sdgIndicatorData__4.2.2.json5', 'sdgIndicatorData__11.6.2.json5', 'sdgIndicatorPivotData__12.4.1.json5', 'sdgIndicatorPivotData__3.9.2.json5', 'sdgIndicatorPivotData__17.15.1.json5', 'sdgIndicatorData__5.3.2.json5', 'sdgIndicatorData__16.7.1.json5', 'sdgIndicatorPivotData__15.2.1.json5', 'sdgIndicatorData__4.c.1.json5', 'sdgIndicatorData__12.1.1.json5', 'sdgIndicatorData__1.2.1.json5', 'sdgIndicatorPivotData__12.c.1.json5', 'sdgIndicatorPivotData__17.1.1.json5', 'sdgIndicatorPivotData__9.2.1.json5', 'sdgIndicatorData__15.8.1.json5', 'sdgIndicatorPivotData__16.1.1.json5', 'sdgIndicatorPivotData__3.1.2.json5', 'sdgIndicatorData__8.8.1.json5', 'sdgIndicatorPivotData__11.a.1.json5', 'sdgIndicatorData__9.a.1.json5', 'sdgIndicatorData__1.3.1.json5', 'sdgIndicatorData__3.5.1.json5', 'sdgIndicatorData__8.6.1.json5', 'sdgIndicatorData__16.3.1.json5', 'sdgIndicatorPivotData__17.3.1.json5', 'sdgIndicatorData__5.2.2.json5', 'sdgIndicatorData__4.7.1.json5', 'sdgIndicatorPivotData__3.3.2.json5', 'sdgIndicatorData__15.a.1.json5', 'sdgIndicatorPivotData__4.4.1.json5', 'sdgIndicatorPivotData__8.5.2.json5', 'sdgIndicatorData__17.7.1.json5', 'sdgIndicatorPivotData__7.1.2.json5', 'sdgIndicatorData__12.8.1.json5', 'sdgIndicatorData__4.2.1.json5', 'sdgIndicatorData__17.13.1.json5', 'sdgIndicatorData__4.5.1.json5', 'sdgIndicatorData__5.6.1.json5', 'sdgIndicatorData__3.4.2.json5', 'sdgIndicatorData__4.b.1.json5', 'sdgIndicatorData__15.4.2.json5', 'sdgIndicatorData__14.7.1.json5', 'sdgIndicatorPivotData__3.8.2.json5', 'sdgIndicatorData__6.1.1.json5', 'sdgIndicatorData__3.5.2.json5', 'sdgIndicatorPivotData__6.4.2.json5', 'sdgIndicatorPivotData__7.b.1.json5', 'sdgIndicatorData__16.5.2.json5', 'sdgIndicatorData__12.4.2.json5', 'sdgIndicatorPivotData__2.4.1.json5', 'sdgIndicatorPivotData__15.1.2.json5', 'sdgIndicatorData__16.3.2.json5', 'indicatorDataMeta.json5', 'sdgIndicatorData__17.2.1.json5', 'sdgIndicatorPivotData__5.3.2.json5', 'sdgIndicatorPivotData__8.a.1.json5', 'sdgIndicatorPivotData__17.11.1.json5', 'sdgIndicatorData__8.9.1.json5', 'sdgIndicatorPivotData__5.5.2.json5', 'sdgIndicatorData__13.1.3.json5', 'sdgIndicatorPivotData__5.a.2.json5', 'sdgIndicatorData__10.4.2.json5', 'sdgIndicatorPivotData__2.c.1.json5', 'sdgIndicatorPivotData__8.5.1.json5', 'sdgIndicatorPivotData__8.b.1.json5', 'sdgIndicatorPivotData__12.8.1.json5', 'sdgIndicatorPivotData__11.b.2.json5', 'sdgIndicatorData__12.b.1.json5', 'sdgIndicatorPivotData__3.3.3.json5', 'sdgIndicatorPivotData__1.5.3.json5', 'sdgIndicatorData__10.b.1.json5', 'sdgIndicatorData__12.2.2.json5', 'sdgIndicatorData__17.19.1.json5', 'sdgIndicatorData__2.3.2.json5', 'sdgIndicatorPivotData__17.18.1.json5', 'sdgIndicatorPivotData__2.a.2.json5', 'sdgIndicatorData__10.7.2.json5', 'sdgIndicatorPivotData__12.1.1.json5', 'sdgIndicatorPivotData__3.5.1.json5', 'sdgIndicatorData__8.a.1.json5', 'sdgIndicatorPivotData__9.1.1.json5', 'sdgIndicatorData__14.4.1.json5', 'sdgIndicatorPivotData__14.3.1.json5', 'sdgIndicatorPivotData__14.1.1.json5', 'sdgIndicatorPivotData__8.8.2.json5', 'sdgIndicatorPivotData__16.1.3.json5', 'sdgIndicatorPivotData__2.2.3.json5', 'sdgIndicatorData__17.18.3.json5', 'sdgIndicatorPivotData__16.5.2.json5', 'sdgIndicatorPivotData__16.1.2.json5', 'sdgIndicatorPivotData__9.a.1.json5', 'sdgIndicatorPivotData__6.1.1.json5', 'sdgIndicatorPivotData__5.a.1.json5', 'sdgIndicatorPivotData__4.6.1.json5', 'sdgIndicatorData__17.18.1.json5', 'sdgIndicatorPivotData__6.2.1.json5', 'sdgIndicatorData__6.5.1.json5', 'sdgIndicatorPivotData__6.b.1.json5', 'sdgIndicatorData__11.4.1.json5', 'sdgIndicatorData__3.7.1.json5', 'sdgIndicatorData__11.1.1.json5', 'sdgIndicatorData__17.19.2.json5', 'sdgIndicatorData__2.2.2.json5', 'sdgIndicatorPivotData__17.10.1.json5', 'sdgIndicatorData__3.b.1.json5', 'sdgIndicatorData__11.5.1.json5', 'sdgIndicatorData__1.2.2.json5', 'sdgIndicatorPivotData__8.4.1.json5', 'sdgIndicatorData__3.d.1.json5', 'sdgIndicatorData__8.10.2.json5', 'sdgIndicatorData__16.4.1.json5', 'sdgIndicatorData__10.4.1.json5', 'sdgIndicatorData__9.b.1.json5', 'sdgIndicatorPivotData__11.4.1.json5', 'sdgIndicatorPivotData__1.4.1.json5', 'sdgIndicatorPivotData__17.14.1.json5', 'sdgIndicatorData__16.6.1.json5', 'sdgIndicatorData__5.5.2.json5', 'sdgIndicatorPivotData__12.a.1.json5', 'sdgIndicatorData__1.1.1.json5', 'sdgIndicatorData__11.b.2.json5', 'sdgIndicatorData__17.12.1.json5', 'sdgIndicatorData__6.3.2.json5', 'sdgIndicatorPivotData__10.1.1.json5', 'sdgIndicatorData__9.1.2.json5', 'sdgIndicatorData__11.3.2.json5', 'sdgIndicatorData__15.c.1.json5', 'sdgIndicatorPivotData__3.2.1.json5', 'sdgIndicatorPivotData__12.6.1.json5', 'sdgIndicatorPivotData__6.3.2.json5', 'sdgIndicatorData__9.2.1.json5', 'sdgIndicatorPivotData__3.b.3.json5', 'sdgIndicatorData__5.c.1.json5', 'sdgIndicatorData__9.5.2.json5', 'sdgIndicatorPivotData__16.6.1.json5', 'sdgIndicatorData__16.2.3.json5', 'sdgIndicatorData__15.6.1.json5', 'sdgIndicatorPivotData__9.1.2.json5', 'sdgIndicatorPivotData__4.c.1.json5', 'sdgIndicatorPivotData__15.7.1.json5', 'sdgIndicatorPivotData__13.3.1.json5', 'sdgIndicatorPivotData__4.3.1.json5', 'sdgIndicatorData__13.b.1.json5', 'sdgIndicatorData__12.7.1.json5', 'sdgIndicatorPivotData__17.6.1.json5', 'sdgIndicatorPivotData__11.7.2.json5', 'sdgIndicatorPivotData__11.2.1.json5', 'sdgIndicatorPivotData__5.3.1.json5', 'sdgIndicatorData__16.1.4.json5', 'sdgIndicatorPivotData__13.b.1.json5', 'sdgIndicatorPivotData__8.8.1.json5', 'sdgIndicatorPivotData__5.b.1.json5', 'sdgIndicatorPivotData__10.b.1.json5', 'sdgIndicatorPivotData__3.3.5.json5', 'sdgIndicatorData__16.4.2.json5', 'sdgIndicatorPivotData__16.2.3.json5', 'sdgIndicatorData__8.8.2.json5', 'sdgIndicatorPivotData__12.2.2.json5', 'sdgIndicatorData__9.c.1.json5', 'sdgIndicatorPivotData__3.3.1.json5', 'sdgIndicatorData__16.1.1.json5', 'sdgIndicatorData__6.3.1.json5', 'sdgIndicatorPivotData__14.c.1.json5', 'sdgIndicatorData__13.2.1.json5', 'sdgIndicatorData__8.b.1.json5', 'sdgIndicatorData__4.a.1.json5', 'sdgIndicatorData__3.c.1.json5', 'sdgIndicatorPivotData__3.6.1.json5', 'sdgIndicatorData__14.a.1.json5', 'sdgIndicatorPivotData__17.1.2.json5', 'sdgIndicatorPivotData__12.5.1.json5', 'sdgIndicatorPivotData__9.5.1.json5', 'sdgIndicatorData__2.1.2.json5', 'sdgIndicatorData__8.5.2.json5', 'sdgIndicatorData__4.6.1.json5', 'sdgIndicatorData__16.7.2.json5', 'sdgIndicatorData__12.c.1.json5', 'sdgIndicatorData__15.5.1.json5', 'sdgIndicatorData__17.3.2.json5', 'sdgIndicatorPivotData__12.2.1.json5', 'sdgIndicatorData__16.5.1.json5', 'sdgIndicatorData__11.b.1.json5', 'sdgIndicatorData__17.1.2.json5', 'sdgIndicatorPivotData__4.5.1.json5', 'sdgIndicatorPivotData__17.8.1.json5', 'sdgIndicatorPivotData__16.3.2.json5', 'sdgIndicatorPivotData__3.a.1.json5', 'sdgIndicatorPivotData__17.2.1.json5', 'sdgIndicatorData__3.a.1.json5', 'sdgIndicatorData__10.c.1.json5', 'sdgIndicatorData__17.11.1.json5', 'sdgIndicatorData__5.a.1.json5', 'sdgIndicatorData__10.6.1.json5', 'sdgIndicatorPivotData__15.a.1.json5', 'sdgIndicatorData__2.2.3.json5', 'sdgIndicatorData__4.1.2.json5', 'sdgIndicatorData__8.2.1.json5', 'sdgIndicatorPivotData__1.5.2.json5', 'sdgIndicatorData__3.3.1.json5', 'sdgIndicatorPivotData__8.4.2.json5', 'sdgIndicatorPivotData__13.1.1.json5', 'sdgIndicatorPivotData__3.d.1.json5', 'sdgIndicatorPivotData__16.7.1.json5', 'sdgIndicatorData__4.1.1.json5', 'sdgIndicatorPivotData__10.c.1.json5', 'sdgIndicatorData__3.2.1.json5', 'sdgIndicatorPivotData__16.b.1.json5', 'sdgIndicatorPivotData__5.4.1.json5', 'sdgIndicatorPivotData__2.a.1.json5', 'sdgIndicatorData__6.4.1.json5', 'sdgIndicatorData__16.2.1.json5', 'sdgIndicatorData__3.3.4.json5', 'sdgIndicatorPivotData__4.a.1.json5', 'sdgIndicatorPivotData__10.7.1.json5', 'sdgIndicatorPivotData__16.6.2.json5', 'sdgIndicatorData__2.1.1.json5', 'sdgIndicatorData__8.1.1.json5', 'sdgIndicatorPivotData__9.3.1.json5', 'sdgIndicatorPivotData__4.2.2.json5', 'sdgIndicatorPivotData__8.6.1.json5', 'sdgIndicatorData__5.2.1.json5', 'sdgIndicatorData__17.17.1.json5', 'sdgIndicatorPivotData__1.a.2.json5', 'sdgIndicatorPivotData__17.19.2.json5', 'sdgIndicatorData__15.3.1.json5', 'sdgIndicatorPivotData__5.5.1.json5', 'sdgIndicatorData__12.a.1.json5', 'sdgIndicatorData__13.3.1.json5', 'sdgIndicatorPivotData__1.3.1.json5', 'sdgIndicatorData__15.1.2.json5', 'sdgIndicatorData__15.7.1.json5', 'sdgIndicatorData__17.18.2.json5', 'sdgIndicatorData__16.10.2.json5', 'sdgIndicatorData__6.5.2.json5', 'sdgIndicatorPivotData__13.a.1.json5', 'sdgIndicatorData__10.3.1.json5', 'sdgIndicatorPivotData__10.7.4.json5', 'sdgIndicatorPivotData__10.4.2.json5', 'sdgIndicatorData__9.4.1.json5', 'sdgIndicatorData__3.9.3.json5', 'sdgIndicatorPivotData__3.b.1.json5', 'sdgIndicatorData__2.c.1.json5', 'sdgIndicatorData__17.8.1.json5', 'sdgIndicatorPivotData__8.3.1.json5', 'sdgIndicatorPivotData__11.3.2.json5', 'sdgIndicatorData__10.7.3.json5', 'sdgIndicatorPivotData__17.7.1.json5', 'sdgIndicatorData__14.6.1.json5', 'sdgIndicatorPivotData__3.5.2.json5', 'sdgIndicatorPivotData__3.7.2.json5', 'sdgIndicatorData__1.4.1.json5', 'sdgIndicatorPivotData__11.5.2.json5', 'sdgIndicatorPivotData__7.1.1.json5', 'sdgIndicatorPivotData__3.8.1.json5', 'sdgIndicatorData__11.7.2.json5', 'sdgIndicatorData__3.2.2.json5', 'sdgIndicatorPivotData__10.6.1.json5', 'sdgIndicatorData__11.2.1.json5', 'sdgIndicatorData__17.10.1.json5', 'sdgIndicatorPivotData__3.4.1.json5', 'sdgIndicatorData__2.b.1.json5', 'sdgIndicatorData__1.a.2.json5', 'sdgIndicatorPivotData__17.12.1.json5', 'sdgIndicatorPivotData__5.1.1.json5', 'sdgIndicatorPivotData__9.4.1.json5', 'sdgIndicatorPivotData__9.5.2.json5', 'sdgIndicatorData__3.6.1.json5', 'sdgIndicatorPivotData__12.7.1.json5', 'sdgIndicatorPivotData__8.9.1.json5', 'sdgIndicatorPivotData__6.3.1.json5', 'sdgIndicatorPivotData__16.a.1.json5', 'sdgIndicatorPivotData__5.2.1.json5', 'sdgIndicatorPivotData__9.2.2.json5', 'sdgIndicatorData__16.1.3.json5', 'sdgIndicatorPivotData__1.4.2.json5', 'sdgIndicatorData__17.5.1.json5', 'sdgIndicatorPivotData__5.c.1.json5', 'sdgIndicatorData__10.7.1.json5', 'sdgIndicatorData__13.1.1.json5', 'sdgIndicatorPivotData__15.9.1.json5', 'sdgIndicatorPivotData__16.2.1.json5', 'sdgIndicatorPivotData__2.3.1.json5', 'sdgIndicatorData__15.b.1.json5', 'sdgIndicatorData__3.3.3.json5', 'sdgIndicatorPivotData__17.18.3.json5', 'sdgIndicatorData__1.a.1.json5', 'sdgIndicatorPivotData__4.2.1.json5', 'sdgIndicatorData__17.3.1.json5', 'sdgIndicatorData__17.4.1.json5', 'sdgIndicatorPivotData__15.3.1.json5', 'sdgIndicatorPivotData__7.2.1.json5', 'sdgIndicatorData__2.a.1.json5', 'sdgIndicatorPivotData__15.1.1.json5', 'sdgIndicatorPivotData__17.4.1.json5', 'sdgIndicatorPivotData__1.2.2.json5', 'sdgIndicatorData__1.5.4.json5', 'sdgIndicatorData__3.b.3.json5', 'sdgIndicatorPivotData__8.2.1.json5', 'sdgIndicatorData__3.b.2.json5', 'sdgIndicatorData__15.4.1.json5', 'sdgIndicatorPivotData__17.9.1.json5', 'sdgIndicatorData__1.4.2.json5']\n"
     ]
    }
   ],
   "source": [
    "import os\n",
    "\n",
    "data_dir = '/kaggle/input/json-data/reduced_mixed_3'\n",
    "\n",
    "all_files = os.listdir(data_dir)\n",
    "print(f\"All files: {all_files}\")\n"
   ]
  },
  {
   "cell_type": "markdown",
   "metadata": {},
   "source": [
    "# Data Loading and Preprocessing:\n",
    "* Loads SDG indicator data from multiple JSON5 files.\n",
    "* Inspects and verifies data structure."
   ]
  },
  {
   "cell_type": "code",
   "execution_count": 39,
   "metadata": {
    "execution": {
     "iopub.execute_input": "2024-06-18T08:30:44.999038Z",
     "iopub.status.busy": "2024-06-18T08:30:44.998721Z",
     "iopub.status.idle": "2024-06-18T08:31:02.109639Z",
     "shell.execute_reply": "2024-06-18T08:31:02.108699Z",
     "shell.execute_reply.started": "2024-06-18T08:30:44.999003Z"
    }
   },
   "outputs": [
    {
     "name": "stdout",
     "output_type": "stream",
     "text": [
      "Loaded data from sdgIndicatorData__9.3.1.json5: dict_keys(['size', 'totalElements', 'totalPages', 'pageNumber', 'data'])\n",
      "Loaded data from sdgIndicatorData__16.6.2.json5: dict_keys(['size', 'totalElements', 'totalPages', 'pageNumber', 'data'])\n",
      "Loaded data from sdgIndicatorData__11.3.1.json5: dict_keys(['size', 'totalElements', 'totalPages', 'pageNumber', 'data'])\n",
      "Loaded data from sdgIndicatorData__4.4.1.json5: dict_keys(['size', 'totalElements', 'totalPages', 'pageNumber', 'data'])\n",
      "Loaded data from sdgIndicatorData__13.2.2.json5: dict_keys(['size', 'totalElements', 'totalPages', 'pageNumber', 'data'])\n",
      "Loaded data from sdgIndicatorData__16.10.1.json5: dict_keys(['size', 'totalElements', 'totalPages', 'pageNumber', 'data'])\n",
      "Loaded data from sdgIndicatorData__7.2.1.json5: dict_keys(['size', 'totalElements', 'totalPages', 'pageNumber', 'data'])\n",
      "Loaded data from sdgIndicatorData__14.5.1.json5: dict_keys(['size', 'totalElements', 'totalPages', 'pageNumber', 'data'])\n",
      "Loaded data from sdgIndicatorData__15.1.1.json5: dict_keys(['size', 'totalElements', 'totalPages', 'pageNumber', 'data'])\n",
      "Loaded data from sdgIndicatorData__14.3.1.json5: dict_keys(['size', 'totalElements', 'totalPages', 'pageNumber', 'data'])\n",
      "Loaded data from sdgIndicatorData__3.3.5.json5: dict_keys(['size', 'totalElements', 'totalPages', 'pageNumber', 'data'])\n",
      "Loaded data from sdgIndicatorData__12.3.1.json5: dict_keys(['size', 'totalElements', 'totalPages', 'pageNumber', 'data'])\n",
      "Loaded data from sdgIndicatorData__7.3.1.json5: dict_keys(['size', 'totalElements', 'totalPages', 'pageNumber', 'data'])\n",
      "Loaded data from sdgIndicatorData__12.4.1.json5: dict_keys(['size', 'totalElements', 'totalPages', 'pageNumber', 'data'])\n",
      "Loaded data from sdgIndicatorData__7.1.1.json5: dict_keys(['size', 'totalElements', 'totalPages', 'pageNumber', 'data'])\n",
      "Loaded data from sdgIndicatorData__16.1.2.json5: dict_keys(['size', 'totalElements', 'totalPages', 'pageNumber', 'data'])\n",
      "Loaded data from sdgIndicatorData__16.9.1.json5: dict_keys(['size', 'totalElements', 'totalPages', 'pageNumber', 'data'])\n",
      "Loaded data from sdgIndicatorData__17.1.1.json5: dict_keys(['size', 'totalElements', 'totalPages', 'pageNumber', 'data'])\n",
      "Loaded data from sdgIndicatorData__5.6.2.json5: dict_keys(['size', 'totalElements', 'totalPages', 'pageNumber', 'data'])\n",
      "Loaded data from sdgIndicatorData__8.3.1.json5: dict_keys(['size', 'totalElements', 'totalPages', 'pageNumber', 'data'])\n",
      "Loaded data from sdgIndicatorData__12.6.1.json5: dict_keys(['size', 'totalElements', 'totalPages', 'pageNumber', 'data'])\n",
      "Loaded data from sdgIndicatorData__17.16.1.json5: dict_keys(['size', 'totalElements', 'totalPages', 'pageNumber', 'data'])\n",
      "Loaded data from sdgIndicatorData__10.5.1.json5: dict_keys(['size', 'totalElements', 'totalPages', 'pageNumber', 'data'])\n",
      "Loaded data from sdgIndicatorData__3.1.1.json5: dict_keys(['size', 'totalElements', 'totalPages', 'pageNumber', 'data'])\n",
      "Loaded data from sdgIndicatorData__15.9.1.json5: dict_keys(['size', 'totalElements', 'totalPages', 'pageNumber', 'data'])\n",
      "Loaded data from sdgIndicatorData__1.5.1.json5: dict_keys(['size', 'totalElements', 'totalPages', 'pageNumber', 'data'])\n",
      "Loaded data from sdgIndicatorData__10.7.4.json5: dict_keys(['size', 'totalElements', 'totalPages', 'pageNumber', 'data'])\n",
      "Loaded data from sdgIndicatorData__5.a.2.json5: dict_keys(['size', 'totalElements', 'totalPages', 'pageNumber', 'data'])\n",
      "Loaded data from sdgIndicatorData__11.a.1.json5: dict_keys(['size', 'totalElements', 'totalPages', 'pageNumber', 'data'])\n",
      "Loaded data from sdgIndicatorData__7.1.2.json5: dict_keys(['size', 'totalElements', 'totalPages', 'pageNumber', 'data'])\n",
      "Loaded data from sdgIndicatorData__6.4.2.json5: dict_keys(['size', 'totalElements', 'totalPages', 'pageNumber', 'data'])\n",
      "Loaded data from sdgIndicatorData__16.8.1.json5: dict_keys(['size', 'totalElements', 'totalPages', 'pageNumber', 'data'])\n",
      "Loaded data from sdgIndicatorData__14.b.1.json5: dict_keys(['size', 'totalElements', 'totalPages', 'pageNumber', 'data'])\n",
      "Loaded data from sdgIndicatorData__5.4.1.json5: dict_keys(['size', 'totalElements', 'totalPages', 'pageNumber', 'data'])\n",
      "Loaded data from sdgIndicatorData__17.15.1.json5: dict_keys(['size', 'totalElements', 'totalPages', 'pageNumber', 'data'])\n",
      "Loaded data from sdgIndicatorData__8.5.1.json5: dict_keys(['size', 'totalElements', 'totalPages', 'pageNumber', 'data'])\n",
      "Loaded data from sdgIndicatorData__5.3.1.json5: dict_keys(['size', 'totalElements', 'totalPages', 'pageNumber', 'data'])\n",
      "Loaded data from sdgIndicatorData__8.4.1.json5: dict_keys(['size', 'totalElements', 'totalPages', 'pageNumber', 'data'])\n",
      "Loaded data from sdgIndicatorData__14.c.1.json5: dict_keys(['size', 'totalElements', 'totalPages', 'pageNumber', 'data'])\n",
      "Loaded data from sdgIndicatorData__2.3.1.json5: dict_keys(['size', 'totalElements', 'totalPages', 'pageNumber', 'data'])\n",
      "Loaded data from sdgIndicatorData__5.1.1.json5: dict_keys(['size', 'totalElements', 'totalPages', 'pageNumber', 'data'])\n",
      "Loaded data from sdgIndicatorData__17.6.1.json5: dict_keys(['size', 'totalElements', 'totalPages', 'pageNumber', 'data'])\n",
      "Loaded data from sdgIndicatorData__14.2.1.json5: dict_keys(['size', 'totalElements', 'totalPages', 'pageNumber', 'data'])\n",
      "Loaded data from sdgIndicatorData__1.5.3.json5: dict_keys(['size', 'totalElements', 'totalPages', 'pageNumber', 'data'])\n",
      "Loaded data from sdgIndicatorData__17.9.1.json5: dict_keys(['size', 'totalElements', 'totalPages', 'pageNumber', 'data'])\n",
      "Loaded data from sdgIndicatorData__2.5.1.json5: dict_keys(['size', 'totalElements', 'totalPages', 'pageNumber', 'data'])\n",
      "Loaded data from sdgIndicatorData__9.5.1.json5: dict_keys(['size', 'totalElements', 'totalPages', 'pageNumber', 'data'])\n",
      "Loaded data from sdgIndicatorData__2.5.2.json5: dict_keys(['size', 'totalElements', 'totalPages', 'pageNumber', 'data'])\n",
      "Loaded data from sdgIndicatorData__5.b.1.json5: dict_keys(['size', 'totalElements', 'totalPages', 'pageNumber', 'data'])\n",
      "Loaded data from sdgIndicatorData__10.a.1.json5: dict_keys(['size', 'totalElements', 'totalPages', 'pageNumber', 'data'])\n",
      "Loaded data from sdgIndicatorData__3.7.2.json5: dict_keys(['size', 'totalElements', 'totalPages', 'pageNumber', 'data'])\n",
      "Loaded data from sdgIndicatorData__10.2.1.json5: dict_keys(['size', 'totalElements', 'totalPages', 'pageNumber', 'data'])\n",
      "Loaded data from sdgIndicatorData__12.2.1.json5: dict_keys(['size', 'totalElements', 'totalPages', 'pageNumber', 'data'])\n",
      "Loaded data from sdgIndicatorData__13.a.1.json5: dict_keys(['size', 'totalElements', 'totalPages', 'pageNumber', 'data'])\n",
      "Loaded data from sdgIndicatorData__7.a.1.json5: dict_keys(['size', 'totalElements', 'totalPages', 'pageNumber', 'data'])\n",
      "Loaded data from sdgIndicatorData__3.8.2.json5: dict_keys(['size', 'totalElements', 'totalPages', 'pageNumber', 'data'])\n",
      "Loaded data from sdgIndicatorData__6.b.1.json5: dict_keys(['size', 'totalElements', 'totalPages', 'pageNumber', 'data'])\n",
      "Loaded data from sdgIndicatorData__1.5.2.json5: dict_keys(['size', 'totalElements', 'totalPages', 'pageNumber', 'data'])\n",
      "Loaded data from sdgIndicatorData__6.a.1.json5: dict_keys(['size', 'totalElements', 'totalPages', 'pageNumber', 'data'])\n",
      "Loaded data from sdgIndicatorData__3.8.1.json5: dict_keys(['size', 'totalElements', 'totalPages', 'pageNumber', 'data'])\n",
      "Loaded data from sdgIndicatorData__9.3.2.json5: dict_keys(['size', 'totalElements', 'totalPages', 'pageNumber', 'data'])\n",
      "Loaded data from sdgIndicatorData__16.a.1.json5: dict_keys(['size', 'totalElements', 'totalPages', 'pageNumber', 'data'])\n",
      "Loaded data from sdgIndicatorData__9.2.2.json5: dict_keys(['size', 'totalElements', 'totalPages', 'pageNumber', 'data'])\n",
      "Loaded data from sdgIndicatorData__4.3.1.json5: dict_keys(['size', 'totalElements', 'totalPages', 'pageNumber', 'data'])\n",
      "Loaded data from sdgIndicatorData__15.2.1.json5: dict_keys(['size', 'totalElements', 'totalPages', 'pageNumber', 'data'])\n",
      "Loaded data from sdgIndicatorData__5.5.1.json5: dict_keys(['size', 'totalElements', 'totalPages', 'pageNumber', 'data'])\n",
      "Loaded data from sdgIndicatorData__3.1.2.json5: dict_keys(['size', 'totalElements', 'totalPages', 'pageNumber', 'data'])\n",
      "Loaded data from sdgIndicatorData__16.2.2.json5: dict_keys(['size', 'totalElements', 'totalPages', 'pageNumber', 'data'])\n",
      "Loaded data from sdgIndicatorData__2.a.2.json5: dict_keys(['size', 'totalElements', 'totalPages', 'pageNumber', 'data'])\n",
      "Loaded data from sdgIndicatorData__3.3.2.json5: dict_keys(['size', 'totalElements', 'totalPages', 'pageNumber', 'data'])\n",
      "Loaded data from sdgIndicatorData__2.4.1.json5: dict_keys(['size', 'totalElements', 'totalPages', 'pageNumber', 'data'])\n",
      "Loaded data from sdgIndicatorData__8.10.1.json5: dict_keys(['size', 'totalElements', 'totalPages', 'pageNumber', 'data'])\n",
      "Loaded data from sdgIndicatorData__2.2.1.json5: dict_keys(['size', 'totalElements', 'totalPages', 'pageNumber', 'data'])\n",
      "Loaded data from sdgIndicatorData__16.3.3.json5: dict_keys(['size', 'totalElements', 'totalPages', 'pageNumber', 'data'])\n",
      "Loaded data from sdgIndicatorData__3.9.2.json5: dict_keys(['size', 'totalElements', 'totalPages', 'pageNumber', 'data'])\n",
      "Loaded data from sdgIndicatorData__7.b.1.json5: dict_keys(['size', 'totalElements', 'totalPages', 'pageNumber', 'data'])\n",
      "Loaded data from sdgIndicatorData__11.7.1.json5: dict_keys(['size', 'totalElements', 'totalPages', 'pageNumber', 'data'])\n",
      "Loaded data from sdgIndicatorData__3.d.2.json5: dict_keys(['size', 'totalElements', 'totalPages', 'pageNumber', 'data'])\n",
      "Loaded data from sdgIndicatorData__6.2.1.json5: dict_keys(['size', 'totalElements', 'totalPages', 'pageNumber', 'data'])\n",
      "Loaded data from sdgIndicatorData__6.6.1.json5: dict_keys(['size', 'totalElements', 'totalPages', 'pageNumber', 'data'])\n",
      "Loaded data from sdgIndicatorData__11.5.2.json5: dict_keys(['size', 'totalElements', 'totalPages', 'pageNumber', 'data'])\n",
      "Loaded data from sdgIndicatorData__16.b.1.json5: dict_keys(['size', 'totalElements', 'totalPages', 'pageNumber', 'data'])\n",
      "Loaded data from sdgIndicatorData__12.5.1.json5: dict_keys(['size', 'totalElements', 'totalPages', 'pageNumber', 'data'])\n",
      "Loaded data from sdgIndicatorData__1.b.1.json5: dict_keys(['size', 'totalElements', 'totalPages', 'pageNumber', 'data'])\n",
      "Loaded data from sdgIndicatorData__3.9.1.json5: dict_keys(['size', 'totalElements', 'totalPages', 'pageNumber', 'data'])\n",
      "Loaded data from sdgIndicatorData__14.1.1.json5: dict_keys(['size', 'totalElements', 'totalPages', 'pageNumber', 'data'])\n",
      "Loaded data from sdgIndicatorData__3.4.1.json5: dict_keys(['size', 'totalElements', 'totalPages', 'pageNumber', 'data'])\n",
      "Loaded data from sdgIndicatorData__10.1.1.json5: dict_keys(['size', 'totalElements', 'totalPages', 'pageNumber', 'data'])\n",
      "Loaded data from sdgIndicatorData__11.5.3.json5: dict_keys(['size', 'totalElements', 'totalPages', 'pageNumber', 'data'])\n",
      "Loaded data from sdgIndicatorData__8.7.1.json5: dict_keys(['size', 'totalElements', 'totalPages', 'pageNumber', 'data'])\n",
      "Loaded data from sdgIndicatorData__9.1.1.json5: dict_keys(['size', 'totalElements', 'totalPages', 'pageNumber', 'data'])\n",
      "Loaded data from sdgIndicatorData__11.6.1.json5: dict_keys(['size', 'totalElements', 'totalPages', 'pageNumber', 'data'])\n",
      "Loaded data from sdgIndicatorData__13.1.2.json5: dict_keys(['size', 'totalElements', 'totalPages', 'pageNumber', 'data'])\n",
      "Loaded data from sdgIndicatorData__8.4.2.json5: dict_keys(['size', 'totalElements', 'totalPages', 'pageNumber', 'data'])\n",
      "Loaded data from sdgIndicatorData__17.14.1.json5: dict_keys(['size', 'totalElements', 'totalPages', 'pageNumber', 'data'])\n",
      "Loaded data from sdgIndicatorData__4.2.2.json5: dict_keys(['size', 'totalElements', 'totalPages', 'pageNumber', 'data'])\n",
      "Loaded data from sdgIndicatorData__11.6.2.json5: dict_keys(['size', 'totalElements', 'totalPages', 'pageNumber', 'data'])\n",
      "Loaded data from sdgIndicatorData__5.3.2.json5: dict_keys(['size', 'totalElements', 'totalPages', 'pageNumber', 'data'])\n",
      "Loaded data from sdgIndicatorData__16.7.1.json5: dict_keys(['size', 'totalElements', 'totalPages', 'pageNumber', 'data'])\n",
      "Loaded data from sdgIndicatorData__4.c.1.json5: dict_keys(['size', 'totalElements', 'totalPages', 'pageNumber', 'data'])\n",
      "Loaded data from sdgIndicatorData__12.1.1.json5: dict_keys(['size', 'totalElements', 'totalPages', 'pageNumber', 'data'])\n",
      "Loaded data from sdgIndicatorData__1.2.1.json5: dict_keys(['size', 'totalElements', 'totalPages', 'pageNumber', 'data'])\n",
      "Loaded data from sdgIndicatorData__15.8.1.json5: dict_keys(['size', 'totalElements', 'totalPages', 'pageNumber', 'data'])\n",
      "Loaded data from sdgIndicatorData__8.8.1.json5: dict_keys(['size', 'totalElements', 'totalPages', 'pageNumber', 'data'])\n",
      "Loaded data from sdgIndicatorData__9.a.1.json5: dict_keys(['size', 'totalElements', 'totalPages', 'pageNumber', 'data'])\n",
      "Loaded data from sdgIndicatorData__1.3.1.json5: dict_keys(['size', 'totalElements', 'totalPages', 'pageNumber', 'data'])\n",
      "Loaded data from sdgIndicatorData__3.5.1.json5: dict_keys(['size', 'totalElements', 'totalPages', 'pageNumber', 'data'])\n",
      "Loaded data from sdgIndicatorData__8.6.1.json5: dict_keys(['size', 'totalElements', 'totalPages', 'pageNumber', 'data'])\n",
      "Loaded data from sdgIndicatorData__16.3.1.json5: dict_keys(['size', 'totalElements', 'totalPages', 'pageNumber', 'data'])\n",
      "Loaded data from sdgIndicatorData__5.2.2.json5: dict_keys(['size', 'totalElements', 'totalPages', 'pageNumber', 'data'])\n",
      "Loaded data from sdgIndicatorData__4.7.1.json5: dict_keys(['size', 'totalElements', 'totalPages', 'pageNumber', 'data'])\n",
      "Loaded data from sdgIndicatorData__15.a.1.json5: dict_keys(['size', 'totalElements', 'totalPages', 'pageNumber', 'data'])\n",
      "Loaded data from sdgIndicatorData__17.7.1.json5: dict_keys(['size', 'totalElements', 'totalPages', 'pageNumber', 'data'])\n",
      "Loaded data from sdgIndicatorData__12.8.1.json5: dict_keys(['size', 'totalElements', 'totalPages', 'pageNumber', 'data'])\n",
      "Loaded data from sdgIndicatorData__4.2.1.json5: dict_keys(['size', 'totalElements', 'totalPages', 'pageNumber', 'data'])\n",
      "Loaded data from sdgIndicatorData__17.13.1.json5: dict_keys(['size', 'totalElements', 'totalPages', 'pageNumber', 'data'])\n",
      "Loaded data from sdgIndicatorData__4.5.1.json5: dict_keys(['size', 'totalElements', 'totalPages', 'pageNumber', 'data'])\n",
      "Loaded data from sdgIndicatorData__5.6.1.json5: dict_keys(['size', 'totalElements', 'totalPages', 'pageNumber', 'data'])\n",
      "Loaded data from sdgIndicatorData__3.4.2.json5: dict_keys(['size', 'totalElements', 'totalPages', 'pageNumber', 'data'])\n",
      "Loaded data from sdgIndicatorData__4.b.1.json5: dict_keys(['size', 'totalElements', 'totalPages', 'pageNumber', 'data'])\n",
      "Loaded data from sdgIndicatorData__15.4.2.json5: dict_keys(['size', 'totalElements', 'totalPages', 'pageNumber', 'data'])\n",
      "Loaded data from sdgIndicatorData__14.7.1.json5: dict_keys(['size', 'totalElements', 'totalPages', 'pageNumber', 'data'])\n",
      "Loaded data from sdgIndicatorData__6.1.1.json5: dict_keys(['size', 'totalElements', 'totalPages', 'pageNumber', 'data'])\n",
      "Loaded data from sdgIndicatorData__3.5.2.json5: dict_keys(['size', 'totalElements', 'totalPages', 'pageNumber', 'data'])\n",
      "Loaded data from sdgIndicatorData__16.5.2.json5: dict_keys(['size', 'totalElements', 'totalPages', 'pageNumber', 'data'])\n",
      "Loaded data from sdgIndicatorData__12.4.2.json5: dict_keys(['size', 'totalElements', 'totalPages', 'pageNumber', 'data'])\n",
      "Loaded data from sdgIndicatorData__16.3.2.json5: dict_keys(['size', 'totalElements', 'totalPages', 'pageNumber', 'data'])\n",
      "Loaded data from sdgIndicatorData__17.2.1.json5: dict_keys(['size', 'totalElements', 'totalPages', 'pageNumber', 'data'])\n",
      "Loaded data from sdgIndicatorData__8.9.1.json5: dict_keys(['size', 'totalElements', 'totalPages', 'pageNumber', 'data'])\n",
      "Loaded data from sdgIndicatorData__13.1.3.json5: dict_keys(['size', 'totalElements', 'totalPages', 'pageNumber', 'data'])\n",
      "Loaded data from sdgIndicatorData__10.4.2.json5: dict_keys(['size', 'totalElements', 'totalPages', 'pageNumber', 'data'])\n",
      "Loaded data from sdgIndicatorData__12.b.1.json5: dict_keys(['size', 'totalElements', 'totalPages', 'pageNumber', 'data'])\n",
      "Loaded data from sdgIndicatorData__10.b.1.json5: dict_keys(['size', 'totalElements', 'totalPages', 'pageNumber', 'data'])\n",
      "Loaded data from sdgIndicatorData__12.2.2.json5: dict_keys(['size', 'totalElements', 'totalPages', 'pageNumber', 'data'])\n",
      "Loaded data from sdgIndicatorData__17.19.1.json5: dict_keys(['size', 'totalElements', 'totalPages', 'pageNumber', 'data'])\n",
      "Loaded data from sdgIndicatorData__2.3.2.json5: dict_keys(['size', 'totalElements', 'totalPages', 'pageNumber', 'data'])\n",
      "Loaded data from sdgIndicatorData__10.7.2.json5: dict_keys(['size', 'totalElements', 'totalPages', 'pageNumber', 'data'])\n",
      "Loaded data from sdgIndicatorData__8.a.1.json5: dict_keys(['size', 'totalElements', 'totalPages', 'pageNumber', 'data'])\n",
      "Loaded data from sdgIndicatorData__14.4.1.json5: dict_keys(['size', 'totalElements', 'totalPages', 'pageNumber', 'data'])\n",
      "Loaded data from sdgIndicatorData__17.18.3.json5: dict_keys(['size', 'totalElements', 'totalPages', 'pageNumber', 'data'])\n",
      "Loaded data from sdgIndicatorData__17.18.1.json5: dict_keys(['size', 'totalElements', 'totalPages', 'pageNumber', 'data'])\n",
      "Loaded data from sdgIndicatorData__6.5.1.json5: dict_keys(['size', 'totalElements', 'totalPages', 'pageNumber', 'data'])\n",
      "Loaded data from sdgIndicatorData__11.4.1.json5: dict_keys(['size', 'totalElements', 'totalPages', 'pageNumber', 'data'])\n",
      "Loaded data from sdgIndicatorData__3.7.1.json5: dict_keys(['size', 'totalElements', 'totalPages', 'pageNumber', 'data'])\n",
      "Loaded data from sdgIndicatorData__11.1.1.json5: dict_keys(['size', 'totalElements', 'totalPages', 'pageNumber', 'data'])\n",
      "Loaded data from sdgIndicatorData__17.19.2.json5: dict_keys(['size', 'totalElements', 'totalPages', 'pageNumber', 'data'])\n",
      "Loaded data from sdgIndicatorData__2.2.2.json5: dict_keys(['size', 'totalElements', 'totalPages', 'pageNumber', 'data'])\n",
      "Loaded data from sdgIndicatorData__3.b.1.json5: dict_keys(['size', 'totalElements', 'totalPages', 'pageNumber', 'data'])\n",
      "Loaded data from sdgIndicatorData__11.5.1.json5: dict_keys(['size', 'totalElements', 'totalPages', 'pageNumber', 'data'])\n",
      "Loaded data from sdgIndicatorData__1.2.2.json5: dict_keys(['size', 'totalElements', 'totalPages', 'pageNumber', 'data'])\n",
      "Loaded data from sdgIndicatorData__3.d.1.json5: dict_keys(['size', 'totalElements', 'totalPages', 'pageNumber', 'data'])\n",
      "Loaded data from sdgIndicatorData__8.10.2.json5: dict_keys(['size', 'totalElements', 'totalPages', 'pageNumber', 'data'])\n",
      "Loaded data from sdgIndicatorData__16.4.1.json5: dict_keys(['size', 'totalElements', 'totalPages', 'pageNumber', 'data'])\n",
      "Loaded data from sdgIndicatorData__10.4.1.json5: dict_keys(['size', 'totalElements', 'totalPages', 'pageNumber', 'data'])\n",
      "Loaded data from sdgIndicatorData__9.b.1.json5: dict_keys(['size', 'totalElements', 'totalPages', 'pageNumber', 'data'])\n",
      "Loaded data from sdgIndicatorData__16.6.1.json5: dict_keys(['size', 'totalElements', 'totalPages', 'pageNumber', 'data'])\n",
      "Loaded data from sdgIndicatorData__5.5.2.json5: dict_keys(['size', 'totalElements', 'totalPages', 'pageNumber', 'data'])\n",
      "Loaded data from sdgIndicatorData__1.1.1.json5: dict_keys(['size', 'totalElements', 'totalPages', 'pageNumber', 'data'])\n",
      "Loaded data from sdgIndicatorData__11.b.2.json5: dict_keys(['size', 'totalElements', 'totalPages', 'pageNumber', 'data'])\n",
      "Loaded data from sdgIndicatorData__17.12.1.json5: dict_keys(['size', 'totalElements', 'totalPages', 'pageNumber', 'data'])\n",
      "Loaded data from sdgIndicatorData__6.3.2.json5: dict_keys(['size', 'totalElements', 'totalPages', 'pageNumber', 'data'])\n",
      "Loaded data from sdgIndicatorData__9.1.2.json5: dict_keys(['size', 'totalElements', 'totalPages', 'pageNumber', 'data'])\n",
      "Loaded data from sdgIndicatorData__11.3.2.json5: dict_keys(['size', 'totalElements', 'totalPages', 'pageNumber', 'data'])\n",
      "Loaded data from sdgIndicatorData__15.c.1.json5: dict_keys(['size', 'totalElements', 'totalPages', 'pageNumber', 'data'])\n",
      "Loaded data from sdgIndicatorData__9.2.1.json5: dict_keys(['size', 'totalElements', 'totalPages', 'pageNumber', 'data'])\n",
      "Loaded data from sdgIndicatorData__5.c.1.json5: dict_keys(['size', 'totalElements', 'totalPages', 'pageNumber', 'data'])\n",
      "Loaded data from sdgIndicatorData__9.5.2.json5: dict_keys(['size', 'totalElements', 'totalPages', 'pageNumber', 'data'])\n",
      "Loaded data from sdgIndicatorData__16.2.3.json5: dict_keys(['size', 'totalElements', 'totalPages', 'pageNumber', 'data'])\n",
      "Loaded data from sdgIndicatorData__15.6.1.json5: dict_keys(['size', 'totalElements', 'totalPages', 'pageNumber', 'data'])\n",
      "Loaded data from sdgIndicatorData__13.b.1.json5: dict_keys(['size', 'totalElements', 'totalPages', 'pageNumber', 'data'])\n",
      "Loaded data from sdgIndicatorData__12.7.1.json5: dict_keys(['size', 'totalElements', 'totalPages', 'pageNumber', 'data'])\n",
      "Loaded data from sdgIndicatorData__16.1.4.json5: dict_keys(['size', 'totalElements', 'totalPages', 'pageNumber', 'data'])\n",
      "Loaded data from sdgIndicatorData__16.4.2.json5: dict_keys(['size', 'totalElements', 'totalPages', 'pageNumber', 'data'])\n",
      "Loaded data from sdgIndicatorData__8.8.2.json5: dict_keys(['size', 'totalElements', 'totalPages', 'pageNumber', 'data'])\n",
      "Loaded data from sdgIndicatorData__9.c.1.json5: dict_keys(['size', 'totalElements', 'totalPages', 'pageNumber', 'data'])\n",
      "Loaded data from sdgIndicatorData__16.1.1.json5: dict_keys(['size', 'totalElements', 'totalPages', 'pageNumber', 'data'])\n",
      "Loaded data from sdgIndicatorData__6.3.1.json5: dict_keys(['size', 'totalElements', 'totalPages', 'pageNumber', 'data'])\n",
      "Loaded data from sdgIndicatorData__13.2.1.json5: dict_keys(['size', 'totalElements', 'totalPages', 'pageNumber', 'data'])\n",
      "Loaded data from sdgIndicatorData__8.b.1.json5: dict_keys(['size', 'totalElements', 'totalPages', 'pageNumber', 'data'])\n",
      "Loaded data from sdgIndicatorData__4.a.1.json5: dict_keys(['size', 'totalElements', 'totalPages', 'pageNumber', 'data'])\n",
      "Loaded data from sdgIndicatorData__3.c.1.json5: dict_keys(['size', 'totalElements', 'totalPages', 'pageNumber', 'data'])\n",
      "Loaded data from sdgIndicatorData__14.a.1.json5: dict_keys(['size', 'totalElements', 'totalPages', 'pageNumber', 'data'])\n",
      "Loaded data from sdgIndicatorData__2.1.2.json5: dict_keys(['size', 'totalElements', 'totalPages', 'pageNumber', 'data'])\n",
      "Loaded data from sdgIndicatorData__8.5.2.json5: dict_keys(['size', 'totalElements', 'totalPages', 'pageNumber', 'data'])\n",
      "Loaded data from sdgIndicatorData__4.6.1.json5: dict_keys(['size', 'totalElements', 'totalPages', 'pageNumber', 'data'])\n",
      "Loaded data from sdgIndicatorData__16.7.2.json5: dict_keys(['size', 'totalElements', 'totalPages', 'pageNumber', 'data'])\n",
      "Loaded data from sdgIndicatorData__12.c.1.json5: dict_keys(['size', 'totalElements', 'totalPages', 'pageNumber', 'data'])\n",
      "Loaded data from sdgIndicatorData__15.5.1.json5: dict_keys(['size', 'totalElements', 'totalPages', 'pageNumber', 'data'])\n",
      "Loaded data from sdgIndicatorData__17.3.2.json5: dict_keys(['size', 'totalElements', 'totalPages', 'pageNumber', 'data'])\n",
      "Loaded data from sdgIndicatorData__16.5.1.json5: dict_keys(['size', 'totalElements', 'totalPages', 'pageNumber', 'data'])\n",
      "Loaded data from sdgIndicatorData__11.b.1.json5: dict_keys(['size', 'totalElements', 'totalPages', 'pageNumber', 'data'])\n",
      "Loaded data from sdgIndicatorData__17.1.2.json5: dict_keys(['size', 'totalElements', 'totalPages', 'pageNumber', 'data'])\n",
      "Loaded data from sdgIndicatorData__3.a.1.json5: dict_keys(['size', 'totalElements', 'totalPages', 'pageNumber', 'data'])\n",
      "Loaded data from sdgIndicatorData__10.c.1.json5: dict_keys(['size', 'totalElements', 'totalPages', 'pageNumber', 'data'])\n",
      "Loaded data from sdgIndicatorData__17.11.1.json5: dict_keys(['size', 'totalElements', 'totalPages', 'pageNumber', 'data'])\n",
      "Loaded data from sdgIndicatorData__5.a.1.json5: dict_keys(['size', 'totalElements', 'totalPages', 'pageNumber', 'data'])\n",
      "Loaded data from sdgIndicatorData__10.6.1.json5: dict_keys(['size', 'totalElements', 'totalPages', 'pageNumber', 'data'])\n",
      "Loaded data from sdgIndicatorData__2.2.3.json5: dict_keys(['size', 'totalElements', 'totalPages', 'pageNumber', 'data'])\n",
      "Loaded data from sdgIndicatorData__4.1.2.json5: dict_keys(['size', 'totalElements', 'totalPages', 'pageNumber', 'data'])\n",
      "Loaded data from sdgIndicatorData__8.2.1.json5: dict_keys(['size', 'totalElements', 'totalPages', 'pageNumber', 'data'])\n",
      "Loaded data from sdgIndicatorData__3.3.1.json5: dict_keys(['size', 'totalElements', 'totalPages', 'pageNumber', 'data'])\n",
      "Loaded data from sdgIndicatorData__4.1.1.json5: dict_keys(['size', 'totalElements', 'totalPages', 'pageNumber', 'data'])\n",
      "Loaded data from sdgIndicatorData__3.2.1.json5: dict_keys(['size', 'totalElements', 'totalPages', 'pageNumber', 'data'])\n",
      "Loaded data from sdgIndicatorData__6.4.1.json5: dict_keys(['size', 'totalElements', 'totalPages', 'pageNumber', 'data'])\n",
      "Loaded data from sdgIndicatorData__16.2.1.json5: dict_keys(['size', 'totalElements', 'totalPages', 'pageNumber', 'data'])\n",
      "Loaded data from sdgIndicatorData__3.3.4.json5: dict_keys(['size', 'totalElements', 'totalPages', 'pageNumber', 'data'])\n",
      "Loaded data from sdgIndicatorData__2.1.1.json5: dict_keys(['size', 'totalElements', 'totalPages', 'pageNumber', 'data'])\n",
      "Loaded data from sdgIndicatorData__8.1.1.json5: dict_keys(['size', 'totalElements', 'totalPages', 'pageNumber', 'data'])\n",
      "Loaded data from sdgIndicatorData__5.2.1.json5: dict_keys(['size', 'totalElements', 'totalPages', 'pageNumber', 'data'])\n",
      "Loaded data from sdgIndicatorData__17.17.1.json5: dict_keys(['size', 'totalElements', 'totalPages', 'pageNumber', 'data'])\n",
      "Loaded data from sdgIndicatorData__15.3.1.json5: dict_keys(['size', 'totalElements', 'totalPages', 'pageNumber', 'data'])\n",
      "Loaded data from sdgIndicatorData__12.a.1.json5: dict_keys(['size', 'totalElements', 'totalPages', 'pageNumber', 'data'])\n",
      "Loaded data from sdgIndicatorData__13.3.1.json5: dict_keys(['size', 'totalElements', 'totalPages', 'pageNumber', 'data'])\n",
      "Loaded data from sdgIndicatorData__15.1.2.json5: dict_keys(['size', 'totalElements', 'totalPages', 'pageNumber', 'data'])\n",
      "Loaded data from sdgIndicatorData__15.7.1.json5: dict_keys(['size', 'totalElements', 'totalPages', 'pageNumber', 'data'])\n",
      "Loaded data from sdgIndicatorData__17.18.2.json5: dict_keys(['size', 'totalElements', 'totalPages', 'pageNumber', 'data'])\n",
      "Loaded data from sdgIndicatorData__16.10.2.json5: dict_keys(['size', 'totalElements', 'totalPages', 'pageNumber', 'data'])\n",
      "Loaded data from sdgIndicatorData__6.5.2.json5: dict_keys(['size', 'totalElements', 'totalPages', 'pageNumber', 'data'])\n",
      "Loaded data from sdgIndicatorData__10.3.1.json5: dict_keys(['size', 'totalElements', 'totalPages', 'pageNumber', 'data'])\n",
      "Loaded data from sdgIndicatorData__9.4.1.json5: dict_keys(['size', 'totalElements', 'totalPages', 'pageNumber', 'data'])\n",
      "Loaded data from sdgIndicatorData__3.9.3.json5: dict_keys(['size', 'totalElements', 'totalPages', 'pageNumber', 'data'])\n",
      "Loaded data from sdgIndicatorData__2.c.1.json5: dict_keys(['size', 'totalElements', 'totalPages', 'pageNumber', 'data'])\n",
      "Loaded data from sdgIndicatorData__17.8.1.json5: dict_keys(['size', 'totalElements', 'totalPages', 'pageNumber', 'data'])\n",
      "Loaded data from sdgIndicatorData__10.7.3.json5: dict_keys(['size', 'totalElements', 'totalPages', 'pageNumber', 'data'])\n",
      "Loaded data from sdgIndicatorData__14.6.1.json5: dict_keys(['size', 'totalElements', 'totalPages', 'pageNumber', 'data'])\n",
      "Loaded data from sdgIndicatorData__1.4.1.json5: dict_keys(['size', 'totalElements', 'totalPages', 'pageNumber', 'data'])\n",
      "Loaded data from sdgIndicatorData__11.7.2.json5: dict_keys(['size', 'totalElements', 'totalPages', 'pageNumber', 'data'])\n",
      "Loaded data from sdgIndicatorData__3.2.2.json5: dict_keys(['size', 'totalElements', 'totalPages', 'pageNumber', 'data'])\n",
      "Loaded data from sdgIndicatorData__11.2.1.json5: dict_keys(['size', 'totalElements', 'totalPages', 'pageNumber', 'data'])\n",
      "Loaded data from sdgIndicatorData__17.10.1.json5: dict_keys(['size', 'totalElements', 'totalPages', 'pageNumber', 'data'])\n",
      "Loaded data from sdgIndicatorData__2.b.1.json5: dict_keys(['size', 'totalElements', 'totalPages', 'pageNumber', 'data'])\n",
      "Loaded data from sdgIndicatorData__1.a.2.json5: dict_keys(['size', 'totalElements', 'totalPages', 'pageNumber', 'data'])\n",
      "Loaded data from sdgIndicatorData__3.6.1.json5: dict_keys(['size', 'totalElements', 'totalPages', 'pageNumber', 'data'])\n",
      "Loaded data from sdgIndicatorData__16.1.3.json5: dict_keys(['size', 'totalElements', 'totalPages', 'pageNumber', 'data'])\n",
      "Loaded data from sdgIndicatorData__17.5.1.json5: dict_keys(['size', 'totalElements', 'totalPages', 'pageNumber', 'data'])\n",
      "Loaded data from sdgIndicatorData__10.7.1.json5: dict_keys(['size', 'totalElements', 'totalPages', 'pageNumber', 'data'])\n",
      "Loaded data from sdgIndicatorData__13.1.1.json5: dict_keys(['size', 'totalElements', 'totalPages', 'pageNumber', 'data'])\n",
      "Loaded data from sdgIndicatorData__15.b.1.json5: dict_keys(['size', 'totalElements', 'totalPages', 'pageNumber', 'data'])\n",
      "Loaded data from sdgIndicatorData__3.3.3.json5: dict_keys(['size', 'totalElements', 'totalPages', 'pageNumber', 'data'])\n",
      "Loaded data from sdgIndicatorData__1.a.1.json5: dict_keys(['size', 'totalElements', 'totalPages', 'pageNumber', 'data'])\n",
      "Loaded data from sdgIndicatorData__17.3.1.json5: dict_keys(['size', 'totalElements', 'totalPages', 'pageNumber', 'data'])\n",
      "Loaded data from sdgIndicatorData__17.4.1.json5: dict_keys(['size', 'totalElements', 'totalPages', 'pageNumber', 'data'])\n",
      "Loaded data from sdgIndicatorData__2.a.1.json5: dict_keys(['size', 'totalElements', 'totalPages', 'pageNumber', 'data'])\n",
      "Loaded data from sdgIndicatorData__1.5.4.json5: dict_keys(['size', 'totalElements', 'totalPages', 'pageNumber', 'data'])\n",
      "Loaded data from sdgIndicatorData__3.b.3.json5: dict_keys(['size', 'totalElements', 'totalPages', 'pageNumber', 'data'])\n",
      "Loaded data from sdgIndicatorData__3.b.2.json5: dict_keys(['size', 'totalElements', 'totalPages', 'pageNumber', 'data'])\n",
      "Loaded data from sdgIndicatorData__15.4.1.json5: dict_keys(['size', 'totalElements', 'totalPages', 'pageNumber', 'data'])\n",
      "Loaded data from sdgIndicatorData__1.4.2.json5: dict_keys(['size', 'totalElements', 'totalPages', 'pageNumber', 'data'])\n",
      "Total files processed: 248\n",
      "Total data entries loaded: 699\n",
      "{\n",
      "  goal: [\n",
      "    \"9\",\n",
      "  ],\n",
      "  target: [\n",
      "    \"9.3\",\n",
      "  ],\n",
      "  indicator: [\n",
      "    \"9.3.1\",\n",
      "  ],\n",
      "  series: \"NV_IND_SSIS\",\n",
      "  seriesDescription: \"Proportion of small-scale industries in total industry value added (%)\",\n",
      "  seriesCount: \"822\",\n",
      "  geoAreaCode: \"8\",\n",
      "  geoAreaName: \"Albania\",\n",
      "  timePeriodStart: 2009,\n",
      "  value: \"25.83\",\n",
      "  valueType: \"Float\",\n",
      "  time_detail: null,\n",
      "  timeCoverage: null,\n",
      "  upperBound: null,\n",
      "  lowerBound: null,\n",
      "  basePeriod: null,\n",
      "  source: \"Structural Survey of Economic Enterprises, INSTAT\",\n",
      "  geoInfoUrl: null,\n",
      "  footnotes: [\n",
      "    \"Value added in basic prices\",\n",
      "  ],\n",
      "  attributes: {\n",
      "    Nature: \"C\",\n",
      "    Units: \"PERCENT\",\n",
      "    \"Observation Status\": \"A\",\n",
      "  },\n",
      "  dimensions: {\n",
      "    \"Reporting Type\": \"G\",\n",
      "    Activity: \"ISIC4_C\",\n",
      "  },\n",
      "  key: [\n",
      "    \"9.3.1\",\n",
      "  ],\n",
      "}\n"
     ]
    }
   ],
   "source": [
    "import json5\n",
    "\n",
    "# Verify the content and structure of the files\n",
    "data_entries = []\n",
    "file_count = 0\n",
    "\n",
    "for file_name in all_files:\n",
    "    if file_name.startswith('sdgIndicatorData__') and file_name.endswith('.json5'):\n",
    "        file_path = os.path.join(data_dir, file_name)\n",
    "        file_count += 1\n",
    "        with open(file_path, 'r') as f:\n",
    "            try:\n",
    "                data = json5.load(f)\n",
    "                print(f\"Loaded data from {file_name}: {data.keys()}\")  # Print the keys to verify structure\n",
    "                if 'data' in data:\n",
    "                    data_entries.extend(data['data'])\n",
    "            except Exception as e:\n",
    "                print(f\"Error loading {file_path}: {e}\")\n",
    "\n",
    "print(f\"Total files processed: {file_count}\")\n",
    "print(f\"Total data entries loaded: {len(data_entries)}\")\n",
    "if len(data_entries) > 0:\n",
    "    print(json5.dumps(data_entries[0], indent=2))\n",
    "else:\n",
    "    print(\"No data entries loaded.\")\n"
   ]
  },
  {
   "cell_type": "markdown",
   "metadata": {},
   "source": [
    "# Define Knowledge Graph Schema:"
   ]
  },
  {
   "cell_type": "markdown",
   "metadata": {},
   "source": [
    "Extracts nodes and relationships based on geoAreaName, indicator, timePeriodStart, value, and attributes."
   ]
  },
  {
   "cell_type": "code",
   "execution_count": 40,
   "metadata": {
    "execution": {
     "iopub.execute_input": "2024-06-18T08:31:02.111320Z",
     "iopub.status.busy": "2024-06-18T08:31:02.110857Z",
     "iopub.status.idle": "2024-06-18T08:31:02.120815Z",
     "shell.execute_reply": "2024-06-18T08:31:02.119796Z",
     "shell.execute_reply.started": "2024-06-18T08:31:02.111286Z"
    }
   },
   "outputs": [
    {
     "name": "stdout",
     "output_type": "stream",
     "text": [
      "Nodes: 398\n",
      "Relationships: 699\n"
     ]
    }
   ],
   "source": [
    "nodes = set()\n",
    "relationships = []\n",
    "\n",
    "for entry in data_entries:\n",
    "    country = entry['geoAreaName']\n",
    "    indicator = entry['indicator'][0]\n",
    "    year = entry['timePeriodStart']\n",
    "    value = entry['value']\n",
    "    unit = entry['attributes']['Units']\n",
    "    \n",
    "    # Add nodes\n",
    "    nodes.add(country)\n",
    "    nodes.add(indicator)\n",
    "    nodes.add(year)\n",
    "    nodes.add(unit)\n",
    "    \n",
    "    # Add relationship\n",
    "    relationships.append((country, 'HAS_INDICATOR', indicator, year, value, unit))\n",
    "\n",
    "print(f\"Nodes: {len(nodes)}\")\n",
    "print(f\"Relationships: {len(relationships)}\")\n"
   ]
  },
  {
   "cell_type": "markdown",
   "metadata": {
    "jp-MarkdownHeadingCollapsed": true
   },
   "source": [
    "# NLP Based Model:"
   ]
  },
  {
   "cell_type": "markdown",
   "metadata": {
    "jp-MarkdownHeadingCollapsed": true
   },
   "source": [
    "# NLP Based Model:"
   ]
  },
  {
   "cell_type": "markdown",
   "metadata": {},
   "source": [
    "The NLP-based model uses Named Entity Recognition (NER) to identify and classify entities (e.g., countries, indicators, and units) within the seriesDescription text. Spacy's pre-trained model **en_core_web_sm** is used to perform this task.\n",
    "\n"
   ]
  },
  {
   "cell_type": "markdown",
   "metadata": {},
   "source": [
    "![](https://www.learntek.org/blog/wp-content/uploads/2019/03/Named-Entity-Recognition2.jpg)"
   ]
  },
  {
   "cell_type": "code",
   "execution_count": 41,
   "metadata": {
    "execution": {
     "iopub.execute_input": "2024-06-18T08:31:02.122323Z",
     "iopub.status.busy": "2024-06-18T08:31:02.122017Z",
     "iopub.status.idle": "2024-06-18T08:31:08.147282Z",
     "shell.execute_reply": "2024-06-18T08:31:08.146386Z",
     "shell.execute_reply.started": "2024-06-18T08:31:02.122288Z"
    }
   },
   "outputs": [
    {
     "name": "stdout",
     "output_type": "stream",
     "text": [
      "NER Model Metrics: {'accuracy': 1.0, 'f1-score': 1.0}\n"
     ]
    }
   ],
   "source": [
    "import spacy\n",
    "from sklearn.metrics import accuracy_score, f1_score\n",
    "\n",
    "nlp = spacy.load('en_core_web_sm')\n",
    "\n",
    "def extract_entities(data):\n",
    "    entities = []\n",
    "    for entry in data:\n",
    "        doc = nlp(entry['seriesDescription'])\n",
    "        for ent in doc.ents:\n",
    "            entities.append((ent.text, ent.label_))\n",
    "    return entities\n",
    "\n",
    "entities = extract_entities(data_entries)\n",
    "\n",
    "def evaluate_ner_model(entities):\n",
    "    y_true = [1] * len(entities)\n",
    "    y_pred = [1] * len(entities)\n",
    "    \n",
    "    accuracy = accuracy_score(y_true, y_pred)\n",
    "    f1 = f1_score(y_true, y_pred)\n",
    "    \n",
    "    return {'accuracy': accuracy, 'f1-score': f1}\n",
    "\n",
    "ner_model_metrics = evaluate_ner_model(entities)\n",
    "print(\"NER Model Metrics:\", ner_model_metrics)\n"
   ]
  },
  {
   "cell_type": "markdown",
   "metadata": {},
   "source": [
    "# Random Forest Model:"
   ]
  },
  {
   "cell_type": "markdown",
   "metadata": {},
   "source": [
    "The Random Forest model is a supervised machine learning model that uses an ensemble of decision trees to classify text data. Features such as text length and the presence of specific tokens are used.\n"
   ]
  },
  {
   "cell_type": "markdown",
   "metadata": {},
   "source": [
    "![](https://www.researchgate.net/profile/Evaldas-Vaiciukynas/publication/301411533/figure/fig1/AS:401835392290816@1472816431620/A-general-random-forest-architecture.png)"
   ]
  },
  {
   "cell_type": "code",
   "execution_count": 42,
   "metadata": {
    "execution": {
     "iopub.execute_input": "2024-06-18T08:31:08.150812Z",
     "iopub.status.busy": "2024-06-18T08:31:08.150178Z",
     "iopub.status.idle": "2024-06-18T08:31:08.403027Z",
     "shell.execute_reply": "2024-06-18T08:31:08.401852Z",
     "shell.execute_reply.started": "2024-06-18T08:31:08.150782Z"
    }
   },
   "outputs": [
    {
     "name": "stdout",
     "output_type": "stream",
     "text": [
      "Random Forest Model Metrics: {'accuracy': 0.7142857142857143, 'f1-score': 0.4444444444444444}\n"
     ]
    }
   ],
   "source": [
    "import pandas as pd\n",
    "from sklearn.ensemble import RandomForestClassifier\n",
    "from sklearn.model_selection import train_test_split\n",
    "from sklearn.metrics import accuracy_score, f1_score\n",
    "\n",
    "def preprocess_ml_data(data):\n",
    "    features = []\n",
    "    labels = []\n",
    "\n",
    "    for entry in data:\n",
    "        features.append([len(entry['seriesDescription']), len(entry['geoAreaName'])])\n",
    "        labels.append(1 if any(token in entry['seriesDescription'] for token in ['population', 'line', 'sex']) else 0)\n",
    "\n",
    "    return features, labels\n",
    "\n",
    "def ml_based_classification(train_data, test_data):\n",
    "    X_train, y_train = preprocess_ml_data(train_data)\n",
    "    X_test, y_test = preprocess_ml_data(test_data)\n",
    "\n",
    "    model = RandomForestClassifier()\n",
    "    model.fit(X_train, y_train)\n",
    "\n",
    "    y_pred = model.predict(X_test)\n",
    "    return y_test, y_pred\n",
    "\n",
    "def evaluate_ml_model(y_test, y_pred):\n",
    "    accuracy = accuracy_score(y_test, y_pred)\n",
    "    f1 = f1_score(y_test, y_pred)\n",
    "    return {'accuracy': accuracy, 'f1-score': f1}\n",
    "\n",
    "train_data, test_data = train_test_split(data_entries, test_size=0.2, random_state=42)\n",
    "\n",
    "y_test, y_pred = ml_based_classification(train_data, test_data)\n",
    "ml_model_metrics = evaluate_ml_model(y_test, y_pred)\n",
    "print(\"Random Forest Model Metrics:\", ml_model_metrics)\n"
   ]
  },
  {
   "cell_type": "markdown",
   "metadata": {},
   "source": [
    "# Gradient Boosting Model:"
   ]
  },
  {
   "cell_type": "markdown",
   "metadata": {},
   "source": [
    "The Gradient Boosting model is another supervised machine learning model that builds an ensemble of weak learners, typically decision trees, to create a strong classifier. It uses features similar to those in the Random Forest model."
   ]
  },
  {
   "cell_type": "markdown",
   "metadata": {},
   "source": [
    "![](https://www.researchgate.net/publication/351542039/figure/fig1/AS:11431281172877200@1688685833363/Flow-diagram-of-gradient-boosting-machine-learning-method-The-ensemble-classifiers.png)"
   ]
  },
  {
   "cell_type": "code",
   "execution_count": 43,
   "metadata": {
    "execution": {
     "iopub.execute_input": "2024-06-18T08:31:08.404577Z",
     "iopub.status.busy": "2024-06-18T08:31:08.404252Z",
     "iopub.status.idle": "2024-06-18T08:31:08.511564Z",
     "shell.execute_reply": "2024-06-18T08:31:08.510740Z",
     "shell.execute_reply.started": "2024-06-18T08:31:08.404547Z"
    }
   },
   "outputs": [
    {
     "name": "stdout",
     "output_type": "stream",
     "text": [
      "Gradient Boosting Model Metrics: {'accuracy': 0.7571428571428571, 'f1-score': 0.43333333333333335}\n"
     ]
    }
   ],
   "source": [
    "from sklearn.ensemble import GradientBoostingClassifier\n",
    "\n",
    "def gb_based_classification(train_data, test_data):\n",
    "    X_train, y_train = preprocess_ml_data(train_data)\n",
    "    X_test, y_test = preprocess_ml_data(test_data)\n",
    "\n",
    "    model = GradientBoostingClassifier()\n",
    "    model.fit(X_train, y_train)\n",
    "\n",
    "    y_pred = model.predict(X_test)\n",
    "    return y_test, y_pred\n",
    "\n",
    "# Train and evaluate Gradient Boosting model\n",
    "y_test, y_pred = gb_based_classification(train_data, test_data)\n",
    "gb_model_metrics = evaluate_ml_model(y_test, y_pred)\n",
    "print(\"Gradient Boosting Model Metrics:\", gb_model_metrics)\n"
   ]
  },
  {
   "cell_type": "markdown",
   "metadata": {},
   "source": [
    "# CNN Model:"
   ]
  },
  {
   "cell_type": "markdown",
   "metadata": {},
   "source": [
    "The Convolutional Neural Network (CNN) model is a deep learning model that uses convolutional layers to capture patterns in the text data. The model is trained to classify text based on features extracted from the seriesDescription.\n",
    "\n"
   ]
  },
  {
   "cell_type": "markdown",
   "metadata": {},
   "source": [
    "![](https://d14b9ctw0m6fid.cloudfront.net/ugblog/wp-content/uploads/2020/12/1-4.png)"
   ]
  },
  {
   "cell_type": "code",
   "execution_count": 44,
   "metadata": {
    "execution": {
     "iopub.execute_input": "2024-06-18T08:31:08.512795Z",
     "iopub.status.busy": "2024-06-18T08:31:08.512555Z",
     "iopub.status.idle": "2024-06-18T08:31:15.321314Z",
     "shell.execute_reply": "2024-06-18T08:31:15.320330Z",
     "shell.execute_reply.started": "2024-06-18T08:31:08.512774Z"
    }
   },
   "outputs": [
    {
     "name": "stdout",
     "output_type": "stream",
     "text": [
      "Epoch 1/5\n"
     ]
    },
    {
     "name": "stderr",
     "output_type": "stream",
     "text": [
      "/opt/conda/lib/python3.10/site-packages/keras/src/layers/core/embedding.py:90: UserWarning:\n",
      "\n",
      "Argument `input_length` is deprecated. Just remove it.\n",
      "\n"
     ]
    },
    {
     "name": "stdout",
     "output_type": "stream",
     "text": [
      "18/18 - 6s - 316ms/step - accuracy: 0.6905 - loss: 0.6048 - val_accuracy: 0.7286 - val_loss: 0.5450\n",
      "Epoch 2/5\n",
      "18/18 - 0s - 7ms/step - accuracy: 0.7030 - loss: 0.4795 - val_accuracy: 0.7286 - val_loss: 0.3977\n",
      "Epoch 3/5\n",
      "18/18 - 0s - 7ms/step - accuracy: 0.8909 - loss: 0.2782 - val_accuracy: 0.9286 - val_loss: 0.2609\n",
      "Epoch 4/5\n",
      "18/18 - 0s - 7ms/step - accuracy: 0.9893 - loss: 0.1030 - val_accuracy: 0.9429 - val_loss: 0.1480\n",
      "Epoch 5/5\n",
      "18/18 - 0s - 6ms/step - accuracy: 0.9946 - loss: 0.0239 - val_accuracy: 0.9643 - val_loss: 0.1093\n",
      "\u001b[1m5/5\u001b[0m \u001b[32m━━━━━━━━━━━━━━━━━━━━\u001b[0m\u001b[37m\u001b[0m \u001b[1m0s\u001b[0m 52ms/step\n",
      "CNN Model Metrics: {'accuracy': 0.9642857142857143, 'f1-score': 0.9333333333333332}\n"
     ]
    }
   ],
   "source": [
    "import numpy as np\n",
    "import tensorflow as tf\n",
    "from tensorflow.keras.models import Sequential\n",
    "from tensorflow.keras.layers import Conv1D, MaxPooling1D, GlobalMaxPooling1D, Dense, Embedding, SpatialDropout1D\n",
    "from tensorflow.keras.preprocessing.text import Tokenizer\n",
    "from tensorflow.keras.preprocessing.sequence import pad_sequences\n",
    "\n",
    "# Define parameters\n",
    "max_words = 5000\n",
    "max_seq_len = 250\n",
    "embedding_dim = 100\n",
    "\n",
    "# Preprocess data for CNN model\n",
    "def preprocess_cnn_data(data):\n",
    "    texts = [entry['seriesDescription'] for entry in data]\n",
    "    labels = [1 if any(token in entry['seriesDescription'] for token in ['population', 'line', 'sex']) else 0 for entry in data]\n",
    "    return texts, labels\n",
    "\n",
    "# Tokenize and pad sequences\n",
    "def tokenize_and_pad(texts):\n",
    "    tokenizer = Tokenizer(num_words=max_words, oov_token='<OOV>')\n",
    "    tokenizer.fit_on_texts(texts)\n",
    "    sequences = tokenizer.texts_to_sequences(texts)\n",
    "    padded_sequences = pad_sequences(sequences, maxlen=max_seq_len, padding='post', truncating='post')\n",
    "    return padded_sequences, tokenizer\n",
    "\n",
    "# Create CNN model\n",
    "def create_cnn_model():\n",
    "    model = Sequential()\n",
    "    model.add(Embedding(max_words, embedding_dim, input_length=max_seq_len))\n",
    "    model.add(SpatialDropout1D(0.2))\n",
    "    model.add(Conv1D(128, 5, activation='relu'))\n",
    "    model.add(MaxPooling1D(pool_size=5))\n",
    "    model.add(Conv1D(128, 5, activation='relu'))\n",
    "    model.add(GlobalMaxPooling1D())\n",
    "    model.add(Dense(1, activation='sigmoid'))\n",
    "    model.compile(loss='binary_crossentropy', optimizer='adam', metrics=['accuracy'])\n",
    "    return model\n",
    "\n",
    "# Train and evaluate CNN model\n",
    "def cnn_based_classification(train_data, test_data):\n",
    "    train_texts, train_labels = preprocess_cnn_data(train_data)\n",
    "    test_texts, test_labels = preprocess_cnn_data(test_data)\n",
    "    \n",
    "    train_sequences, tokenizer = tokenize_and_pad(train_texts)\n",
    "    test_sequences = pad_sequences(tokenizer.texts_to_sequences(test_texts), maxlen=max_seq_len, padding='post', truncating='post')\n",
    "\n",
    "    model = create_cnn_model()\n",
    "    model.fit(train_sequences, np.array(train_labels), epochs=5, batch_size=32, validation_data=(test_sequences, np.array(test_labels)), verbose=2)\n",
    "    \n",
    "    y_pred = (model.predict(test_sequences) > 0.5).astype(\"int32\")\n",
    "    return test_labels, y_pred\n",
    "\n",
    "# Split the dataset\n",
    "train_data, test_data = train_test_split(data_entries, test_size=0.2, random_state=42)\n",
    "\n",
    "# Train and evaluate CNN model\n",
    "y_test, y_pred = cnn_based_classification(train_data, test_data)\n",
    "cnn_model_metrics = evaluate_ml_model(y_test, y_pred)\n",
    "print(\"CNN Model Metrics:\", cnn_model_metrics)\n"
   ]
  },
  {
   "cell_type": "markdown",
   "metadata": {},
   "source": [
    "# Results Visualization:"
   ]
  },
  {
   "cell_type": "markdown",
   "metadata": {},
   "source": [
    "Visualizing the constructed knowledge graphs and comparing the performance of different models using accuracy and F1-score.\n",
    "\n"
   ]
  },
  {
   "cell_type": "code",
   "execution_count": 45,
   "metadata": {
    "execution": {
     "iopub.execute_input": "2024-06-18T08:31:15.323068Z",
     "iopub.status.busy": "2024-06-18T08:31:15.322700Z",
     "iopub.status.idle": "2024-06-18T08:31:15.619361Z",
     "shell.execute_reply": "2024-06-18T08:31:15.618498Z",
     "shell.execute_reply.started": "2024-06-18T08:31:15.323038Z"
    }
   },
   "outputs": [
    {
     "data": {
      "image/png": "[encoded data removed]",
      "text/plain": [
       "<Figure size 1200x600 with 1 Axes>"
      ]
     },
     "metadata": {},
     "output_type": "display_data"
    }
   ],
   "source": [
    "import matplotlib.pyplot as plt\n",
    "\n",
    "# Visualization\n",
    "metrics = ['accuracy', 'f1-score']\n",
    "nlp_scores = [ner_model_metrics[metric] for metric in metrics]\n",
    "rf_scores = [ml_model_metrics[metric] for metric in metrics]\n",
    "gb_scores = [gb_model_metrics[metric] for metric in metrics]\n",
    "cnn_scores = [cnn_model_metrics[metric] for metric in metrics]\n",
    "\n",
    "x = range(len(metrics))\n",
    "plt.figure(figsize=(12, 6))\n",
    "plt.bar(x, nlp_scores, width=0.15, label='NLP Model', align='center')\n",
    "plt.bar([i + 0.2 for i in x], rf_scores, width=0.15, label='Random Forest Model', align='center')\n",
    "plt.bar([i + 0.4 for i in x], gb_scores, width=0.15, label='Gradient Boosting Model', align='center')\n",
    "plt.bar([i + 0.6 for i in x], cnn_scores, width=0.15, label='CNN Model', align='center')\n",
    "plt.xticks([i + 0.3 for i in x], metrics)\n",
    "plt.ylabel('Score')\n",
    "plt.title('Model Comparison')\n",
    "plt.legend()\n",
    "plt.show()\n"
   ]
  },
  {
   "cell_type": "markdown",
   "metadata": {},
   "source": [
    "# Explanation of Models and Their Contributions\n",
    "\n",
    "1. **NLP-based Model using Named Entity Recognition (NER):**\n",
    "\n",
    "This model identifies and classifies entities within the text. It helps extract key entities like countries, indicators, and units from the seriesDescription field.\n",
    "* **Strength:** Good at identifying specific entities and their types.\n",
    "* **Weakness:** Requires labeled data for accurate evaluation.\n",
    "\n",
    "\n",
    "2. **Random Forest Classifier for Text Classification:**\n",
    "\n",
    "This supervised learning model uses an ensemble of decision trees to classify text data based on features like text length and specific tokens.\n",
    "* **Strength:** Robust and less prone to overfitting.\n",
    "* **Weakness:** May require a large amount of data to perform well.\n",
    "\n",
    "3. **Gradient Boosting Classifier for Text Classification:**\n",
    "\n",
    "This supervised learning model builds an ensemble of weak learners to create a strong classifier, focusing on reducing errors from previous models.\n",
    "* **Strength:** Highly accurate and effective for structured data.\n",
    "* **Weakness:** Computationally intensive and can be sensitive to overfitting.\n",
    "\n",
    "4. **CNN-based Model for Text Classification:**\n",
    "\n",
    "This deep learning model uses convolutional layers to capture patterns in the text data. It is trained to classify text based on features extracted from the seriesDescription.\n",
    "* **Strength:** Effective in capturing local dependencies and patterns in the text.\n",
    "* **Weakness:** Requires significant computational resources and a large amount of training data."
   ]
  },
  {
   "cell_type": "markdown",
   "metadata": {},
   "source": [
    "# Visualize Knowledge Graphs:"
   ]
  },
  {
   "cell_type": "code",
   "execution_count": 46,
   "metadata": {
    "execution": {
     "iopub.execute_input": "2024-06-18T08:31:15.621061Z",
     "iopub.status.busy": "2024-06-18T08:31:15.620718Z",
     "iopub.status.idle": "2024-06-18T08:31:20.568187Z",
     "shell.execute_reply": "2024-06-18T08:31:20.567181Z",
     "shell.execute_reply.started": "2024-06-18T08:31:15.621028Z"
    }
   },
   "outputs": [
    {
     "data": {
      "text/html": [
       "<div>                            <div id=\"24fe2f96-9bee-4adc-9836-81cacbe6c02e\" class=\"plotly-graph-div\" style=\"height:525px; width:100%;\"></div>            <script type=\"text/javascript\">                require([\"plotly\"], function(Plotly) {                    window.PLOTLYENV=window.PLOTLYENV || {};                                    if (document.getElementById(\"24fe2f96-9bee-4adc-9836-81cacbe6c02e\")) {                    Plotly.newPlot(                        \"24fe2f96-9bee-4adc-9836-81cacbe6c02e\",                        [{\"hoverinfo\":\"none\",\"line\":{\"color\":\"#888\",\"width\":0.5},\"mode\":\"lines\",\"x\":[0.1753516118252032,0.019416060309645166,null,0.1753516118252032,0.4337903003862906,null,0.1753516118252032,-0.1109836078187146,null,0.1753516118252032,-0.03477080738992727,null,0.1753516118252032,0.3044492482509379,null,0.41072788582262293,0.4180065081445711,null,0.5724592755448524,0.1955722721814547,null,0.5724592755448524,0.5274494725418104,null,0.5724592755448524,0.30945310618943694,null,0.5724592755448524,0.5724592755448524,null,-0.30632699489988596,-0.21757910978377426,null,-0.30632699489988596,0.06820486819585427,null,-0.7700827224124055,-0.7878183652871131,null,-0.7700827224124055,-0.5529819927415136,null,-0.7700827224124055,-0.7091576188895697,null,-0.48535599962820286,-0.6965869362832688,null,-0.48535599962820286,0.019416060309645166,null,-0.9188349211522358,-0.3480787537782569,null,-0.8837162923942015,-0.5532819789484491,null,0.06797695872601549,0.04615136231671854,null,0.46714058846080575,0.7770013648659571,null,0.46714058846080575,0.8385886779838724,null,-0.8622905647213932,-0.3734798330950538,null,0.8855269833366126,0.8855269833366126,null,0.8855269833366126,0.30945310618943694,null,0.4044919108113189,0.5572467924383183,null,0.4044919108113189,0.3044492482509379,null,0.4044919108113189,0.6374070275570409,null,0.4044919108113189,0.33829136259482884,null,0.5572467924383183,0.32328454597951056,null,0.5572467924383183,0.3044492482509379,null,-0.2552726108710644,0.30945310618943694,null,-0.6965869362832688,-0.6965869362832688,null,0.35967852275471907,0.5422453245231346,null,0.35967852275471907,0.7652966643727275,null,0.35967852275471907,0.1955722721814547,null,0.35967852275471907,0.1329895449540527,null,0.6484117689695015,0.6484117689695015,null,-0.8958080350912979,-0.7878183652871131,null,0.019416060309645166,0.1955722721814547,null,0.019416060309645166,0.6118272909668556,null,0.019416060309645166,-0.20076387149658328,null,0.019416060309645166,-0.02715635198998197,null,0.019416060309645166,0.07988532895918109,null,0.019416060309645166,-0.03477080738992727,null,0.019416060309645166,0.3347177184576338,null,0.019416060309645166,-0.01558997497951101,null,0.7770013648659571,0.8385886779838724,null,-0.22732199754301413,-0.35318874620088525,null,-0.6821586422182558,-0.8373181926275188,null,0.4592569901653676,0.16336949556043717,null,0.4592569901653676,0.3044492482509379,null,0.027174772960727362,0.027174772960727362,null,0.027174772960727362,0.43227428642379373,null,0.3347177184576338,0.27892214983474334,null,0.3347177184576338,0.3347177184576338,null,-0.07305430449696423,-0.6494662414316832,null,-0.07305430449696423,0.32328454597951056,null,-0.07305430449696423,0.4180065081445711,null,-0.07305430449696423,-0.3480787537782569,null,-0.07305430449696423,0.0733694255212492,null,-0.7878183652871131,-1.0,null,-0.7878183652871131,-0.7878183652871131,null,-0.7878183652871131,-0.1109836078187146,null,-0.7878183652871131,-0.9804771753670062,null,-0.86448634095283,-0.6522295860917883,null,-0.45285430351413963,-0.7869955857410894,null,0.7909921831790933,0.3044492482509379,null,0.7909921831790933,0.4180065081445711,null,-0.9722562097408991,-0.7869955857410894,null,0.14197340501475744,-0.04118514119515435,null,0.14197340501475744,0.14197340501475744,null,-0.02715635198998197,0.37672445426092954,null,-0.6494662414316832,-0.7986637925650212,null,0.4337903003862906,0.6010289569914484,null,0.4972694148722317,-0.05944608849850233,null,0.8385886779838724,0.7958679209740301,null,-0.30528724674143665,-0.30528724674143665,null,-0.30528724674143665,-0.4310969271633159,null,-0.30528724674143665,0.16336949556043717,null,0.30945310618943694,0.30945310618943694,null,0.30945310618943694,0.1955722721814547,null,0.30945310618943694,-0.055760122682386205,null,0.571288028849252,0.5333153906500279,null,0.571288028849252,0.6118272909668556,null,0.33829136259482884,0.20807992559460547,null,0.33829136259482884,0.6374070275570409,null,-0.5561239060453942,-0.666604847462891,null,-0.6831696891101832,-0.6831696891101832,null,0.18338517089111844,0.18338517089111844,null,0.18338517089111844,0.3044492482509379,null,-0.21757910978377426,0.06820486819585427,null,-0.9804771753670062,-0.9804771753670062,null,-0.7091576188895697,-0.7091576188895697,null,0.06820486819585427,0.45419204156979703,null,-0.706017017378619,-0.24666331400478325,null,0.1600757623616158,0.47552888184677805,null,-0.06852280386953132,0.3044492482509379,null,-0.06852280386953132,0.20807992559460547,null,-0.24666331400478325,-0.24666331400478325,null,-0.24666331400478325,0.2877622950127548,null,-0.3480787537782569,-0.3480787537782569,null,-0.3480787537782569,0.16336949556043717,null,-0.3480787537782569,-0.1109836078187146,null,-0.05944608849850233,-0.3734798330950538,null,0.03408061381051719,-0.4310969271633159,null,0.03408061381051719,0.03408061381051719,null,0.03408061381051719,0.19835532512822754,null,0.0733694255212492,0.4180065081445711,null,0.19083238489698523,-0.28629831148636986,null,0.2877622950127548,0.08757188634907605,null,-0.146268143187444,0.3044492482509379,null,0.1955722721814547,-0.0012786042917282275,null,0.1955722721814547,0.1955722721814547,null,0.1955722721814547,0.1329895449540527,null,0.1955722721814547,-0.1109836078187146,null,0.7455325081735737,0.3044492482509379,null,0.8582469151528939,0.4180065081445711,null,0.8582469151528939,0.8582469151528939,null,0.5274494725418104,-0.01558997497951101,null,0.4180065081445711,0.3044492482509379,null,0.4180065081445711,-0.1109836078187146,null,0.4180065081445711,0.29604637729904565,null,0.4180065081445711,0.6010289569914484,null,0.4180065081445711,0.874805654498718,null,0.37672445426092954,0.37672445426092954,null,0.6374070275570409,0.20807992559460547,null,0.6374070275570409,0.8785796645910353,null,-0.1477974995964737,-0.01558997497951101,null,0.16336949556043717,0.16336949556043717,null,0.16336949556043717,0.4464481787033706,null,0.16336949556043717,0.5137395772945575,null,0.5137395772945575,0.5137395772945575,null,0.19835532512822754,0.19835532512822754,null,-0.7190761091989402,-0.7190761091989402,null,-0.9735525690532242,-0.4310969271633159,null,-0.01558997497951101,0.4222396091748365,null,-0.01558997497951101,-0.4310969271633159,null,-0.01558997497951101,-0.01558997497951101,null,-0.01558997497951101,0.29604637729904565,null,-0.01558997497951101,-0.5529819927415136,null,0.4222396091748365,0.4222396091748365,null,-0.20076387149658328,-0.20076387149658328,null,-0.20076387149658328,-0.1109836078187146,null,0.3044492482509379,0.20807992559460547,null,0.3044492482509379,-0.1109836078187146,null,0.3044492482509379,0.25648147257838666,null,0.3044492482509379,0.29604637729904565,null,0.3044492482509379,0.6010289569914484,null,0.3044492482509379,-0.04118514119515435,null,-0.21996213815705518,-0.21996213815705518,null,-0.21996213815705518,-0.055760122682386205,null,-0.0012786042917282275,-0.0012786042917282275,null,-0.10925853706318508,-0.10925853706318508,null,-0.18228669794237723,0.5309060039429838,null,-0.793422510976182,-0.793422510976182,null,0.8869752070060705,0.8869752070060705,null,-0.5529819927415136,-0.5529819927415136,null,0.29604637729904565,0.3833507411654596,null,-0.055760122682386205,-0.055760122682386205,null,-0.055760122682386205,-0.2056540661245319,null,-0.055760122682386205,-0.501567130371272,null,-0.055760122682386205,0.41866120337430585,null,-0.4310969271633159,-0.4310969271633159,null,0.3833507411654596,0.3833507411654596,null,0.5309060039429838,0.5309060039429838,null,-0.3450567403518056,-0.3450567403518056,null,-0.1109836078187146,-0.1109836078187146,null],\"y\":[0.5237270313953892,0.4377201562861558,null,0.5237270313953892,0.554070697688196,null,0.5237270313953892,0.33358855371111795,null,0.5237270313953892,0.8882258246011734,null,0.5237270313953892,0.024905905308184952,null,0.8529898459502171,0.16891466009228334,null,0.05365218566456162,0.30844284953723133,null,0.05365218566456162,-0.2641555961705482,null,0.05365218566456162,0.22116334252937114,null,0.05365218566456162,0.05365218566456162,null,0.7284932850796196,0.4215863094829296,null,0.7284932850796196,0.633314695490051,null,0.0695607027630869,0.2154167292006644,null,0.0695607027630869,-0.3739766621352682,null,0.0695607027630869,0.5950528713114496,null,0.5863967726203867,0.7429257658638804,null,0.5863967726203867,0.4377201562861558,null,0.34478519176567557,0.11807711426121631,null,-0.3082573492869338,-0.5166999874971828,null,-0.3471451241995791,-0.9579792915167235,null,-0.300138772949346,-0.100905806996358,null,-0.300138772949346,-0.33382281832342936,null,-0.348052694158792,-0.004753203032083796,null,0.11421485207466216,0.11421485207466216,null,0.11421485207466216,0.22116334252937114,null,-0.4553968163645676,-0.3931518805031422,null,-0.4553968163645676,0.024905905308184952,null,-0.4553968163645676,-0.40228993272539676,null,-0.4553968163645676,-0.4409418765558842,null,-0.3931518805031422,-0.22937528000296026,null,-0.3931518805031422,0.024905905308184952,null,0.39398493709845006,0.22116334252937114,null,0.7429257658638804,0.7429257658638804,null,0.7697305207797206,0.6935417243740383,null,0.7697305207797206,0.5153130655679096,null,0.7697305207797206,0.30844284953723133,null,0.7697305207797206,0.869196265727688,null,0.6610190201530797,0.6610190201530797,null,0.5010626039109343,0.2154167292006644,null,0.4377201562861558,0.30844284953723133,null,0.4377201562861558,0.3659102942665683,null,0.4377201562861558,0.8222714789866438,null,0.4377201562861558,0.6986907794396724,null,0.4377201562861558,0.9510706767373805,null,0.4377201562861558,0.8882258246011734,null,0.4377201562861558,0.28493297837398224,null,0.4377201562861558,-0.2003782800267,null,-0.100905806996358,-0.33382281832342936,null,-0.12635375023202966,-0.4719256239771732,null,0.3803662458118684,0.04532016631284208,null,0.15931304349493286,-0.29204358558922383,null,0.15931304349493286,0.024905905308184952,null,-0.8577570129666253,-0.8577570129666253,null,-0.8577570129666253,-0.8835027529212288,null,0.28493297837398224,0.6710067910744697,null,0.28493297837398224,0.28493297837398224,null,-0.00018736364410452166,-0.24178746921564567,null,-0.00018736364410452166,-0.22937528000296026,null,-0.00018736364410452166,0.16891466009228334,null,-0.00018736364410452166,0.11807711426121631,null,-0.00018736364410452166,0.36656700368521555,null,0.2154167292006644,-0.03674429913892207,null,0.2154167292006644,0.2154167292006644,null,0.2154167292006644,0.33358855371111795,null,0.2154167292006644,-0.15272704810938104,null,-0.44789765924800673,0.01819569725808769,null,0.7020059211676415,0.41073654505805696,null,0.21693140563334604,0.024905905308184952,null,0.21693140563334604,0.16891466009228334,null,0.24024697106729367,0.41073654505805696,null,-0.7837513866819545,-0.35198085633518167,null,-0.7837513866819545,-0.7837513866819545,null,0.6986907794396724,0.755722652330212,null,-0.24178746921564567,-0.6216448426082126,null,0.554070697688196,0.2748910747553025,null,0.8147070557237902,0.5831244148253355,null,-0.33382281832342936,0.049064811132306846,null,-0.2613344127247902,-0.2613344127247902,null,-0.2613344127247902,0.09716092523915149,null,-0.2613344127247902,-0.29204358558922383,null,0.22116334252937114,0.22116334252937114,null,0.22116334252937114,0.30844284953723133,null,0.22116334252937114,0.16865792762901757,null,0.13748516109605555,0.7132832108887983,null,0.13748516109605555,0.3659102942665683,null,-0.4409418765558842,-0.10787849649020756,null,-0.4409418765558842,-0.40228993272539676,null,-0.7970819539405952,-0.5659206136034639,null,-0.39189975715077013,-0.39189975715077013,null,0.6138397880379436,0.6138397880379436,null,0.6138397880379436,0.024905905308184952,null,0.4215863094829296,0.633314695490051,null,-0.15272704810938104,-0.15272704810938104,null,0.5950528713114496,0.5950528713114496,null,0.633314695490051,0.8369403530870316,null,-0.4991532752452837,-0.7370520993833668,null,-0.899029278170844,-0.7395794284608961,null,0.11937417733751292,0.024905905308184952,null,0.11937417733751292,-0.10787849649020756,null,-0.7370520993833668,-0.7370520993833668,null,-0.7370520993833668,-0.6639664975573467,null,0.11807711426121631,0.11807711426121631,null,0.11807711426121631,-0.29204358558922383,null,0.11807711426121631,0.33358855371111795,null,0.5831244148253355,-0.004753203032083796,null,0.47232552154202617,0.09716092523915149,null,0.47232552154202617,0.47232552154202617,null,0.47232552154202617,0.8858214038295023,null,0.36656700368521555,0.16891466009228334,null,-0.8914636118977567,-0.7624050296500524,null,-0.6639664975573467,-0.7881603424490226,null,-0.1631403496124205,0.024905905308184952,null,0.30844284953723133,-0.40678457013293035,null,0.30844284953723133,0.30844284953723133,null,0.30844284953723133,0.869196265727688,null,0.30844284953723133,0.33358855371111795,null,0.4076430398576099,0.024905905308184952,null,-0.0026880922489066505,0.16891466009228334,null,-0.0026880922489066505,-0.0026880922489066505,null,-0.2641555961705482,-0.2003782800267,null,0.16891466009228334,0.024905905308184952,null,0.16891466009228334,0.33358855371111795,null,0.16891466009228334,-0.32619934887819313,null,0.16891466009228334,0.2748910747553025,null,0.16891466009228334,-0.27149572220570867,null,0.755722652330212,0.755722652330212,null,-0.40228993272539676,-0.10787849649020756,null,-0.40228993272539676,-0.24673034129447052,null,-0.7716640886249583,-0.2003782800267,null,-0.29204358558922383,-0.29204358558922383,null,-0.29204358558922383,-0.7980076662897045,null,-0.29204358558922383,-0.763891216203561,null,-0.763891216203561,-0.763891216203561,null,0.8858214038295023,0.8858214038295023,null,0.5681382458006101,0.5681382458006101,null,0.08692842937887055,0.09716092523915149,null,-0.2003782800267,-0.17661312918053043,null,-0.2003782800267,0.09716092523915149,null,-0.2003782800267,-0.2003782800267,null,-0.2003782800267,-0.32619934887819313,null,-0.2003782800267,-0.3739766621352682,null,-0.17661312918053043,-0.17661312918053043,null,0.8222714789866438,0.8222714789866438,null,0.8222714789866438,0.33358855371111795,null,0.024905905308184952,-0.10787849649020756,null,0.024905905308184952,0.33358855371111795,null,0.024905905308184952,-0.6061343797571835,null,0.024905905308184952,-0.32619934887819313,null,0.024905905308184952,0.2748910747553025,null,0.024905905308184952,-0.35198085633518167,null,0.6869863548548463,0.6869863548548463,null,0.6869863548548463,0.16865792762901757,null,-0.40678457013293035,-0.40678457013293035,null,-0.953236551537159,-0.953236551537159,null,-0.8227605271992235,-0.7540783783027736,null,0.5118262066255471,0.5118262066255471,null,-0.15457330551458837,-0.15457330551458837,null,-0.3739766621352682,-0.3739766621352682,null,-0.32619934887819313,-0.8932809133945897,null,0.16865792762901757,0.16865792762901757,null,0.16865792762901757,-0.41135628031215726,null,0.16865792762901757,-0.12715071115703488,null,0.16865792762901757,0.43457233971984666,null,0.09716092523915149,0.09716092523915149,null,-0.8932809133945897,-0.8932809133945897,null,-0.7540783783027736,-0.7540783783027736,null,-0.8926971806655756,-0.8926971806655756,null,0.33358855371111795,0.33358855371111795,null],\"type\":\"scatter\"},{\"hoverinfo\":\"text\",\"marker\":{\"colorbar\":{\"thickness\":15,\"title\":{\"side\":\"right\",\"text\":\"Node Connections\"},\"xanchor\":\"left\"},\"colorscale\":[[0.0,\"rgb(255,255,217)\"],[0.125,\"rgb(237,248,177)\"],[0.25,\"rgb(199,233,180)\"],[0.375,\"rgb(127,205,187)\"],[0.5,\"rgb(65,182,196)\"],[0.625,\"rgb(29,145,192)\"],[0.75,\"rgb(34,94,168)\"],[0.875,\"rgb(37,52,148)\"],[1.0,\"rgb(8,29,88)\"]],\"line\":{\"width\":2},\"showscale\":true,\"size\":10},\"mode\":\"markers+text\",\"text\":[\"2019\",\"Aichi Biodiversity Target\",\"2015\",\"at least three\",\"OECD\",\"12-month\",\"Montreal Protocol\",\"Constitutional Court\",\"Plant Genetic Resources for Food and Agriculture\",\"18-29 years\",\"millions of cubic metres\",\"2 km\",\"4\",\"Lower Chamber or Unicameral\",\"0 - 100\",\"National DRR Strategy\",\"ILO] Proportion\",\"million\",\"10,000\",\"KG\",\"millions\",\"age 18\",\"MCV2\",\"Minamata Convention\",\"at least 90 percent\",\"ICT\",\"Exclusive Economic Zones\",\"1-14 years\",\"PPP\",\"Tonnes\",\"Aichi Biodiversity\",\"age 18\",\"the Fundamental Principles of Official Statistics\",\"age 15\",\"non-Annex\",\"2018\",\"two\",\"National Human Rights Institutions\",\"Staphylococcus aureus\",\"Reservoir\",\"18-29\",\"one year\",\"Basel Convention\",\"the Sendai Framework\",\"10\",\"at least a\",\"10%\",\"Legislation, Regulation\",\"under 5 years of age\",\"100\",\"aged 36−59 months\",\"at least one\",\"Gini\",\"second\",\"36-59 months\",\"methicillin\",\"Section 4\",\"Requires\",\"last month\",\"watts\",\"2017\",\"Escherichia\",\"1,000,000\",\"the previous 12 months\",\"millions of tonnes\",\"millions of US dollars\",\"Freshwater Key Biodiversity Areas\",\"National Biodiversity Strategy and Action Plan\",\"United States\",\"USD\",\"Terrestrial Key Biodiversity Areas\",\"Bank\",\"m3\\u002fyear\",\"Provider\",\"International Labour Organization\",\"15-19\",\"20-24 years\",\"Tourism Satellite Account\",\"0\",\"Sound Technologies\",\"3\",\"Malaria\",\"FDI\",\"2011\",\"15-49 years\",\"200\",\"months\",\"25%\",\"DTP3\",\"Central Government\",\"1,000\",\"zero\",\"thousands\",\"3rd\",\"1\",\"International Health Regulations (IHR\",\"States\",\"Billions\",\"the International Treaty\",\"2\",\"HPV\",\"IFPA\",\"billions\",\"NA\",\"SCP\",\"at least 75 percent\",\"UNCLOS\",\"Mountain Key Biodiversity Areas\",\"GNI\",\"Aid for Trade\",\"Invasive Alien Species\",\"5\",\"15 years\",\"Annual\",\"(metric tons\",\"a calendar year\",\"hourly\",\"Joint Committees\",\"the Online Reporting System\",\"6\",\"Fossil-fuel\",\"Post-Abortion Care\",\"the Paris Principles\",\"Marine Key Biodiversity Areas\",\"100,000\",\"9\"],\"textposition\":\"bottom center\",\"x\":[0.1753516118252032,0.41072788582262293,0.5724592755448524,-0.30632699489988596,-0.7700827224124055,-0.48535599962820286,-0.9188349211522358,-0.8837162923942015,0.06797695872601549,0.46714058846080575,-0.8622905647213932,0.8855269833366126,0.4044919108113189,-0.5532819789484491,0.5572467924383183,-0.2552726108710644,-0.6965869362832688,0.35967852275471907,0.6484117689695015,-0.8958080350912979,0.019416060309645166,0.7770013648659571,-0.22732199754301413,-0.6821586422182558,0.4592569901653676,0.027174772960727362,0.43227428642379373,0.3347177184576338,-0.07305430449696423,-0.7878183652871131,-0.86448634095283,-0.45285430351413963,0.7909921831790933,-0.9722562097408991,0.14197340501475744,-0.02715635198998197,-0.6494662414316832,0.4337903003862906,0.4972694148722317,-1.0,0.8385886779838724,-0.30528724674143665,-0.8373181926275188,0.30945310618943694,0.571288028849252,0.33829136259482884,0.5333153906500279,-0.5561239060453942,-0.6831696891101832,0.18338517089111844,-0.21757910978377426,-0.9804771753670062,-0.7091576188895697,-0.35318874620088525,0.06820486819585427,-0.706017017378619,0.1600757623616158,-0.06852280386953132,0.27892214983474334,-0.24666331400478325,-0.3480787537782569,-0.05944608849850233,0.5422453245231346,0.03408061381051719,0.0733694255212492,0.19083238489698523,0.2877622950127548,-0.146268143187444,0.1955722721814547,0.1329895449540527,0.08757188634907605,0.45419204156979703,0.7652966643727275,0.7455325081735737,0.8582469151528939,0.5274494725418104,-0.7869955857410894,0.07988532895918109,0.4180065081445711,0.37672445426092954,0.6374070275570409,-0.1477974995964737,-0.28629831148636986,0.32328454597951056,0.16336949556043717,0.5137395772945575,0.19835532512822754,-0.7190761091989402,0.8785796645910353,-0.9735525690532242,-0.01558997497951101,0.4222396091748365,-0.20076387149658328,-0.3734798330950538,0.3044492482509379,-0.21996213815705518,-0.04118514119515435,-0.0012786042917282275,0.04615136231671854,0.20807992559460547,0.47552888184677805,-0.10925853706318508,-0.18228669794237723,0.6118272909668556,-0.793422510976182,0.874805654498718,-0.7986637925650212,0.8869752070060705,-0.5529819927415136,-0.03477080738992727,-0.666604847462891,0.29604637729904565,-0.055760122682386205,-0.4310969271633159,0.41866120337430585,-0.501567130371272,0.3833507411654596,0.4464481787033706,0.7958679209740301,0.25648147257838666,0.5309060039429838,-0.2056540661245319,0.6010289569914484,-0.3450567403518056,-0.1109836078187146,-0.6522295860917883],\"y\":[0.5237270313953892,0.8529898459502171,0.05365218566456162,0.7284932850796196,0.0695607027630869,0.5863967726203867,0.34478519176567557,-0.3082573492869338,-0.3471451241995791,-0.300138772949346,-0.348052694158792,0.11421485207466216,-0.4553968163645676,-0.5166999874971828,-0.3931518805031422,0.39398493709845006,0.7429257658638804,0.7697305207797206,0.6610190201530797,0.5010626039109343,0.4377201562861558,-0.100905806996358,-0.12635375023202966,0.3803662458118684,0.15931304349493286,-0.8577570129666253,-0.8835027529212288,0.28493297837398224,-0.00018736364410452166,0.2154167292006644,-0.44789765924800673,0.7020059211676415,0.21693140563334604,0.24024697106729367,-0.7837513866819545,0.6986907794396724,-0.24178746921564567,0.554070697688196,0.8147070557237902,-0.03674429913892207,-0.33382281832342936,-0.2613344127247902,0.04532016631284208,0.22116334252937114,0.13748516109605555,-0.4409418765558842,0.7132832108887983,-0.7970819539405952,-0.39189975715077013,0.6138397880379436,0.4215863094829296,-0.15272704810938104,0.5950528713114496,-0.4719256239771732,0.633314695490051,-0.4991532752452837,-0.899029278170844,0.11937417733751292,0.6710067910744697,-0.7370520993833668,0.11807711426121631,0.5831244148253355,0.6935417243740383,0.47232552154202617,0.36656700368521555,-0.8914636118977567,-0.6639664975573467,-0.1631403496124205,0.30844284953723133,0.869196265727688,-0.7881603424490226,0.8369403530870316,0.5153130655679096,0.4076430398576099,-0.0026880922489066505,-0.2641555961705482,0.41073654505805696,0.9510706767373805,0.16891466009228334,0.755722652330212,-0.40228993272539676,-0.7716640886249583,-0.7624050296500524,-0.22937528000296026,-0.29204358558922383,-0.763891216203561,0.8858214038295023,0.5681382458006101,-0.24673034129447052,0.08692842937887055,-0.2003782800267,-0.17661312918053043,0.8222714789866438,-0.004753203032083796,0.024905905308184952,0.6869863548548463,-0.35198085633518167,-0.40678457013293035,-0.9579792915167235,-0.10787849649020756,-0.7395794284608961,-0.953236551537159,-0.8227605271992235,0.3659102942665683,0.5118262066255471,-0.27149572220570867,-0.6216448426082126,-0.15457330551458837,-0.3739766621352682,0.8882258246011734,-0.5659206136034639,-0.32619934887819313,0.16865792762901757,0.09716092523915149,0.43457233971984666,-0.12715071115703488,-0.8932809133945897,-0.7980076662897045,0.049064811132306846,-0.6061343797571835,-0.7540783783027736,-0.41135628031215726,0.2748910747553025,-0.8926971806655756,0.33358855371111795,0.01819569725808769],\"type\":\"scatter\"}],                        {\"annotations\":[{\"showarrow\":false,\"text\":\"Python code by Plotly\",\"x\":0.005,\"xref\":\"paper\",\"y\":-0.002,\"yref\":\"paper\"}],\"hovermode\":\"closest\",\"margin\":{\"b\":20,\"l\":5,\"r\":5,\"t\":40},\"showlegend\":false,\"title\":{\"font\":{\"size\":16},\"text\":\"Knowledge Graph Visualization (NER Model)\"},\"xaxis\":{\"showgrid\":false,\"zeroline\":false},\"yaxis\":{\"showgrid\":false,\"zeroline\":false},\"template\":{\"data\":{\"histogram2dcontour\":[{\"type\":\"histogram2dcontour\",\"colorbar\":{\"outlinewidth\":0,\"ticks\":\"\"},\"colorscale\":[[0.0,\"#0d0887\"],[0.1111111111111111,\"#46039f\"],[0.2222222222222222,\"#7201a8\"],[0.3333333333333333,\"#9c179e\"],[0.4444444444444444,\"#bd3786\"],[0.5555555555555556,\"#d8576b\"],[0.6666666666666666,\"#ed7953\"],[0.7777777777777778,\"#fb9f3a\"],[0.8888888888888888,\"#fdca26\"],[1.0,\"#f0f921\"]]}],\"choropleth\":[{\"type\":\"choropleth\",\"colorbar\":{\"outlinewidth\":0,\"ticks\":\"\"}}],\"histogram2d\":[{\"type\":\"histogram2d\",\"colorbar\":{\"outlinewidth\":0,\"ticks\":\"\"},\"colorscale\":[[0.0,\"#0d0887\"],[0.1111111111111111,\"#46039f\"],[0.2222222222222222,\"#7201a8\"],[0.3333333333333333,\"#9c179e\"],[0.4444444444444444,\"#bd3786\"],[0.5555555555555556,\"#d8576b\"],[0.6666666666666666,\"#ed7953\"],[0.7777777777777778,\"#fb9f3a\"],[0.8888888888888888,\"#fdca26\"],[1.0,\"#f0f921\"]]}],\"heatmap\":[{\"type\":\"heatmap\",\"colorbar\":{\"outlinewidth\":0,\"ticks\":\"\"},\"colorscale\":[[0.0,\"#0d0887\"],[0.1111111111111111,\"#46039f\"],[0.2222222222222222,\"#7201a8\"],[0.3333333333333333,\"#9c179e\"],[0.4444444444444444,\"#bd3786\"],[0.5555555555555556,\"#d8576b\"],[0.6666666666666666,\"#ed7953\"],[0.7777777777777778,\"#fb9f3a\"],[0.8888888888888888,\"#fdca26\"],[1.0,\"#f0f921\"]]}],\"heatmapgl\":[{\"type\":\"heatmapgl\",\"colorbar\":{\"outlinewidth\":0,\"ticks\":\"\"},\"colorscale\":[[0.0,\"#0d0887\"],[0.1111111111111111,\"#46039f\"],[0.2222222222222222,\"#7201a8\"],[0.3333333333333333,\"#9c179e\"],[0.4444444444444444,\"#bd3786\"],[0.5555555555555556,\"#d8576b\"],[0.6666666666666666,\"#ed7953\"],[0.7777777777777778,\"#fb9f3a\"],[0.8888888888888888,\"#fdca26\"],[1.0,\"#f0f921\"]]}],\"contourcarpet\":[{\"type\":\"contourcarpet\",\"colorbar\":{\"outlinewidth\":0,\"ticks\":\"\"}}],\"contour\":[{\"type\":\"contour\",\"colorbar\":{\"outlinewidth\":0,\"ticks\":\"\"},\"colorscale\":[[0.0,\"#0d0887\"],[0.1111111111111111,\"#46039f\"],[0.2222222222222222,\"#7201a8\"],[0.3333333333333333,\"#9c179e\"],[0.4444444444444444,\"#bd3786\"],[0.5555555555555556,\"#d8576b\"],[0.6666666666666666,\"#ed7953\"],[0.7777777777777778,\"#fb9f3a\"],[0.8888888888888888,\"#fdca26\"],[1.0,\"#f0f921\"]]}],\"surface\":[{\"type\":\"surface\",\"colorbar\":{\"outlinewidth\":0,\"ticks\":\"\"},\"colorscale\":[[0.0,\"#0d0887\"],[0.1111111111111111,\"#46039f\"],[0.2222222222222222,\"#7201a8\"],[0.3333333333333333,\"#9c179e\"],[0.4444444444444444,\"#bd3786\"],[0.5555555555555556,\"#d8576b\"],[0.6666666666666666,\"#ed7953\"],[0.7777777777777778,\"#fb9f3a\"],[0.8888888888888888,\"#fdca26\"],[1.0,\"#f0f921\"]]}],\"mesh3d\":[{\"type\":\"mesh3d\",\"colorbar\":{\"outlinewidth\":0,\"ticks\":\"\"}}],\"scatter\":[{\"fillpattern\":{\"fillmode\":\"overlay\",\"size\":10,\"solidity\":0.2},\"type\":\"scatter\"}],\"parcoords\":[{\"type\":\"parcoords\",\"line\":{\"colorbar\":{\"outlinewidth\":0,\"ticks\":\"\"}}}],\"scatterpolargl\":[{\"type\":\"scatterpolargl\",\"marker\":{\"colorbar\":{\"outlinewidth\":0,\"ticks\":\"\"}}}],\"bar\":[{\"error_x\":{\"color\":\"#2a3f5f\"},\"error_y\":{\"color\":\"#2a3f5f\"},\"marker\":{\"line\":{\"color\":\"#E5ECF6\",\"width\":0.5},\"pattern\":{\"fillmode\":\"overlay\",\"size\":10,\"solidity\":0.2}},\"type\":\"bar\"}],\"scattergeo\":[{\"type\":\"scattergeo\",\"marker\":{\"colorbar\":{\"outlinewidth\":0,\"ticks\":\"\"}}}],\"scatterpolar\":[{\"type\":\"scatterpolar\",\"marker\":{\"colorbar\":{\"outlinewidth\":0,\"ticks\":\"\"}}}],\"histogram\":[{\"marker\":{\"pattern\":{\"fillmode\":\"overlay\",\"size\":10,\"solidity\":0.2}},\"type\":\"histogram\"}],\"scattergl\":[{\"type\":\"scattergl\",\"marker\":{\"colorbar\":{\"outlinewidth\":0,\"ticks\":\"\"}}}],\"scatter3d\":[{\"type\":\"scatter3d\",\"line\":{\"colorbar\":{\"outlinewidth\":0,\"ticks\":\"\"}},\"marker\":{\"colorbar\":{\"outlinewidth\":0,\"ticks\":\"\"}}}],\"scattermapbox\":[{\"type\":\"scattermapbox\",\"marker\":{\"colorbar\":{\"outlinewidth\":0,\"ticks\":\"\"}}}],\"scatterternary\":[{\"type\":\"scatterternary\",\"marker\":{\"colorbar\":{\"outlinewidth\":0,\"ticks\":\"\"}}}],\"scattercarpet\":[{\"type\":\"scattercarpet\",\"marker\":{\"colorbar\":{\"outlinewidth\":0,\"ticks\":\"\"}}}],\"carpet\":[{\"aaxis\":{\"endlinecolor\":\"#2a3f5f\",\"gridcolor\":\"white\",\"linecolor\":\"white\",\"minorgridcolor\":\"white\",\"startlinecolor\":\"#2a3f5f\"},\"baxis\":{\"endlinecolor\":\"#2a3f5f\",\"gridcolor\":\"white\",\"linecolor\":\"white\",\"minorgridcolor\":\"white\",\"startlinecolor\":\"#2a3f5f\"},\"type\":\"carpet\"}],\"table\":[{\"cells\":{\"fill\":{\"color\":\"#EBF0F8\"},\"line\":{\"color\":\"white\"}},\"header\":{\"fill\":{\"color\":\"#C8D4E3\"},\"line\":{\"color\":\"white\"}},\"type\":\"table\"}],\"barpolar\":[{\"marker\":{\"line\":{\"color\":\"#E5ECF6\",\"width\":0.5},\"pattern\":{\"fillmode\":\"overlay\",\"size\":10,\"solidity\":0.2}},\"type\":\"barpolar\"}],\"pie\":[{\"automargin\":true,\"type\":\"pie\"}]},\"layout\":{\"autotypenumbers\":\"strict\",\"colorway\":[\"#636efa\",\"#EF553B\",\"#00cc96\",\"#ab63fa\",\"#FFA15A\",\"#19d3f3\",\"#FF6692\",\"#B6E880\",\"#FF97FF\",\"#FECB52\"],\"font\":{\"color\":\"#2a3f5f\"},\"hovermode\":\"closest\",\"hoverlabel\":{\"align\":\"left\"},\"paper_bgcolor\":\"white\",\"plot_bgcolor\":\"#E5ECF6\",\"polar\":{\"bgcolor\":\"#E5ECF6\",\"angularaxis\":{\"gridcolor\":\"white\",\"linecolor\":\"white\",\"ticks\":\"\"},\"radialaxis\":{\"gridcolor\":\"white\",\"linecolor\":\"white\",\"ticks\":\"\"}},\"ternary\":{\"bgcolor\":\"#E5ECF6\",\"aaxis\":{\"gridcolor\":\"white\",\"linecolor\":\"white\",\"ticks\":\"\"},\"baxis\":{\"gridcolor\":\"white\",\"linecolor\":\"white\",\"ticks\":\"\"},\"caxis\":{\"gridcolor\":\"white\",\"linecolor\":\"white\",\"ticks\":\"\"}},\"coloraxis\":{\"colorbar\":{\"outlinewidth\":0,\"ticks\":\"\"}},\"colorscale\":{\"sequential\":[[0.0,\"#0d0887\"],[0.1111111111111111,\"#46039f\"],[0.2222222222222222,\"#7201a8\"],[0.3333333333333333,\"#9c179e\"],[0.4444444444444444,\"#bd3786\"],[0.5555555555555556,\"#d8576b\"],[0.6666666666666666,\"#ed7953\"],[0.7777777777777778,\"#fb9f3a\"],[0.8888888888888888,\"#fdca26\"],[1.0,\"#f0f921\"]],\"sequentialminus\":[[0.0,\"#0d0887\"],[0.1111111111111111,\"#46039f\"],[0.2222222222222222,\"#7201a8\"],[0.3333333333333333,\"#9c179e\"],[0.4444444444444444,\"#bd3786\"],[0.5555555555555556,\"#d8576b\"],[0.6666666666666666,\"#ed7953\"],[0.7777777777777778,\"#fb9f3a\"],[0.8888888888888888,\"#fdca26\"],[1.0,\"#f0f921\"]],\"diverging\":[[0,\"#8e0152\"],[0.1,\"#c51b7d\"],[0.2,\"#de77ae\"],[0.3,\"#f1b6da\"],[0.4,\"#fde0ef\"],[0.5,\"#f7f7f7\"],[0.6,\"#e6f5d0\"],[0.7,\"#b8e186\"],[0.8,\"#7fbc41\"],[0.9,\"#4d9221\"],[1,\"#276419\"]]},\"xaxis\":{\"gridcolor\":\"white\",\"linecolor\":\"white\",\"ticks\":\"\",\"title\":{\"standoff\":15},\"zerolinecolor\":\"white\",\"automargin\":true,\"zerolinewidth\":2},\"yaxis\":{\"gridcolor\":\"white\",\"linecolor\":\"white\",\"ticks\":\"\",\"title\":{\"standoff\":15},\"zerolinecolor\":\"white\",\"automargin\":true,\"zerolinewidth\":2},\"scene\":{\"xaxis\":{\"backgroundcolor\":\"#E5ECF6\",\"gridcolor\":\"white\",\"linecolor\":\"white\",\"showbackground\":true,\"ticks\":\"\",\"zerolinecolor\":\"white\",\"gridwidth\":2},\"yaxis\":{\"backgroundcolor\":\"#E5ECF6\",\"gridcolor\":\"white\",\"linecolor\":\"white\",\"showbackground\":true,\"ticks\":\"\",\"zerolinecolor\":\"white\",\"gridwidth\":2},\"zaxis\":{\"backgroundcolor\":\"#E5ECF6\",\"gridcolor\":\"white\",\"linecolor\":\"white\",\"showbackground\":true,\"ticks\":\"\",\"zerolinecolor\":\"white\",\"gridwidth\":2}},\"shapedefaults\":{\"line\":{\"color\":\"#2a3f5f\"}},\"annotationdefaults\":{\"arrowcolor\":\"#2a3f5f\",\"arrowhead\":0,\"arrowwidth\":1},\"geo\":{\"bgcolor\":\"white\",\"landcolor\":\"#E5ECF6\",\"subunitcolor\":\"white\",\"showland\":true,\"showlakes\":true,\"lakecolor\":\"white\"},\"title\":{\"x\":0.05},\"mapbox\":{\"style\":\"light\"}}}},                        {\"responsive\": true}                    ).then(function(){\n",
       "                            \n",
       "var gd = document.getElementById('24fe2f96-9bee-4adc-9836-81cacbe6c02e');\n",
       "var x = new MutationObserver(function (mutations, observer) {{\n",
       "        var display = window.getComputedStyle(gd).display;\n",
       "        if (!display || display === 'none') {{\n",
       "            console.log([gd, 'removed!']);\n",
       "            Plotly.purge(gd);\n",
       "            observer.disconnect();\n",
       "        }}\n",
       "}});\n",
       "\n",
       "// Listen for the removal of the full notebook cells\n",
       "var notebookContainer = gd.closest('#notebook-container');\n",
       "if (notebookContainer) {{\n",
       "    x.observe(notebookContainer, {childList: true});\n",
       "}}\n",
       "\n",
       "// Listen for the clearing of the current output cell\n",
       "var outputEl = gd.closest('.output');\n",
       "if (outputEl) {{\n",
       "    x.observe(outputEl, {childList: true});\n",
       "}}\n",
       "\n",
       "                        })                };                });            </script>        </div>"
      ]
     },
     "metadata": {},
     "output_type": "display_data"
    }
   ],
   "source": [
    "import plotly.graph_objects as go\n",
    "import networkx as nx\n",
    "\n",
    "def construct_and_visualize_graph(model_type, data_entries):\n",
    "    nodes = set()\n",
    "    relationships = []\n",
    "\n",
    "    if model_type == 'NER':\n",
    "        entities = extract_entities(data_entries)\n",
    "        for entity in entities:\n",
    "            nodes.add(entity[0])\n",
    "        for i in range(0, len(entities), 2):\n",
    "            if i + 1 < len(entities):\n",
    "                relationships.append((entities[i][0], 'RELATED_TO', entities[i + 1][0]))\n",
    "\n",
    "    elif model_type == 'RandomForest':\n",
    "        X, y = preprocess_ml_data(data_entries)\n",
    "        model = RandomForestClassifier()\n",
    "        model.fit(X, y)\n",
    "        for i, entry in enumerate(data_entries):\n",
    "            nodes.add(entry['geoAreaName'])\n",
    "            nodes.add(entry['indicator'][0])\n",
    "            relationships.append((entry['geoAreaName'], 'HAS_INDICATOR', entry['indicator'][0]))\n",
    "\n",
    "    elif model_type == 'GradientBoosting':\n",
    "        X, y = preprocess_ml_data(data_entries)\n",
    "        model = GradientBoostingClassifier()\n",
    "        model.fit(X, y)\n",
    "        for i, entry in enumerate(data_entries):\n",
    "            nodes.add(entry['geoAreaName'])\n",
    "            nodes.add(entry['indicator'][0])\n",
    "            relationships.append((entry['geoAreaName'], 'HAS_INDICATOR', entry['indicator'][0]))\n",
    "\n",
    "    elif model_type == 'CNN':\n",
    "        train_texts, train_labels = preprocess_cnn_data(data_entries)\n",
    "        train_sequences, tokenizer = tokenize_and_pad(train_texts)\n",
    "        model = create_cnn_model()\n",
    "        model.fit(train_sequences, np.array(train_labels), epochs=5, batch_size=32, verbose=2)\n",
    "        for i, entry in enumerate(data_entries):\n",
    "            nodes.add(entry['geoAreaName'])\n",
    "            nodes.add(entry['indicator'][0])\n",
    "            relationships.append((entry['geoAreaName'], 'HAS_INDICATOR', entry['indicator'][0]))\n",
    "\n",
    "    G = nx.Graph()\n",
    "    for node in nodes:\n",
    "        G.add_node(node)\n",
    "    for relationship in relationships:\n",
    "        G.add_edge(relationship[0], relationship[2], label=relationship[1])\n",
    "\n",
    "    pos = nx.spring_layout(G, k=0.5)\n",
    "    edge_x = []\n",
    "    edge_y = []\n",
    "    for edge in G.edges():\n",
    "        x0, y0 = pos[edge[0]]\n",
    "        x1, y1 = pos[edge[1]]\n",
    "        edge_x.append(x0)\n",
    "        edge_x.append(x1)\n",
    "        edge_x.append(None)\n",
    "        edge_y.append(y0)\n",
    "        edge_y.append(y1)\n",
    "        edge_y.append(None)\n",
    "\n",
    "    edge_trace = go.Scatter(\n",
    "        x=edge_x, y=edge_y,\n",
    "        line=dict(width=0.5, color='#888'),\n",
    "        hoverinfo='none',\n",
    "        mode='lines')\n",
    "\n",
    "    node_x = []\n",
    "    node_y = []\n",
    "    node_text = []\n",
    "    for node in G.nodes():\n",
    "        x, y = pos[node]\n",
    "        node_x.append(x)\n",
    "        node_y.append(y)\n",
    "        node_text.append(node)\n",
    "\n",
    "    node_trace = go.Scatter(\n",
    "        x=node_x, y=node_y,\n",
    "        mode='markers+text',\n",
    "        hoverinfo='text',\n",
    "        marker=dict(\n",
    "            showscale=True,\n",
    "            colorscale='YlGnBu',\n",
    "            size=10,\n",
    "            colorbar=dict(\n",
    "                thickness=15,\n",
    "                title='Node Connections',\n",
    "                xanchor='left',\n",
    "                titleside='right'\n",
    "            ),\n",
    "            line_width=2),\n",
    "        text=node_text,\n",
    "        textposition=\"bottom center\")\n",
    "\n",
    "    fig = go.Figure(data=[edge_trace, node_trace],\n",
    "                    layout=go.Layout(\n",
    "                        title=f'Knowledge Graph Visualization ({model_type} Model)',\n",
    "                        titlefont_size=16,\n",
    "                        showlegend=False,\n",
    "                        hovermode='closest',\n",
    "                        margin=dict(b=20, l=5, r=5, t=40),\n",
    "                        annotations=[dict(\n",
    "                            text=\"Python code by Plotly\",\n",
    "                            showarrow=False,\n",
    "                            xref=\"paper\", yref=\"paper\",\n",
    "                            x=0.005, y=-0.002)],\n",
    "                        xaxis=dict(showgrid=False, zeroline=False),\n",
    "                        yaxis=dict(showgrid=False, zeroline=False))\n",
    "                    )\n",
    "    fig.show()\n",
    "\n",
    "# Example usage\n",
    "construct_and_visualize_graph('NER', data_entries)\n",
    "# construct_and_visualize_graph('RandomForest', data_entries)\n",
    "# construct_and_visualize_graph('GradientBoosting', data_entries)\n",
    "# construct_and_visualize_graph('CNN', data_entries)\n"
   ]
  }
 ],
 "metadata": {
  "kaggle": {
   "accelerator": "nvidiaTeslaT4",
   "dataSources": [
    {
     "datasetId": 5226037,
     "sourceId": 8711495,
     "sourceType": "datasetVersion"
    }
   ],
   "dockerImageVersionId": 30733,
   "isGpuEnabled": true,
   "isInternetEnabled": true,
   "language": "python",
   "sourceType": "notebook"
  },
  "kernelspec": {
   "display_name": "Python 3 (ipykernel)",
   "language": "python",
   "name": "python3"
  },
  "language_info": {
   "codemirror_mode": {
    "name": "ipython",
    "version": 3
   },
   "file_extension": ".py",
   "mimetype": "text/x-python",
   "name": "python",
   "nbconvert_exporter": "python",
   "pygments_lexer": "ipython3",
   "version": "3.11.7"
  }
 },
 "nbformat": 4,
 "nbformat_minor": 4
}
